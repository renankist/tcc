{
 "cells": [
  {
   "cell_type": "markdown",
   "metadata": {},
   "source": [
    "# 1. Importação das bilbiotecas necessárias\n"
   ]
  },
  {
   "cell_type": "code",
   "execution_count": 2,
   "metadata": {},
   "outputs": [],
   "source": [
    "# Importando o pandas\n",
    "import pandas as pd\n",
    "\n",
    "# Importando biblioteca para trabalhar com o MongoDB\n",
    "import pymongo as pym\n",
    "\n",
    "# Importando o numpy para trabalhar com cálculos matemáticos\n",
    "import numpy as np\n",
    "\n",
    "#Importando o seaborn e o matplotlib para análises gráficas\n",
    "import seaborn as sns\n",
    "import matplotlib.pyplot as plt"
   ]
  },
  {
   "cell_type": "markdown",
   "metadata": {},
   "source": [
    "# 2. Dados dos Alunos"
   ]
  },
  {
   "cell_type": "code",
   "execution_count": 3,
   "metadata": {},
   "outputs": [],
   "source": [
    "# Como o arquivo dos alunos é maior, \n",
    "#a seleção das colunas utilizadas será feita  antes da importação do csv\n",
    "colunas = ['CO_IES','CO_CURSO','ID_ALUNO','CO_ALUNO_CURSO',\n",
    "          'TP_COR_RACA','TP_SEXO','NU_IDADE','TP_NACIONALIDADE','IN_DEFICIENCIA',\n",
    "          'TP_SITUACAO','IN_INGRESSO_ENEM','IN_FINANCIAMENTO_ESTUDANTIL',\n",
    "           'IN_FIN_NAOREEMB_PROUNI_PARCIAL','IN_FIN_NAOREEMB_PROUNI_INTEGR',\n",
    "          'TP_ESCOLA_CONCLUSAO_ENS_MEDIO','IN_MOBILIDADE_ACADEMICA']"
   ]
  },
  {
   "cell_type": "markdown",
   "metadata": {},
   "source": [
    "## 2.1 Pegando os alunos por sexo"
   ]
  },
  {
   "cell_type": "code",
   "execution_count": 4,
   "metadata": {},
   "outputs": [],
   "source": [
    "array_df = []\n",
    "for chunk in pd.read_csv('../data/SUP_ALUNO_2019.CSV', sep=\"|\", encoding=\"latin-1\", usecols=colunas, chunksize = 10000):\n",
    "    temp_df = chunk.loc[chunk['TP_SITUACAO'] == 3]\n",
    "    array_df.append(temp_df)\n",
    "\n",
    "alunos = pd.concat(array_df, ignore_index=True)\n",
    "\n",
    "\n",
    "## alunos = pd.read_csv('../data/SUP_ALUNO_2019.CSV', sep=\"|\", encoding=\"latin-1\", usecols=colunas)"
   ]
  },
  {
   "cell_type": "code",
   "execution_count": null,
   "metadata": {},
   "outputs": [],
   "source": [
    "# Verificando a quantidade de linhas e colunas do arquivo \n",
    "alunos.shape"
   ]
  },
  {
   "cell_type": "code",
   "execution_count": null,
   "metadata": {},
   "outputs": [],
   "source": [
    "# Verificando as 5 primeiras linhas do arquivo\n",
    "alunos.head()"
   ]
  },
  {
   "cell_type": "code",
   "execution_count": null,
   "metadata": {},
   "outputs": [],
   "source": [
    "# Verificando o tipo de cada coluna\n",
    "alunos.dtypes"
   ]
  },
  {
   "cell_type": "markdown",
   "metadata": {},
   "source": [
    "## 2.2  Tratando os dados do dataset"
   ]
  },
  {
   "cell_type": "code",
   "execution_count": null,
   "metadata": {},
   "outputs": [],
   "source": [
    "## Verificando a quantidade de valores nulos por coluna\n",
    "alunos.isnull().sum()"
   ]
  },
  {
   "cell_type": "code",
   "execution_count": null,
   "metadata": {},
   "outputs": [],
   "source": [
    "# De financiamento para 2, para depois alterar o 2 para \"Não informado\"\n",
    "alunos['IN_FINANCIAMENTO_ESTUDANTIL'].fillna(value='2', inplace=True)\n",
    "alunos['IN_FIN_NAOREEMB_PROUNI_INTEGR'].fillna(value='2', inplace=True)\n",
    "alunos['IN_FIN_NAOREEMB_PROUNI_PARCIAL'].fillna(value='2', inplace=True)\n",
    "\n",
    "# Alterando para 0 os mobilidade acadêmica nulos\n",
    "alunos['IN_MOBILIDADE_ACADEMICA'].fillna(value='0', inplace=True)"
   ]
  },
  {
   "cell_type": "markdown",
   "metadata": {},
   "source": [
    "# 3 Dados das IES"
   ]
  },
  {
   "cell_type": "code",
   "execution_count": null,
   "metadata": {},
   "outputs": [],
   "source": [
    "# Como cada linha do arquivo de alunos é vinculado a uma IES via código da IES, é necessário\n",
    "# realizar a carga dos dados das IES e inserir em cada aluno "
   ]
  },
  {
   "cell_type": "markdown",
   "metadata": {},
   "source": [
    "# 3.1 Carga do arquivo e dados inicial"
   ]
  },
  {
   "cell_type": "code",
   "execution_count": null,
   "metadata": {},
   "outputs": [],
   "source": [
    "# Lendo o arquivo CSV disponível nos microdados do Censo da Educação Superior e gravando\n",
    "# ele em um DataFrame\n",
    "ies = pd.read_csv('../data/SUP_IES_2019.CSV', sep=\"|\", encoding=\"latin-1\")"
   ]
  },
  {
   "cell_type": "code",
   "execution_count": null,
   "metadata": {},
   "outputs": [],
   "source": [
    "# Mostrando a quantidade de linhas e colunas do DataFrame \n",
    "print(\"Quantidade de linhas:\",ies.shape[0])\n",
    "print(\"Quantidade de colunas:\",ies.shape[1])"
   ]
  },
  {
   "cell_type": "code",
   "execution_count": null,
   "metadata": {},
   "outputs": [],
   "source": [
    "# Importando arquivo de cidades do IBGE que servirá para popular o endereço das IES\n",
    "colunas = ['codigo_ibge','NO_MUNICIPIO','LAT_MUNICIPIO','LON_MUNICIPIO','CO_UF','SG_UF','NO_UF']\n",
    "municipios = pd.read_csv('../data/municipios.csv', sep=\",\", header=0, names=colunas)"
   ]
  },
  {
   "cell_type": "code",
   "execution_count": null,
   "metadata": {},
   "outputs": [],
   "source": [
    "# Removendo colunas desnecessárias\n",
    "municipios.drop(['CO_UF'], axis=1, inplace = True)"
   ]
  },
  {
   "cell_type": "markdown",
   "metadata": {},
   "source": [
    "## 3.2 Tratando os dados do dataset"
   ]
  },
  {
   "cell_type": "code",
   "execution_count": null,
   "metadata": {},
   "outputs": [],
   "source": [
    "# Criando um DataFrame somente com as colunas de endereço das IES \n",
    "# E outro com as colunas consideradas na estrutura do trabalho\n",
    "endereco_ies = ies[{'CO_REGIAO','CO_UF','CO_MUNICIPIO','IN_CAPITAL'}]\n",
    "\n",
    "ies = ies[{'CO_IES','NO_IES','SG_IES',\n",
    "           'TP_CATEGORIA_ADMINISTRATIVA',\n",
    "           'TP_ORGANIZACAO_ACADEMICA','QT_TEC_TOTAL'}]"
   ]
  },
  {
   "cell_type": "code",
   "execution_count": null,
   "metadata": {},
   "outputs": [],
   "source": [
    "# Adicionando uma coluna Endereco no DataFrame das IES, pois por padrão\n",
    "# essa coluna não existe\n",
    "ies['ENDERECO'] = \"\""
   ]
  },
  {
   "cell_type": "code",
   "execution_count": null,
   "metadata": {},
   "outputs": [],
   "source": [
    "## Categorizando o IN_CAPITAL do endereco \n",
    "# 1) Alterando o tipo dos dados int, para object (string)\n",
    "endereco_ies['IN_CAPITAL'] = endereco_ies['IN_CAPITAL'].apply(str)"
   ]
  },
  {
   "cell_type": "code",
   "execution_count": null,
   "metadata": {},
   "outputs": [],
   "source": [
    "# Alterando os valores por suas respectivas categorias  \n",
    "# 2) IN CAPITAL 0: Não; 1: Sim. \n",
    "endereco_ies.loc[endereco_ies['IN_CAPITAL'] == '0', 'IN_CAPITAL'] = 'Não'\n",
    "endereco_ies.loc[endereco_ies['IN_CAPITAL'] == '1', 'IN_CAPITAL'] = 'Sim'"
   ]
  },
  {
   "cell_type": "code",
   "execution_count": null,
   "metadata": {},
   "outputs": [],
   "source": [
    "# fazendo um merge de endereço com municipios\n",
    "endereco_ies = endereco_ies.merge(municipios, how='left', left_on='CO_MUNICIPIO', right_on='codigo_ibge')"
   ]
  },
  {
   "cell_type": "code",
   "execution_count": null,
   "metadata": {},
   "outputs": [],
   "source": [
    "# Removendo colunas desnecessárias\n",
    "endereco_ies.drop(['codigo_ibge'], axis=1, inplace = True)"
   ]
  },
  {
   "cell_type": "code",
   "execution_count": null,
   "metadata": {},
   "outputs": [],
   "source": [
    "# Resultado da junção de endereço e municipios\n",
    "endereco_ies.head(3)"
   ]
  },
  {
   "cell_type": "code",
   "execution_count": null,
   "metadata": {},
   "outputs": [],
   "source": [
    "endereco_ies.isnull().sum()"
   ]
  },
  {
   "cell_type": "code",
   "execution_count": null,
   "metadata": {},
   "outputs": [],
   "source": [
    "endereco_ies.shape"
   ]
  },
  {
   "cell_type": "code",
   "execution_count": null,
   "metadata": {},
   "outputs": [],
   "source": [
    "# Criando um dicionário do Python a partir do DataFrame de enderecos\n",
    "endereco_ies_dict = endereco_ies.to_dict('records')"
   ]
  },
  {
   "cell_type": "code",
   "execution_count": null,
   "metadata": {},
   "outputs": [],
   "source": [
    "# Adicionando um endereco (através do dicionário criado no passo anterior)\n",
    "# e inserindo na coluna \"ENDERECO\" de cada IES\n",
    "for i in ies.index:\n",
    "    ies.at[i,'ENDERECO'] = endereco_ies_dict[i]  "
   ]
  },
  {
   "cell_type": "code",
   "execution_count": null,
   "metadata": {},
   "outputs": [],
   "source": [
    "ies.isnull().sum()"
   ]
  },
  {
   "cell_type": "code",
   "execution_count": null,
   "metadata": {},
   "outputs": [],
   "source": [
    "# Alterando os valores nulos da sigla da IES para 'Sem sigla'.\n",
    "ies['SG_IES'].fillna('Sem SIGLA', inplace = True)"
   ]
  },
  {
   "cell_type": "code",
   "execution_count": null,
   "metadata": {},
   "outputs": [],
   "source": [
    "# 1) Alterando o tipo dos dados int, para object (string)\n",
    "ies['TP_CATEGORIA_ADMINISTRATIVA'] = ies['TP_CATEGORIA_ADMINISTRATIVA'].apply(str)\n",
    "ies['TP_ORGANIZACAO_ACADEMICA'] = ies['TP_ORGANIZACAO_ACADEMICA'].apply(str)\n"
   ]
  },
  {
   "cell_type": "code",
   "execution_count": null,
   "metadata": {},
   "outputs": [],
   "source": [
    "# Alterando os valores por suas respectivas categorias  \n",
    "# 2) TP_CATEGORIA_ADMINISTRATIVA: 1: Pública Federal; 2: Pública Federal; \n",
    "# 3: Pùblica Municipal; 4: Privada com fins lucrativos; 5: Privada sem fins lucrativos;\n",
    "# 6: Privada - Particular em sentido estrito; 7: Especial\n",
    "# 8: Privada comunitária; 9: Privada confessional.  \n",
    "ies.loc[ies['TP_CATEGORIA_ADMINISTRATIVA'] == '1', 'TP_CATEGORIA_ADMINISTRATIVA'] = 'Pública Federal'\n",
    "ies.loc[ies['TP_CATEGORIA_ADMINISTRATIVA'] == '2', 'TP_CATEGORIA_ADMINISTRATIVA'] = 'Pública Federal'\n",
    "ies.loc[ies['TP_CATEGORIA_ADMINISTRATIVA'] == '3', 'TP_CATEGORIA_ADMINISTRATIVA'] = 'Pública Municipal'\n",
    "ies.loc[ies['TP_CATEGORIA_ADMINISTRATIVA'] == '4', 'TP_CATEGORIA_ADMINISTRATIVA'] = 'Privada com fins lucrativo'\n",
    "ies.loc[ies['TP_CATEGORIA_ADMINISTRATIVA'] == '5', 'TP_CATEGORIA_ADMINISTRATIVA'] = 'Privada sem fins lucrativos'\n",
    "ies.loc[ies['TP_CATEGORIA_ADMINISTRATIVA'] == '6', 'TP_CATEGORIA_ADMINISTRATIVA'] = 'Privada - Particular em sentido estrito'\n",
    "ies.loc[ies['TP_CATEGORIA_ADMINISTRATIVA'] == '7', 'TP_CATEGORIA_ADMINISTRATIVA'] = 'Especial'\n",
    "ies.loc[ies['TP_CATEGORIA_ADMINISTRATIVA'] == '8', 'TP_CATEGORIA_ADMINISTRATIVA'] = 'Privada comunitária'\n",
    "ies.loc[ies['TP_CATEGORIA_ADMINISTRATIVA'] == '9', 'TP_CATEGORIA_ADMINISTRATIVA'] = 'Privada confessional'\n",
    "\n",
    "# 2) TP_ORGANIZACAO_ACADEMICA: 1: Universidade; 2: Centro Universitário; \n",
    "# 3: Faculdade; 4: Instituto Federal de Educação Ciência e Tecnologia; \n",
    "# 5: Centro Federal de Educação Tecnológica\n",
    "  \n",
    "ies.loc[ies['TP_ORGANIZACAO_ACADEMICA'] == '1', 'TP_ORGANIZACAO_ACADEMICA'] = 'Universidade'\n",
    "ies.loc[ies['TP_ORGANIZACAO_ACADEMICA'] == '2', 'TP_ORGANIZACAO_ACADEMICA'] = 'Centro Universitário'\n",
    "ies.loc[ies['TP_ORGANIZACAO_ACADEMICA'] == '3', 'TP_ORGANIZACAO_ACADEMICA'] = 'Faculdade'\n",
    "ies.loc[ies['TP_ORGANIZACAO_ACADEMICA'] == '4', 'TP_ORGANIZACAO_ACADEMICA'] = 'Instituto Federal de Educação Ciência e Tecnologia'\n",
    "ies.loc[ies['TP_ORGANIZACAO_ACADEMICA'] == '5', 'TP_ORGANIZACAO_ACADEMICA'] = 'Centro Federal de Educação Tecnológica'\n"
   ]
  },
  {
   "cell_type": "markdown",
   "metadata": {},
   "source": [
    "# 4 Juntando o DataSet de Alunos com o de IES"
   ]
  },
  {
   "cell_type": "code",
   "execution_count": null,
   "metadata": {},
   "outputs": [],
   "source": [
    "alunos = alunos.merge(ies, how='left', left_on='CO_IES', right_on='CO_IES')"
   ]
  },
  {
   "cell_type": "code",
   "execution_count": null,
   "metadata": {},
   "outputs": [],
   "source": [
    "alunos.head()"
   ]
  },
  {
   "cell_type": "code",
   "execution_count": null,
   "metadata": {},
   "outputs": [],
   "source": [
    "alunos.isnull().sum()"
   ]
  },
  {
   "cell_type": "code",
   "execution_count": null,
   "metadata": {},
   "outputs": [],
   "source": [
    "alunos_ies = alunos[{'CO_IES','TP_CATEGORIA_ADMINISTRATIVA','QT_TEC_TOTAL','NO_IES','SG_IES','TP_ORGANIZACAO_ACADEMICA','ENDERECO'}]"
   ]
  },
  {
   "cell_type": "code",
   "execution_count": null,
   "metadata": {},
   "outputs": [],
   "source": [
    "alunos.drop({'CO_IES','TP_CATEGORIA_ADMINISTRATIVA','QT_TEC_TOTAL','NO_IES','SG_IES','TP_ORGANIZACAO_ACADEMICA','ENDERECO'}, axis=1, inplace = True)"
   ]
  },
  {
   "cell_type": "code",
   "execution_count": null,
   "metadata": {},
   "outputs": [],
   "source": [
    "alunos['IES'] = \"\""
   ]
  },
  {
   "cell_type": "code",
   "execution_count": null,
   "metadata": {},
   "outputs": [],
   "source": [
    "# Criando um dicionário do Python a partir do DataSet de docentes_ies\n",
    "alunos_ies_dict = alunos_ies.to_dict('records')"
   ]
  },
  {
   "cell_type": "code",
   "execution_count": null,
   "metadata": {},
   "outputs": [],
   "source": [
    "# Adicionando uma ies (através do dicionário criado no passo anterior)\n",
    "# e inserindo na coluna \"ENDERECO\" de cada aluno\n",
    "for x in alunos.index:\n",
    "    alunos.at[x,'IES'] = alunos_ies_dict[x]  "
   ]
  },
  {
   "cell_type": "code",
   "execution_count": null,
   "metadata": {},
   "outputs": [],
   "source": [
    "alunos.shape"
   ]
  },
  {
   "cell_type": "code",
   "execution_count": null,
   "metadata": {},
   "outputs": [],
   "source": [
    "alunos.head(2)"
   ]
  },
  {
   "cell_type": "markdown",
   "metadata": {},
   "source": [
    "# 5 Dados de Cursos"
   ]
  },
  {
   "cell_type": "markdown",
   "metadata": {},
   "source": [
    "#  5.1 Carga do arquivo e dados iniciais "
   ]
  },
  {
   "cell_type": "code",
   "execution_count": 1,
   "metadata": {},
   "outputs": [
    {
     "ename": "NameError",
     "evalue": "name 'pd' is not defined",
     "output_type": "error",
     "traceback": [
      "\u001b[0;31m---------------------------------------------------------------------------\u001b[0m",
      "\u001b[0;31mNameError\u001b[0m                                 Traceback (most recent call last)",
      "\u001b[0;32m<ipython-input-1-cad8fc97ec62>\u001b[0m in \u001b[0;36m<module>\u001b[0;34m\u001b[0m\n\u001b[1;32m      1\u001b[0m \u001b[0;31m# Lendo o arquivo CSV disponível nos microdados do Censo da Educação Superior e gravando\u001b[0m\u001b[0;34m\u001b[0m\u001b[0;34m\u001b[0m\u001b[0;34m\u001b[0m\u001b[0m\n\u001b[1;32m      2\u001b[0m \u001b[0;31m# ele em um DataFrame\u001b[0m\u001b[0;34m\u001b[0m\u001b[0;34m\u001b[0m\u001b[0;34m\u001b[0m\u001b[0m\n\u001b[0;32m----> 3\u001b[0;31m \u001b[0mcursos\u001b[0m \u001b[0;34m=\u001b[0m \u001b[0mpd\u001b[0m\u001b[0;34m.\u001b[0m\u001b[0mread_csv\u001b[0m\u001b[0;34m(\u001b[0m\u001b[0;34m'../data/SUP_CURSO_2019.CSV'\u001b[0m\u001b[0;34m,\u001b[0m \u001b[0msep\u001b[0m\u001b[0;34m=\u001b[0m\u001b[0;34m\"|\"\u001b[0m\u001b[0;34m,\u001b[0m \u001b[0mencoding\u001b[0m\u001b[0;34m=\u001b[0m\u001b[0;34m\"latin-1\"\u001b[0m\u001b[0;34m)\u001b[0m\u001b[0;34m\u001b[0m\u001b[0;34m\u001b[0m\u001b[0m\n\u001b[0m",
      "\u001b[0;31mNameError\u001b[0m: name 'pd' is not defined"
     ]
    }
   ],
   "source": [
    "# Lendo o arquivo CSV disponível nos microdados do Censo da Educação Superior e gravando\n",
    "# ele em um DataFrame\n",
    "cursos = pd.read_csv('../data/SUP_CURSO_2019.CSV', sep=\"|\", encoding=\"latin-1\")"
   ]
  },
  {
   "cell_type": "markdown",
   "metadata": {},
   "source": [
    "# 6. Envio dos dados para o mongoDB"
   ]
  },
  {
   "cell_type": "code",
   "execution_count": null,
   "metadata": {},
   "outputs": [],
   "source": [
    "# Criando a conexão com o mongoDB\n",
    "client = pym.MongoClient('mongodb://localhost:27017/')\n",
    "\n",
    "# Acessando a base de dados criada para o teste\n",
    "db = client['censo']\n",
    "\n",
    "# Acessando a coleção curso dentro da base de dados censo  \n",
    "collection_cursos=  db['alunos']"
   ]
  },
  {
   "cell_type": "code",
   "execution_count": null,
   "metadata": {},
   "outputs": [],
   "source": [
    "# Transformando o DataSet dos cursos em um dicionario com o objetivo\n",
    "# de salvar ele no MongoDB, pois o banco não aceita estruturas do tipo DataFrame\n",
    "alunos_dict = alunos.to_dict('records')"
   ]
  },
  {
   "cell_type": "code",
   "execution_count": null,
   "metadata": {},
   "outputs": [],
   "source": [
    "# Enviando os dados para o MongoDB\n",
    "collection_cursos.insert_many(alunos_dict)"
   ]
  }
 ],
 "metadata": {
  "kernelspec": {
   "display_name": "Python 3",
   "language": "python",
   "name": "python3"
  },
  "language_info": {
   "codemirror_mode": {
    "name": "ipython",
    "version": 3
   },
   "file_extension": ".py",
   "mimetype": "text/x-python",
   "name": "python",
   "nbconvert_exporter": "python",
   "pygments_lexer": "ipython3",
   "version": "3.7.6"
  }
 },
 "nbformat": 4,
 "nbformat_minor": 4
}

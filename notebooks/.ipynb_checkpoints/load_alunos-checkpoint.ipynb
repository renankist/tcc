{
 "cells": [
  {
   "cell_type": "markdown",
   "metadata": {},
   "source": [
    "# 1. Importação das bilbiotecas necessárias\n"
   ]
  },
  {
   "cell_type": "code",
   "execution_count": 1,
   "metadata": {},
   "outputs": [],
   "source": [
    "# Importando o pandas\n",
    "import pandas as pd\n",
    "\n",
    "# Importando biblioteca para trabalhar com o MongoDB\n",
    "import pymongo as pym\n",
    "\n",
    "# Importando o numpy para trabalhar com cálculos matemáticos\n",
    "import numpy as np\n",
    "\n",
    "#Importando o seaborn e o matplotlib para análises gráficas\n",
    "import seaborn as sns\n",
    "import matplotlib.pyplot as plt"
   ]
  },
  {
   "cell_type": "markdown",
   "metadata": {},
   "source": [
    "# 2. Dados dos Alunos"
   ]
  },
  {
   "cell_type": "code",
   "execution_count": 2,
   "metadata": {},
   "outputs": [],
   "source": [
    "# Como o arquivo dos alunos é maior, \n",
    "#a seleção das colunas utilizadas será feita  antes da importação do csv\n",
    "colunas = ['CO_IES','CO_CURSO','ID_ALUNO','CO_ALUNO_CURSO',\n",
    "          'TP_COR_RACA','TP_SEXO','NU_IDADE','TP_NACIONALIDADE','IN_DEFICIENCIA',\n",
    "          'TP_SITUACAO','IN_INGRESSO_ENEM','IN_FINANCIAMENTO_ESTUDANTIL',\n",
    "           'IN_FIN_NAOREEMB_PROUNI_PARCIAL','IN_FIN_NAOREEMB_PROUNI_INTEGR',\n",
    "          'TP_ESCOLA_CONCLUSAO_ENS_MEDIO','IN_MOBILIDADE_ACADEMICA']"
   ]
  },
  {
   "cell_type": "markdown",
   "metadata": {},
   "source": [
    "## 2.1 Pegando os alunos por sexo"
   ]
  },
  {
   "cell_type": "code",
   "execution_count": 3,
   "metadata": {},
   "outputs": [],
   "source": [
    "array_df = []\n",
    "for chunk in pd.read_csv('../data/SUP_ALUNO_2019.CSV', sep=\"|\", encoding=\"latin-1\", usecols=colunas, chunksize = 10000):\n",
    "    temp_df = chunk.loc[chunk['TP_SITUACAO'] == 4]\n",
    "    array_df.append(temp_df)\n",
    "\n",
    "alunos = pd.concat(array_df, ignore_index=True)\n",
    "\n",
    "\n",
    "## alunos = pd.read_csv('../data/SUP_ALUNO_2019.CSV', sep=\"|\", encoding=\"latin-1\", usecols=colunas)"
   ]
  },
  {
   "cell_type": "code",
   "execution_count": 4,
   "metadata": {},
   "outputs": [
    {
     "data": {
      "text/plain": [
       "(1328972, 16)"
      ]
     },
     "execution_count": 4,
     "metadata": {},
     "output_type": "execute_result"
    }
   ],
   "source": [
    "# Verificando a quantidade de linhas e colunas do arquivo \n",
    "alunos.shape"
   ]
  },
  {
   "cell_type": "code",
   "execution_count": 5,
   "metadata": {},
   "outputs": [
    {
     "data": {
      "text/html": [
       "<div>\n",
       "<style scoped>\n",
       "    .dataframe tbody tr th:only-of-type {\n",
       "        vertical-align: middle;\n",
       "    }\n",
       "\n",
       "    .dataframe tbody tr th {\n",
       "        vertical-align: top;\n",
       "    }\n",
       "\n",
       "    .dataframe thead th {\n",
       "        text-align: right;\n",
       "    }\n",
       "</style>\n",
       "<table border=\"1\" class=\"dataframe\">\n",
       "  <thead>\n",
       "    <tr style=\"text-align: right;\">\n",
       "      <th></th>\n",
       "      <th>CO_IES</th>\n",
       "      <th>CO_CURSO</th>\n",
       "      <th>ID_ALUNO</th>\n",
       "      <th>CO_ALUNO_CURSO</th>\n",
       "      <th>TP_COR_RACA</th>\n",
       "      <th>TP_SEXO</th>\n",
       "      <th>NU_IDADE</th>\n",
       "      <th>TP_NACIONALIDADE</th>\n",
       "      <th>IN_DEFICIENCIA</th>\n",
       "      <th>TP_SITUACAO</th>\n",
       "      <th>IN_INGRESSO_ENEM</th>\n",
       "      <th>IN_FINANCIAMENTO_ESTUDANTIL</th>\n",
       "      <th>IN_FIN_NAOREEMB_PROUNI_INTEGR</th>\n",
       "      <th>IN_FIN_NAOREEMB_PROUNI_PARCIAL</th>\n",
       "      <th>TP_ESCOLA_CONCLUSAO_ENS_MEDIO</th>\n",
       "      <th>IN_MOBILIDADE_ACADEMICA</th>\n",
       "    </tr>\n",
       "  </thead>\n",
       "  <tbody>\n",
       "    <tr>\n",
       "      <th>0</th>\n",
       "      <td>1</td>\n",
       "      <td>1</td>\n",
       "      <td>77996A099C3C7607E8AB1EF9BB1F4307</td>\n",
       "      <td>73959106</td>\n",
       "      <td>3</td>\n",
       "      <td>2</td>\n",
       "      <td>32</td>\n",
       "      <td>1</td>\n",
       "      <td>9</td>\n",
       "      <td>3</td>\n",
       "      <td>1</td>\n",
       "      <td>NaN</td>\n",
       "      <td>NaN</td>\n",
       "      <td>NaN</td>\n",
       "      <td>1</td>\n",
       "      <td>NaN</td>\n",
       "    </tr>\n",
       "    <tr>\n",
       "      <th>1</th>\n",
       "      <td>1</td>\n",
       "      <td>1</td>\n",
       "      <td>E76A3911B60AE52A1C43016A6B10A9F0</td>\n",
       "      <td>73964803</td>\n",
       "      <td>1</td>\n",
       "      <td>1</td>\n",
       "      <td>29</td>\n",
       "      <td>1</td>\n",
       "      <td>9</td>\n",
       "      <td>3</td>\n",
       "      <td>1</td>\n",
       "      <td>NaN</td>\n",
       "      <td>NaN</td>\n",
       "      <td>NaN</td>\n",
       "      <td>1</td>\n",
       "      <td>NaN</td>\n",
       "    </tr>\n",
       "    <tr>\n",
       "      <th>2</th>\n",
       "      <td>1</td>\n",
       "      <td>1</td>\n",
       "      <td>BC5A94C541677AFED2E3CDDCBEE20FAF</td>\n",
       "      <td>73956744</td>\n",
       "      <td>3</td>\n",
       "      <td>1</td>\n",
       "      <td>32</td>\n",
       "      <td>1</td>\n",
       "      <td>9</td>\n",
       "      <td>3</td>\n",
       "      <td>1</td>\n",
       "      <td>NaN</td>\n",
       "      <td>NaN</td>\n",
       "      <td>NaN</td>\n",
       "      <td>1</td>\n",
       "      <td>NaN</td>\n",
       "    </tr>\n",
       "    <tr>\n",
       "      <th>3</th>\n",
       "      <td>1</td>\n",
       "      <td>1</td>\n",
       "      <td>AB61850317E35196885EBF732C77C35E</td>\n",
       "      <td>73980633</td>\n",
       "      <td>3</td>\n",
       "      <td>1</td>\n",
       "      <td>44</td>\n",
       "      <td>1</td>\n",
       "      <td>9</td>\n",
       "      <td>3</td>\n",
       "      <td>0</td>\n",
       "      <td>NaN</td>\n",
       "      <td>NaN</td>\n",
       "      <td>NaN</td>\n",
       "      <td>2</td>\n",
       "      <td>NaN</td>\n",
       "    </tr>\n",
       "    <tr>\n",
       "      <th>4</th>\n",
       "      <td>1</td>\n",
       "      <td>1</td>\n",
       "      <td>51297186B91F6872503D6D2602366433</td>\n",
       "      <td>73980634</td>\n",
       "      <td>0</td>\n",
       "      <td>2</td>\n",
       "      <td>41</td>\n",
       "      <td>1</td>\n",
       "      <td>9</td>\n",
       "      <td>3</td>\n",
       "      <td>0</td>\n",
       "      <td>NaN</td>\n",
       "      <td>NaN</td>\n",
       "      <td>NaN</td>\n",
       "      <td>1</td>\n",
       "      <td>NaN</td>\n",
       "    </tr>\n",
       "  </tbody>\n",
       "</table>\n",
       "</div>"
      ],
      "text/plain": [
       "   CO_IES  CO_CURSO                          ID_ALUNO  CO_ALUNO_CURSO  \\\n",
       "0       1         1  77996A099C3C7607E8AB1EF9BB1F4307        73959106   \n",
       "1       1         1  E76A3911B60AE52A1C43016A6B10A9F0        73964803   \n",
       "2       1         1  BC5A94C541677AFED2E3CDDCBEE20FAF        73956744   \n",
       "3       1         1  AB61850317E35196885EBF732C77C35E        73980633   \n",
       "4       1         1  51297186B91F6872503D6D2602366433        73980634   \n",
       "\n",
       "   TP_COR_RACA  TP_SEXO  NU_IDADE  TP_NACIONALIDADE  IN_DEFICIENCIA  \\\n",
       "0            3        2        32                 1               9   \n",
       "1            1        1        29                 1               9   \n",
       "2            3        1        32                 1               9   \n",
       "3            3        1        44                 1               9   \n",
       "4            0        2        41                 1               9   \n",
       "\n",
       "   TP_SITUACAO  IN_INGRESSO_ENEM  IN_FINANCIAMENTO_ESTUDANTIL  \\\n",
       "0            3                 1                          NaN   \n",
       "1            3                 1                          NaN   \n",
       "2            3                 1                          NaN   \n",
       "3            3                 0                          NaN   \n",
       "4            3                 0                          NaN   \n",
       "\n",
       "   IN_FIN_NAOREEMB_PROUNI_INTEGR  IN_FIN_NAOREEMB_PROUNI_PARCIAL  \\\n",
       "0                            NaN                             NaN   \n",
       "1                            NaN                             NaN   \n",
       "2                            NaN                             NaN   \n",
       "3                            NaN                             NaN   \n",
       "4                            NaN                             NaN   \n",
       "\n",
       "   TP_ESCOLA_CONCLUSAO_ENS_MEDIO  IN_MOBILIDADE_ACADEMICA  \n",
       "0                              1                      NaN  \n",
       "1                              1                      NaN  \n",
       "2                              1                      NaN  \n",
       "3                              2                      NaN  \n",
       "4                              1                      NaN  "
      ]
     },
     "execution_count": 5,
     "metadata": {},
     "output_type": "execute_result"
    }
   ],
   "source": [
    "# Verificando as 5 primeiras linhas do arquivo\n",
    "alunos.head()"
   ]
  },
  {
   "cell_type": "code",
   "execution_count": 6,
   "metadata": {},
   "outputs": [
    {
     "data": {
      "text/plain": [
       "CO_IES                              int64\n",
       "CO_CURSO                            int64\n",
       "ID_ALUNO                           object\n",
       "CO_ALUNO_CURSO                      int64\n",
       "TP_COR_RACA                         int64\n",
       "TP_SEXO                             int64\n",
       "NU_IDADE                            int64\n",
       "TP_NACIONALIDADE                    int64\n",
       "IN_DEFICIENCIA                      int64\n",
       "TP_SITUACAO                         int64\n",
       "IN_INGRESSO_ENEM                    int64\n",
       "IN_FINANCIAMENTO_ESTUDANTIL       float64\n",
       "IN_FIN_NAOREEMB_PROUNI_INTEGR     float64\n",
       "IN_FIN_NAOREEMB_PROUNI_PARCIAL    float64\n",
       "TP_ESCOLA_CONCLUSAO_ENS_MEDIO       int64\n",
       "IN_MOBILIDADE_ACADEMICA           float64\n",
       "dtype: object"
      ]
     },
     "execution_count": 6,
     "metadata": {},
     "output_type": "execute_result"
    }
   ],
   "source": [
    "# Verificando o tipo de cada coluna\n",
    "alunos.dtypes"
   ]
  },
  {
   "cell_type": "markdown",
   "metadata": {},
   "source": [
    "## 2.2  Tratando os dados do dataset"
   ]
  },
  {
   "cell_type": "code",
   "execution_count": 7,
   "metadata": {},
   "outputs": [
    {
     "data": {
      "text/plain": [
       "CO_IES                                 0\n",
       "CO_CURSO                               0\n",
       "ID_ALUNO                               0\n",
       "CO_ALUNO_CURSO                         0\n",
       "TP_COR_RACA                            0\n",
       "TP_SEXO                                0\n",
       "NU_IDADE                               0\n",
       "TP_NACIONALIDADE                       0\n",
       "IN_DEFICIENCIA                         0\n",
       "TP_SITUACAO                            0\n",
       "IN_INGRESSO_ENEM                       0\n",
       "IN_FINANCIAMENTO_ESTUDANTIL       186802\n",
       "IN_FIN_NAOREEMB_PROUNI_INTEGR     998766\n",
       "IN_FIN_NAOREEMB_PROUNI_PARCIAL    998766\n",
       "TP_ESCOLA_CONCLUSAO_ENS_MEDIO          0\n",
       "IN_MOBILIDADE_ACADEMICA           112129\n",
       "dtype: int64"
      ]
     },
     "execution_count": 7,
     "metadata": {},
     "output_type": "execute_result"
    }
   ],
   "source": [
    "## Verificando a quantidade de valores nulos por coluna\n",
    "alunos.isnull().sum()"
   ]
  },
  {
   "cell_type": "code",
   "execution_count": 8,
   "metadata": {},
   "outputs": [],
   "source": [
    "# De financiamento para 2, para depois alterar o 2 para \"Não informado\"\n",
    "alunos['IN_FINANCIAMENTO_ESTUDANTIL'].fillna(value='2', inplace=True)\n",
    "alunos['IN_FIN_NAOREEMB_PROUNI_INTEGR'].fillna(value='2', inplace=True)\n",
    "alunos['IN_FIN_NAOREEMB_PROUNI_PARCIAL'].fillna(value='2', inplace=True)\n",
    "\n",
    "# Alterando para 0 os mobilidade acadêmica nulos\n",
    "alunos['IN_MOBILIDADE_ACADEMICA'].fillna(value='0', inplace=True)"
   ]
  },
  {
   "cell_type": "markdown",
   "metadata": {},
   "source": [
    "# 3 Dados das IES"
   ]
  },
  {
   "cell_type": "code",
   "execution_count": 9,
   "metadata": {},
   "outputs": [],
   "source": [
    "# Como cada linha do arquivo de alunos é vinculado a uma IES via código da IES, é necessário\n",
    "# realizar a carga dos dados das IES e inserir em cada aluno "
   ]
  },
  {
   "cell_type": "markdown",
   "metadata": {},
   "source": [
    "# 3.1 Carga do arquivo e dados inicial"
   ]
  },
  {
   "cell_type": "code",
   "execution_count": 13,
   "metadata": {},
   "outputs": [],
   "source": [
    "# Lendo o arquivo CSV disponível nos microdados do Censo da Educação Superior e gravando\n",
    "# ele em um DataFrame\n",
    "ies = pd.read_csv('../data/SUP_IES_2019.CSV', sep=\"|\", encoding=\"latin-1\")"
   ]
  },
  {
   "cell_type": "code",
   "execution_count": 14,
   "metadata": {},
   "outputs": [
    {
     "name": "stdout",
     "output_type": "stream",
     "text": [
      "Quantidade de linhas: 2608\n",
      "Quantidade de colunas: 48\n"
     ]
    }
   ],
   "source": [
    "# Mostrando a quantidade de linhas e colunas do DataFrame \n",
    "print(\"Quantidade de linhas:\",ies.shape[0])\n",
    "print(\"Quantidade de colunas:\",ies.shape[1])"
   ]
  },
  {
   "cell_type": "code",
   "execution_count": 15,
   "metadata": {},
   "outputs": [],
   "source": [
    "# Importando arquivo de cidades do IBGE que servirá para popular o endereço das IES\n",
    "colunas = ['codigo_ibge','NO_MUNICIPIO','LAT_MUNICIPIO','LON_MUNICIPIO','CO_UF','SG_UF','NO_UF']\n",
    "municipios = pd.read_csv('../data/municipios.csv', sep=\",\", header=0, names=colunas)"
   ]
  },
  {
   "cell_type": "code",
   "execution_count": 16,
   "metadata": {},
   "outputs": [],
   "source": [
    "# Removendo colunas desnecessárias\n",
    "municipios.drop(['CO_UF'], axis=1, inplace = True)"
   ]
  },
  {
   "cell_type": "markdown",
   "metadata": {},
   "source": [
    "## 3.2 Tratando os dados do dataset"
   ]
  },
  {
   "cell_type": "code",
   "execution_count": 17,
   "metadata": {},
   "outputs": [],
   "source": [
    "# Criando um DataFrame somente com as colunas de endereço das IES \n",
    "# E outro com as colunas consideradas na estrutura do trabalho\n",
    "endereco_ies = ies[{'CO_REGIAO','CO_UF','CO_MUNICIPIO','IN_CAPITAL'}]\n",
    "\n",
    "ies = ies[{'CO_IES','NO_IES','SG_IES',\n",
    "           'TP_CATEGORIA_ADMINISTRATIVA',\n",
    "           'TP_ORGANIZACAO_ACADEMICA','QT_TEC_TOTAL'}]"
   ]
  },
  {
   "cell_type": "code",
   "execution_count": 18,
   "metadata": {},
   "outputs": [],
   "source": [
    "# Adicionando uma coluna Endereco no DataFrame das IES, pois por padrão\n",
    "# essa coluna não existe\n",
    "ies['ENDERECO'] = \"\""
   ]
  },
  {
   "cell_type": "code",
   "execution_count": 19,
   "metadata": {},
   "outputs": [],
   "source": [
    "## Categorizando o IN_CAPITAL do endereco \n",
    "# 1) Alterando o tipo dos dados int, para object (string)\n",
    "endereco_ies['IN_CAPITAL'] = endereco_ies['IN_CAPITAL'].apply(str)"
   ]
  },
  {
   "cell_type": "code",
   "execution_count": 20,
   "metadata": {},
   "outputs": [],
   "source": [
    "# Alterando os valores por suas respectivas categorias  \n",
    "# 2) IN CAPITAL 0: Não; 1: Sim. \n",
    "endereco_ies.loc[endereco_ies['IN_CAPITAL'] == '0', 'IN_CAPITAL'] = 'Não'\n",
    "endereco_ies.loc[endereco_ies['IN_CAPITAL'] == '1', 'IN_CAPITAL'] = 'Sim'"
   ]
  },
  {
   "cell_type": "code",
   "execution_count": 21,
   "metadata": {},
   "outputs": [],
   "source": [
    "# fazendo um merge de endereço com municipios\n",
    "endereco_ies = endereco_ies.merge(municipios, how='left', left_on='CO_MUNICIPIO', right_on='codigo_ibge')"
   ]
  },
  {
   "cell_type": "code",
   "execution_count": 22,
   "metadata": {},
   "outputs": [],
   "source": [
    "# Removendo colunas desnecessárias\n",
    "endereco_ies.drop(['codigo_ibge'], axis=1, inplace = True)"
   ]
  },
  {
   "cell_type": "code",
   "execution_count": 23,
   "metadata": {},
   "outputs": [
    {
     "data": {
      "text/html": [
       "<div>\n",
       "<style scoped>\n",
       "    .dataframe tbody tr th:only-of-type {\n",
       "        vertical-align: middle;\n",
       "    }\n",
       "\n",
       "    .dataframe tbody tr th {\n",
       "        vertical-align: top;\n",
       "    }\n",
       "\n",
       "    .dataframe thead th {\n",
       "        text-align: right;\n",
       "    }\n",
       "</style>\n",
       "<table border=\"1\" class=\"dataframe\">\n",
       "  <thead>\n",
       "    <tr style=\"text-align: right;\">\n",
       "      <th></th>\n",
       "      <th>CO_REGIAO</th>\n",
       "      <th>CO_MUNICIPIO</th>\n",
       "      <th>IN_CAPITAL</th>\n",
       "      <th>CO_UF</th>\n",
       "      <th>NO_MUNICIPIO</th>\n",
       "      <th>LAT_MUNICIPIO</th>\n",
       "      <th>LON_MUNICIPIO</th>\n",
       "      <th>SG_UF</th>\n",
       "      <th>NO_UF</th>\n",
       "    </tr>\n",
       "  </thead>\n",
       "  <tbody>\n",
       "    <tr>\n",
       "      <th>0</th>\n",
       "      <td>5</td>\n",
       "      <td>5103403</td>\n",
       "      <td>Sim</td>\n",
       "      <td>51</td>\n",
       "      <td>Cuiabá</td>\n",
       "      <td>-15601.0000</td>\n",
       "      <td>-56.0974</td>\n",
       "      <td>MT</td>\n",
       "      <td>Mato Grosso</td>\n",
       "    </tr>\n",
       "    <tr>\n",
       "      <th>1</th>\n",
       "      <td>5</td>\n",
       "      <td>5300108</td>\n",
       "      <td>Sim</td>\n",
       "      <td>53</td>\n",
       "      <td>Brasília</td>\n",
       "      <td>-15.7795</td>\n",
       "      <td>-47.9297</td>\n",
       "      <td>DF</td>\n",
       "      <td>Distrito Federal</td>\n",
       "    </tr>\n",
       "    <tr>\n",
       "      <th>2</th>\n",
       "      <td>2</td>\n",
       "      <td>2806701</td>\n",
       "      <td>Não</td>\n",
       "      <td>28</td>\n",
       "      <td>São Cristóvão</td>\n",
       "      <td>-11.0084</td>\n",
       "      <td>-37.2044</td>\n",
       "      <td>SE</td>\n",
       "      <td>Sergipe</td>\n",
       "    </tr>\n",
       "  </tbody>\n",
       "</table>\n",
       "</div>"
      ],
      "text/plain": [
       "   CO_REGIAO  CO_MUNICIPIO IN_CAPITAL  CO_UF   NO_MUNICIPIO  LAT_MUNICIPIO  \\\n",
       "0          5       5103403        Sim     51         Cuiabá    -15601.0000   \n",
       "1          5       5300108        Sim     53       Brasília       -15.7795   \n",
       "2          2       2806701        Não     28  São Cristóvão       -11.0084   \n",
       "\n",
       "   LON_MUNICIPIO SG_UF             NO_UF  \n",
       "0       -56.0974    MT       Mato Grosso  \n",
       "1       -47.9297    DF  Distrito Federal  \n",
       "2       -37.2044    SE           Sergipe  "
      ]
     },
     "execution_count": 23,
     "metadata": {},
     "output_type": "execute_result"
    }
   ],
   "source": [
    "# Resultado da junção de endereço e municipios\n",
    "endereco_ies.head(3)"
   ]
  },
  {
   "cell_type": "code",
   "execution_count": 24,
   "metadata": {},
   "outputs": [
    {
     "data": {
      "text/plain": [
       "CO_REGIAO        0\n",
       "CO_MUNICIPIO     0\n",
       "IN_CAPITAL       0\n",
       "CO_UF            0\n",
       "NO_MUNICIPIO     0\n",
       "LAT_MUNICIPIO    0\n",
       "LON_MUNICIPIO    0\n",
       "SG_UF            0\n",
       "NO_UF            0\n",
       "dtype: int64"
      ]
     },
     "execution_count": 24,
     "metadata": {},
     "output_type": "execute_result"
    }
   ],
   "source": [
    "endereco_ies.isnull().sum()"
   ]
  },
  {
   "cell_type": "code",
   "execution_count": 25,
   "metadata": {},
   "outputs": [
    {
     "data": {
      "text/plain": [
       "(2608, 9)"
      ]
     },
     "execution_count": 25,
     "metadata": {},
     "output_type": "execute_result"
    }
   ],
   "source": [
    "endereco_ies.shape"
   ]
  },
  {
   "cell_type": "code",
   "execution_count": 26,
   "metadata": {},
   "outputs": [],
   "source": [
    "# Criando um dicionário do Python a partir do DataFrame de enderecos\n",
    "endereco_ies_dict = endereco_ies.to_dict('records')"
   ]
  },
  {
   "cell_type": "code",
   "execution_count": 27,
   "metadata": {},
   "outputs": [],
   "source": [
    "# Adicionando um endereco (através do dicionário criado no passo anterior)\n",
    "# e inserindo na coluna \"ENDERECO\" de cada IES\n",
    "for i in ies.index:\n",
    "    ies.at[i,'ENDERECO'] = endereco_ies_dict[i]  "
   ]
  },
  {
   "cell_type": "code",
   "execution_count": 28,
   "metadata": {},
   "outputs": [
    {
     "data": {
      "text/plain": [
       "TP_ORGANIZACAO_ACADEMICA         0\n",
       "TP_CATEGORIA_ADMINISTRATIVA      0\n",
       "SG_IES                         464\n",
       "CO_IES                           0\n",
       "NO_IES                           0\n",
       "QT_TEC_TOTAL                     0\n",
       "ENDERECO                         0\n",
       "dtype: int64"
      ]
     },
     "execution_count": 28,
     "metadata": {},
     "output_type": "execute_result"
    }
   ],
   "source": [
    "ies.isnull().sum()"
   ]
  },
  {
   "cell_type": "code",
   "execution_count": 29,
   "metadata": {},
   "outputs": [],
   "source": [
    "# Alterando os valores nulos da sigla da IES para 'Sem sigla'.\n",
    "ies['SG_IES'].fillna('Sem SIGLA', inplace = True)"
   ]
  },
  {
   "cell_type": "code",
   "execution_count": 30,
   "metadata": {},
   "outputs": [],
   "source": [
    "# 1) Alterando o tipo dos dados int, para object (string)\n",
    "ies['TP_CATEGORIA_ADMINISTRATIVA'] = ies['TP_CATEGORIA_ADMINISTRATIVA'].apply(str)\n",
    "ies['TP_ORGANIZACAO_ACADEMICA'] = ies['TP_ORGANIZACAO_ACADEMICA'].apply(str)\n"
   ]
  },
  {
   "cell_type": "code",
   "execution_count": 31,
   "metadata": {},
   "outputs": [],
   "source": [
    "# Alterando os valores por suas respectivas categorias  \n",
    "# 2) TP_CATEGORIA_ADMINISTRATIVA: 1: Pública Federal; 2: Pública Federal; \n",
    "# 3: Pùblica Municipal; 4: Privada com fins lucrativos; 5: Privada sem fins lucrativos;\n",
    "# 6: Privada - Particular em sentido estrito; 7: Especial\n",
    "# 8: Privada comunitária; 9: Privada confessional.  \n",
    "ies.loc[ies['TP_CATEGORIA_ADMINISTRATIVA'] == '1', 'TP_CATEGORIA_ADMINISTRATIVA'] = 'Pública Federal'\n",
    "ies.loc[ies['TP_CATEGORIA_ADMINISTRATIVA'] == '2', 'TP_CATEGORIA_ADMINISTRATIVA'] = 'Pública Federal'\n",
    "ies.loc[ies['TP_CATEGORIA_ADMINISTRATIVA'] == '3', 'TP_CATEGORIA_ADMINISTRATIVA'] = 'Pública Municipal'\n",
    "ies.loc[ies['TP_CATEGORIA_ADMINISTRATIVA'] == '4', 'TP_CATEGORIA_ADMINISTRATIVA'] = 'Privada com fins lucrativo'\n",
    "ies.loc[ies['TP_CATEGORIA_ADMINISTRATIVA'] == '5', 'TP_CATEGORIA_ADMINISTRATIVA'] = 'Privada sem fins lucrativos'\n",
    "ies.loc[ies['TP_CATEGORIA_ADMINISTRATIVA'] == '6', 'TP_CATEGORIA_ADMINISTRATIVA'] = 'Privada - Particular em sentido estrito'\n",
    "ies.loc[ies['TP_CATEGORIA_ADMINISTRATIVA'] == '7', 'TP_CATEGORIA_ADMINISTRATIVA'] = 'Especial'\n",
    "ies.loc[ies['TP_CATEGORIA_ADMINISTRATIVA'] == '8', 'TP_CATEGORIA_ADMINISTRATIVA'] = 'Privada comunitária'\n",
    "ies.loc[ies['TP_CATEGORIA_ADMINISTRATIVA'] == '9', 'TP_CATEGORIA_ADMINISTRATIVA'] = 'Privada confessional'\n",
    "\n",
    "# 2) TP_ORGANIZACAO_ACADEMICA: 1: Universidade; 2: Centro Universitário; \n",
    "# 3: Faculdade; 4: Instituto Federal de Educação Ciência e Tecnologia; \n",
    "# 5: Centro Federal de Educação Tecnológica\n",
    "  \n",
    "ies.loc[ies['TP_ORGANIZACAO_ACADEMICA'] == '1', 'TP_ORGANIZACAO_ACADEMICA'] = 'Universidade'\n",
    "ies.loc[ies['TP_ORGANIZACAO_ACADEMICA'] == '2', 'TP_ORGANIZACAO_ACADEMICA'] = 'Centro Universitário'\n",
    "ies.loc[ies['TP_ORGANIZACAO_ACADEMICA'] == '3', 'TP_ORGANIZACAO_ACADEMICA'] = 'Faculdade'\n",
    "ies.loc[ies['TP_ORGANIZACAO_ACADEMICA'] == '4', 'TP_ORGANIZACAO_ACADEMICA'] = 'Instituto Federal de Educação Ciência e Tecnologia'\n",
    "ies.loc[ies['TP_ORGANIZACAO_ACADEMICA'] == '5', 'TP_ORGANIZACAO_ACADEMICA'] = 'Centro Federal de Educação Tecnológica'\n"
   ]
  },
  {
   "cell_type": "markdown",
   "metadata": {},
   "source": [
    "# 4 Juntando o DataSet de Alunos com o de IES"
   ]
  },
  {
   "cell_type": "code",
   "execution_count": 32,
   "metadata": {},
   "outputs": [],
   "source": [
    "alunos = alunos.merge(ies, how='left', left_on='CO_IES', right_on='CO_IES')"
   ]
  },
  {
   "cell_type": "code",
   "execution_count": 33,
   "metadata": {},
   "outputs": [
    {
     "data": {
      "text/html": [
       "<div>\n",
       "<style scoped>\n",
       "    .dataframe tbody tr th:only-of-type {\n",
       "        vertical-align: middle;\n",
       "    }\n",
       "\n",
       "    .dataframe tbody tr th {\n",
       "        vertical-align: top;\n",
       "    }\n",
       "\n",
       "    .dataframe thead th {\n",
       "        text-align: right;\n",
       "    }\n",
       "</style>\n",
       "<table border=\"1\" class=\"dataframe\">\n",
       "  <thead>\n",
       "    <tr style=\"text-align: right;\">\n",
       "      <th></th>\n",
       "      <th>CO_IES</th>\n",
       "      <th>CO_CURSO</th>\n",
       "      <th>ID_ALUNO</th>\n",
       "      <th>CO_ALUNO_CURSO</th>\n",
       "      <th>TP_COR_RACA</th>\n",
       "      <th>TP_SEXO</th>\n",
       "      <th>NU_IDADE</th>\n",
       "      <th>TP_NACIONALIDADE</th>\n",
       "      <th>IN_DEFICIENCIA</th>\n",
       "      <th>TP_SITUACAO</th>\n",
       "      <th>...</th>\n",
       "      <th>IN_FIN_NAOREEMB_PROUNI_INTEGR</th>\n",
       "      <th>IN_FIN_NAOREEMB_PROUNI_PARCIAL</th>\n",
       "      <th>TP_ESCOLA_CONCLUSAO_ENS_MEDIO</th>\n",
       "      <th>IN_MOBILIDADE_ACADEMICA</th>\n",
       "      <th>TP_ORGANIZACAO_ACADEMICA</th>\n",
       "      <th>TP_CATEGORIA_ADMINISTRATIVA</th>\n",
       "      <th>SG_IES</th>\n",
       "      <th>NO_IES</th>\n",
       "      <th>QT_TEC_TOTAL</th>\n",
       "      <th>ENDERECO</th>\n",
       "    </tr>\n",
       "  </thead>\n",
       "  <tbody>\n",
       "    <tr>\n",
       "      <th>0</th>\n",
       "      <td>1</td>\n",
       "      <td>1</td>\n",
       "      <td>77996A099C3C7607E8AB1EF9BB1F4307</td>\n",
       "      <td>73959106</td>\n",
       "      <td>3</td>\n",
       "      <td>2</td>\n",
       "      <td>32</td>\n",
       "      <td>1</td>\n",
       "      <td>9</td>\n",
       "      <td>3</td>\n",
       "      <td>...</td>\n",
       "      <td>2</td>\n",
       "      <td>2</td>\n",
       "      <td>1</td>\n",
       "      <td>0</td>\n",
       "      <td>Universidade</td>\n",
       "      <td>Pública Federal</td>\n",
       "      <td>UFMT</td>\n",
       "      <td>UNIVERSIDADE FEDERAL DE MATO GROSSO</td>\n",
       "      <td>1483</td>\n",
       "      <td>{'CO_REGIAO': 5, 'CO_MUNICIPIO': 5103403, 'IN_...</td>\n",
       "    </tr>\n",
       "    <tr>\n",
       "      <th>1</th>\n",
       "      <td>1</td>\n",
       "      <td>1</td>\n",
       "      <td>E76A3911B60AE52A1C43016A6B10A9F0</td>\n",
       "      <td>73964803</td>\n",
       "      <td>1</td>\n",
       "      <td>1</td>\n",
       "      <td>29</td>\n",
       "      <td>1</td>\n",
       "      <td>9</td>\n",
       "      <td>3</td>\n",
       "      <td>...</td>\n",
       "      <td>2</td>\n",
       "      <td>2</td>\n",
       "      <td>1</td>\n",
       "      <td>0</td>\n",
       "      <td>Universidade</td>\n",
       "      <td>Pública Federal</td>\n",
       "      <td>UFMT</td>\n",
       "      <td>UNIVERSIDADE FEDERAL DE MATO GROSSO</td>\n",
       "      <td>1483</td>\n",
       "      <td>{'CO_REGIAO': 5, 'CO_MUNICIPIO': 5103403, 'IN_...</td>\n",
       "    </tr>\n",
       "    <tr>\n",
       "      <th>2</th>\n",
       "      <td>1</td>\n",
       "      <td>1</td>\n",
       "      <td>BC5A94C541677AFED2E3CDDCBEE20FAF</td>\n",
       "      <td>73956744</td>\n",
       "      <td>3</td>\n",
       "      <td>1</td>\n",
       "      <td>32</td>\n",
       "      <td>1</td>\n",
       "      <td>9</td>\n",
       "      <td>3</td>\n",
       "      <td>...</td>\n",
       "      <td>2</td>\n",
       "      <td>2</td>\n",
       "      <td>1</td>\n",
       "      <td>0</td>\n",
       "      <td>Universidade</td>\n",
       "      <td>Pública Federal</td>\n",
       "      <td>UFMT</td>\n",
       "      <td>UNIVERSIDADE FEDERAL DE MATO GROSSO</td>\n",
       "      <td>1483</td>\n",
       "      <td>{'CO_REGIAO': 5, 'CO_MUNICIPIO': 5103403, 'IN_...</td>\n",
       "    </tr>\n",
       "    <tr>\n",
       "      <th>3</th>\n",
       "      <td>1</td>\n",
       "      <td>1</td>\n",
       "      <td>AB61850317E35196885EBF732C77C35E</td>\n",
       "      <td>73980633</td>\n",
       "      <td>3</td>\n",
       "      <td>1</td>\n",
       "      <td>44</td>\n",
       "      <td>1</td>\n",
       "      <td>9</td>\n",
       "      <td>3</td>\n",
       "      <td>...</td>\n",
       "      <td>2</td>\n",
       "      <td>2</td>\n",
       "      <td>2</td>\n",
       "      <td>0</td>\n",
       "      <td>Universidade</td>\n",
       "      <td>Pública Federal</td>\n",
       "      <td>UFMT</td>\n",
       "      <td>UNIVERSIDADE FEDERAL DE MATO GROSSO</td>\n",
       "      <td>1483</td>\n",
       "      <td>{'CO_REGIAO': 5, 'CO_MUNICIPIO': 5103403, 'IN_...</td>\n",
       "    </tr>\n",
       "    <tr>\n",
       "      <th>4</th>\n",
       "      <td>1</td>\n",
       "      <td>1</td>\n",
       "      <td>51297186B91F6872503D6D2602366433</td>\n",
       "      <td>73980634</td>\n",
       "      <td>0</td>\n",
       "      <td>2</td>\n",
       "      <td>41</td>\n",
       "      <td>1</td>\n",
       "      <td>9</td>\n",
       "      <td>3</td>\n",
       "      <td>...</td>\n",
       "      <td>2</td>\n",
       "      <td>2</td>\n",
       "      <td>1</td>\n",
       "      <td>0</td>\n",
       "      <td>Universidade</td>\n",
       "      <td>Pública Federal</td>\n",
       "      <td>UFMT</td>\n",
       "      <td>UNIVERSIDADE FEDERAL DE MATO GROSSO</td>\n",
       "      <td>1483</td>\n",
       "      <td>{'CO_REGIAO': 5, 'CO_MUNICIPIO': 5103403, 'IN_...</td>\n",
       "    </tr>\n",
       "  </tbody>\n",
       "</table>\n",
       "<p>5 rows × 22 columns</p>\n",
       "</div>"
      ],
      "text/plain": [
       "   CO_IES  CO_CURSO                          ID_ALUNO  CO_ALUNO_CURSO  \\\n",
       "0       1         1  77996A099C3C7607E8AB1EF9BB1F4307        73959106   \n",
       "1       1         1  E76A3911B60AE52A1C43016A6B10A9F0        73964803   \n",
       "2       1         1  BC5A94C541677AFED2E3CDDCBEE20FAF        73956744   \n",
       "3       1         1  AB61850317E35196885EBF732C77C35E        73980633   \n",
       "4       1         1  51297186B91F6872503D6D2602366433        73980634   \n",
       "\n",
       "   TP_COR_RACA  TP_SEXO  NU_IDADE  TP_NACIONALIDADE  IN_DEFICIENCIA  \\\n",
       "0            3        2        32                 1               9   \n",
       "1            1        1        29                 1               9   \n",
       "2            3        1        32                 1               9   \n",
       "3            3        1        44                 1               9   \n",
       "4            0        2        41                 1               9   \n",
       "\n",
       "   TP_SITUACAO  ...  IN_FIN_NAOREEMB_PROUNI_INTEGR  \\\n",
       "0            3  ...                              2   \n",
       "1            3  ...                              2   \n",
       "2            3  ...                              2   \n",
       "3            3  ...                              2   \n",
       "4            3  ...                              2   \n",
       "\n",
       "  IN_FIN_NAOREEMB_PROUNI_PARCIAL TP_ESCOLA_CONCLUSAO_ENS_MEDIO  \\\n",
       "0                              2                             1   \n",
       "1                              2                             1   \n",
       "2                              2                             1   \n",
       "3                              2                             2   \n",
       "4                              2                             1   \n",
       "\n",
       "  IN_MOBILIDADE_ACADEMICA  TP_ORGANIZACAO_ACADEMICA  \\\n",
       "0                       0              Universidade   \n",
       "1                       0              Universidade   \n",
       "2                       0              Universidade   \n",
       "3                       0              Universidade   \n",
       "4                       0              Universidade   \n",
       "\n",
       "  TP_CATEGORIA_ADMINISTRATIVA SG_IES                               NO_IES  \\\n",
       "0             Pública Federal   UFMT  UNIVERSIDADE FEDERAL DE MATO GROSSO   \n",
       "1             Pública Federal   UFMT  UNIVERSIDADE FEDERAL DE MATO GROSSO   \n",
       "2             Pública Federal   UFMT  UNIVERSIDADE FEDERAL DE MATO GROSSO   \n",
       "3             Pública Federal   UFMT  UNIVERSIDADE FEDERAL DE MATO GROSSO   \n",
       "4             Pública Federal   UFMT  UNIVERSIDADE FEDERAL DE MATO GROSSO   \n",
       "\n",
       "  QT_TEC_TOTAL                                           ENDERECO  \n",
       "0         1483  {'CO_REGIAO': 5, 'CO_MUNICIPIO': 5103403, 'IN_...  \n",
       "1         1483  {'CO_REGIAO': 5, 'CO_MUNICIPIO': 5103403, 'IN_...  \n",
       "2         1483  {'CO_REGIAO': 5, 'CO_MUNICIPIO': 5103403, 'IN_...  \n",
       "3         1483  {'CO_REGIAO': 5, 'CO_MUNICIPIO': 5103403, 'IN_...  \n",
       "4         1483  {'CO_REGIAO': 5, 'CO_MUNICIPIO': 5103403, 'IN_...  \n",
       "\n",
       "[5 rows x 22 columns]"
      ]
     },
     "execution_count": 33,
     "metadata": {},
     "output_type": "execute_result"
    }
   ],
   "source": [
    "alunos.head()"
   ]
  },
  {
   "cell_type": "code",
   "execution_count": 35,
   "metadata": {},
   "outputs": [
    {
     "data": {
      "text/plain": [
       "CO_IES                            0\n",
       "CO_CURSO                          0\n",
       "ID_ALUNO                          0\n",
       "CO_ALUNO_CURSO                    0\n",
       "TP_COR_RACA                       0\n",
       "TP_SEXO                           0\n",
       "NU_IDADE                          0\n",
       "TP_NACIONALIDADE                  0\n",
       "IN_DEFICIENCIA                    0\n",
       "TP_SITUACAO                       0\n",
       "IN_INGRESSO_ENEM                  0\n",
       "IN_FINANCIAMENTO_ESTUDANTIL       0\n",
       "IN_FIN_NAOREEMB_PROUNI_INTEGR     0\n",
       "IN_FIN_NAOREEMB_PROUNI_PARCIAL    0\n",
       "TP_ESCOLA_CONCLUSAO_ENS_MEDIO     0\n",
       "IN_MOBILIDADE_ACADEMICA           0\n",
       "TP_ORGANIZACAO_ACADEMICA          0\n",
       "TP_CATEGORIA_ADMINISTRATIVA       0\n",
       "SG_IES                            0\n",
       "NO_IES                            0\n",
       "QT_TEC_TOTAL                      0\n",
       "ENDERECO                          0\n",
       "dtype: int64"
      ]
     },
     "execution_count": 35,
     "metadata": {},
     "output_type": "execute_result"
    }
   ],
   "source": [
    "alunos.isnull().sum()"
   ]
  },
  {
   "cell_type": "code",
   "execution_count": 36,
   "metadata": {},
   "outputs": [],
   "source": [
    "alunos_ies = alunos[{'CO_IES','TP_CATEGORIA_ADMINISTRATIVA','QT_TEC_TOTAL','NO_IES','SG_IES','TP_ORGANIZACAO_ACADEMICA','ENDERECO'}]"
   ]
  },
  {
   "cell_type": "code",
   "execution_count": 37,
   "metadata": {},
   "outputs": [],
   "source": [
    "alunos.drop({'CO_IES','TP_CATEGORIA_ADMINISTRATIVA','QT_TEC_TOTAL','NO_IES','SG_IES','TP_ORGANIZACAO_ACADEMICA','ENDERECO'}, axis=1, inplace = True)"
   ]
  },
  {
   "cell_type": "code",
   "execution_count": 38,
   "metadata": {},
   "outputs": [],
   "source": [
    "alunos['IES'] = \"\""
   ]
  },
  {
   "cell_type": "code",
   "execution_count": 39,
   "metadata": {},
   "outputs": [],
   "source": [
    "# Criando um dicionário do Python a partir do DataSet de docentes_ies\n",
    "alunos_ies_dict = alunos_ies.to_dict('records')"
   ]
  },
  {
   "cell_type": "code",
   "execution_count": 40,
   "metadata": {},
   "outputs": [],
   "source": [
    "# Adicionando uma ies (através do dicionário criado no passo anterior)\n",
    "# e inserindo na coluna \"ENDERECO\" de cada aluno\n",
    "for x in alunos.index:\n",
    "    alunos.at[x,'IES'] = alunos_ies_dict[x]  "
   ]
  },
  {
   "cell_type": "code",
   "execution_count": 42,
   "metadata": {},
   "outputs": [
    {
     "data": {
      "text/plain": [
       "(1328972, 16)"
      ]
     },
     "execution_count": 42,
     "metadata": {},
     "output_type": "execute_result"
    }
   ],
   "source": [
    "alunos.shape"
   ]
  },
  {
   "cell_type": "code",
   "execution_count": 44,
   "metadata": {},
   "outputs": [
    {
     "data": {
      "text/html": [
       "<div>\n",
       "<style scoped>\n",
       "    .dataframe tbody tr th:only-of-type {\n",
       "        vertical-align: middle;\n",
       "    }\n",
       "\n",
       "    .dataframe tbody tr th {\n",
       "        vertical-align: top;\n",
       "    }\n",
       "\n",
       "    .dataframe thead th {\n",
       "        text-align: right;\n",
       "    }\n",
       "</style>\n",
       "<table border=\"1\" class=\"dataframe\">\n",
       "  <thead>\n",
       "    <tr style=\"text-align: right;\">\n",
       "      <th></th>\n",
       "      <th>CO_CURSO</th>\n",
       "      <th>ID_ALUNO</th>\n",
       "      <th>CO_ALUNO_CURSO</th>\n",
       "      <th>TP_COR_RACA</th>\n",
       "      <th>TP_SEXO</th>\n",
       "      <th>NU_IDADE</th>\n",
       "      <th>TP_NACIONALIDADE</th>\n",
       "      <th>IN_DEFICIENCIA</th>\n",
       "      <th>TP_SITUACAO</th>\n",
       "      <th>IN_INGRESSO_ENEM</th>\n",
       "      <th>IN_FINANCIAMENTO_ESTUDANTIL</th>\n",
       "      <th>IN_FIN_NAOREEMB_PROUNI_INTEGR</th>\n",
       "      <th>IN_FIN_NAOREEMB_PROUNI_PARCIAL</th>\n",
       "      <th>TP_ESCOLA_CONCLUSAO_ENS_MEDIO</th>\n",
       "      <th>IN_MOBILIDADE_ACADEMICA</th>\n",
       "      <th>IES</th>\n",
       "    </tr>\n",
       "  </thead>\n",
       "  <tbody>\n",
       "    <tr>\n",
       "      <th>0</th>\n",
       "      <td>1</td>\n",
       "      <td>77996A099C3C7607E8AB1EF9BB1F4307</td>\n",
       "      <td>73959106</td>\n",
       "      <td>3</td>\n",
       "      <td>2</td>\n",
       "      <td>32</td>\n",
       "      <td>1</td>\n",
       "      <td>9</td>\n",
       "      <td>3</td>\n",
       "      <td>1</td>\n",
       "      <td>2</td>\n",
       "      <td>2</td>\n",
       "      <td>2</td>\n",
       "      <td>1</td>\n",
       "      <td>0</td>\n",
       "      <td>{'ENDERECO': {'CO_REGIAO': 5, 'CO_MUNICIPIO': ...</td>\n",
       "    </tr>\n",
       "    <tr>\n",
       "      <th>1</th>\n",
       "      <td>1</td>\n",
       "      <td>E76A3911B60AE52A1C43016A6B10A9F0</td>\n",
       "      <td>73964803</td>\n",
       "      <td>1</td>\n",
       "      <td>1</td>\n",
       "      <td>29</td>\n",
       "      <td>1</td>\n",
       "      <td>9</td>\n",
       "      <td>3</td>\n",
       "      <td>1</td>\n",
       "      <td>2</td>\n",
       "      <td>2</td>\n",
       "      <td>2</td>\n",
       "      <td>1</td>\n",
       "      <td>0</td>\n",
       "      <td>{'ENDERECO': {'CO_REGIAO': 5, 'CO_MUNICIPIO': ...</td>\n",
       "    </tr>\n",
       "  </tbody>\n",
       "</table>\n",
       "</div>"
      ],
      "text/plain": [
       "   CO_CURSO                          ID_ALUNO  CO_ALUNO_CURSO  TP_COR_RACA  \\\n",
       "0         1  77996A099C3C7607E8AB1EF9BB1F4307        73959106            3   \n",
       "1         1  E76A3911B60AE52A1C43016A6B10A9F0        73964803            1   \n",
       "\n",
       "   TP_SEXO  NU_IDADE  TP_NACIONALIDADE  IN_DEFICIENCIA  TP_SITUACAO  \\\n",
       "0        2        32                 1               9            3   \n",
       "1        1        29                 1               9            3   \n",
       "\n",
       "   IN_INGRESSO_ENEM IN_FINANCIAMENTO_ESTUDANTIL IN_FIN_NAOREEMB_PROUNI_INTEGR  \\\n",
       "0                 1                           2                             2   \n",
       "1                 1                           2                             2   \n",
       "\n",
       "  IN_FIN_NAOREEMB_PROUNI_PARCIAL  TP_ESCOLA_CONCLUSAO_ENS_MEDIO  \\\n",
       "0                              2                              1   \n",
       "1                              2                              1   \n",
       "\n",
       "  IN_MOBILIDADE_ACADEMICA                                                IES  \n",
       "0                       0  {'ENDERECO': {'CO_REGIAO': 5, 'CO_MUNICIPIO': ...  \n",
       "1                       0  {'ENDERECO': {'CO_REGIAO': 5, 'CO_MUNICIPIO': ...  "
      ]
     },
     "execution_count": 44,
     "metadata": {},
     "output_type": "execute_result"
    }
   ],
   "source": [
    "alunos.head(2)"
   ]
  },
  {
   "cell_type": "markdown",
   "metadata": {},
   "source": [
    "# 5. Envio dos dados para o mongoDB"
   ]
  },
  {
   "cell_type": "code",
   "execution_count": 46,
   "metadata": {},
   "outputs": [],
   "source": [
    "# Criando a conexão com o mongoDB\n",
    "client = pym.MongoClient('mongodb://localhost:27017/')\n",
    "\n",
    "# Acessando a base de dados criada para o teste\n",
    "db = client['censo']\n",
    "\n",
    "# Acessando a coleção curso dentro da base de dados censo  \n",
    "collection_cursos=  db['alunos']"
   ]
  },
  {
   "cell_type": "code",
   "execution_count": 47,
   "metadata": {},
   "outputs": [],
   "source": [
    "# Transformando o DataSet dos cursos em um dicionario com o objetivo\n",
    "# de salvar ele no MongoDB, pois o banco não aceita estruturas do tipo DataFrame\n",
    "alunos_dict = alunos.to_dict('records')"
   ]
  },
  {
   "cell_type": "code",
   "execution_count": 48,
   "metadata": {},
   "outputs": [
    {
     "data": {
      "text/plain": [
       "<pymongo.results.InsertManyResult at 0x7f7bce256320>"
      ]
     },
     "execution_count": 48,
     "metadata": {},
     "output_type": "execute_result"
    }
   ],
   "source": [
    "# Enviando os dados para o MongoDB\n",
    "collection_cursos.insert_many(alunos_dict)"
   ]
  }
 ],
 "metadata": {
  "kernelspec": {
   "display_name": "Python 3",
   "language": "python",
   "name": "python3"
  },
  "language_info": {
   "codemirror_mode": {
    "name": "ipython",
    "version": 3
   },
   "file_extension": ".py",
   "mimetype": "text/x-python",
   "name": "python",
   "nbconvert_exporter": "python",
   "pygments_lexer": "ipython3",
   "version": "3.7.6"
  }
 },
 "nbformat": 4,
 "nbformat_minor": 4
}

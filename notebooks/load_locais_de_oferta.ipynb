{
 "cells": [
  {
   "cell_type": "markdown",
   "metadata": {},
   "source": [
    "# 1. Importação das bilbiotecas necessárias"
   ]
  },
  {
   "cell_type": "code",
   "execution_count": 1,
   "metadata": {},
   "outputs": [],
   "source": [
    "# Importando o pandas\n",
    "import pandas as pd\n",
    "\n",
    "# Importando biblioteca para trabalhar com o MongoDB\n",
    "import pymongo as pym\n",
    "\n",
    "# Importando o numpy para trabalhar com cálculos matemáticos\n",
    "import numpy as np\n",
    "\n",
    "#Importando o seaborn e o matplotlib para análises gráficas\n",
    "import seaborn as sns\n",
    "import matplotlib.pyplot as plt"
   ]
  },
  {
   "cell_type": "markdown",
   "metadata": {},
   "source": [
    "# 2. Carga do arquivo e dados iniciais"
   ]
  },
  {
   "cell_type": "code",
   "execution_count": 2,
   "metadata": {},
   "outputs": [],
   "source": [
    "# Como o arquivo dos locais é maior, a seleção das colunas utilizadas será feita  antes da importação do csv\n",
    "\n",
    "colunas = ['CO_IES','CO_LOCAL_OFERTA','NO_LOCAL_OFERTA','CO_CURSO_POLO','CO_CURSO','CO_UF',\n",
    "          'CO_MUNICIPIO','IN_CAPITAL','IN_SEDE']"
   ]
  },
  {
   "cell_type": "code",
   "execution_count": 3,
   "metadata": {},
   "outputs": [],
   "source": [
    "# Lendo o arquivo CSV disponível nos microdados do Censo da Educação Superior e gravando\n",
    "# ele em um DataFrame\n",
    "locais = pd.read_csv('../data/SUP_LOCAL_OFERTA_2019.CSV', sep=\"|\", encoding=\"latin-1\", usecols=colunas)"
   ]
  },
  {
   "cell_type": "code",
   "execution_count": 4,
   "metadata": {},
   "outputs": [
    {
     "data": {
      "text/plain": [
       "(1254044, 9)"
      ]
     },
     "execution_count": 4,
     "metadata": {},
     "output_type": "execute_result"
    }
   ],
   "source": [
    "locais.shape"
   ]
  },
  {
   "cell_type": "code",
   "execution_count": 5,
   "metadata": {},
   "outputs": [
    {
     "name": "stdout",
     "output_type": "stream",
     "text": [
      "<class 'pandas.core.frame.DataFrame'>\n",
      "RangeIndex: 1254044 entries, 0 to 1254043\n",
      "Data columns (total 9 columns):\n",
      " #   Column           Non-Null Count    Dtype  \n",
      "---  ------           --------------    -----  \n",
      " 0   CO_LOCAL_OFERTA  1254044 non-null  int64  \n",
      " 1   NO_LOCAL_OFERTA  1254044 non-null  object \n",
      " 2   CO_IES           1254044 non-null  int64  \n",
      " 3   CO_UF            1251118 non-null  float64\n",
      " 4   CO_MUNICIPIO     1254044 non-null  int64  \n",
      " 5   IN_CAPITAL       1251118 non-null  float64\n",
      " 6   IN_SEDE          637919 non-null   float64\n",
      " 7   CO_CURSO_POLO    1217866 non-null  float64\n",
      " 8   CO_CURSO         1254044 non-null  int64  \n",
      "dtypes: float64(4), int64(4), object(1)\n",
      "memory usage: 177.3 MB\n"
     ]
    }
   ],
   "source": [
    "# Verificar a quantidade de memória ocupada \n",
    "locais.info(memory_usage=\"deep\")"
   ]
  },
  {
   "cell_type": "code",
   "execution_count": 6,
   "metadata": {},
   "outputs": [
    {
     "data": {
      "text/plain": [
       "CO_LOCAL_OFERTA      int64\n",
       "NO_LOCAL_OFERTA     object\n",
       "CO_IES               int64\n",
       "CO_UF              float64\n",
       "CO_MUNICIPIO         int64\n",
       "IN_CAPITAL         float64\n",
       "IN_SEDE            float64\n",
       "CO_CURSO_POLO      float64\n",
       "CO_CURSO             int64\n",
       "dtype: object"
      ]
     },
     "execution_count": 6,
     "metadata": {},
     "output_type": "execute_result"
    }
   ],
   "source": [
    "locais.dtypes"
   ]
  },
  {
   "cell_type": "code",
   "execution_count": 7,
   "metadata": {},
   "outputs": [
    {
     "data": {
      "text/html": [
       "<div>\n",
       "<style scoped>\n",
       "    .dataframe tbody tr th:only-of-type {\n",
       "        vertical-align: middle;\n",
       "    }\n",
       "\n",
       "    .dataframe tbody tr th {\n",
       "        vertical-align: top;\n",
       "    }\n",
       "\n",
       "    .dataframe thead th {\n",
       "        text-align: right;\n",
       "    }\n",
       "</style>\n",
       "<table border=\"1\" class=\"dataframe\">\n",
       "  <thead>\n",
       "    <tr style=\"text-align: right;\">\n",
       "      <th></th>\n",
       "      <th>CO_LOCAL_OFERTA</th>\n",
       "      <th>NO_LOCAL_OFERTA</th>\n",
       "      <th>CO_IES</th>\n",
       "      <th>CO_UF</th>\n",
       "      <th>CO_MUNICIPIO</th>\n",
       "      <th>IN_CAPITAL</th>\n",
       "      <th>IN_SEDE</th>\n",
       "      <th>CO_CURSO_POLO</th>\n",
       "      <th>CO_CURSO</th>\n",
       "    </tr>\n",
       "  </thead>\n",
       "  <tbody>\n",
       "    <tr>\n",
       "      <th>0</th>\n",
       "      <td>105340</td>\n",
       "      <td>Campus Universitário de Cuiabá</td>\n",
       "      <td>1</td>\n",
       "      <td>51.0</td>\n",
       "      <td>5103403</td>\n",
       "      <td>1.0</td>\n",
       "      <td>1.0</td>\n",
       "      <td>NaN</td>\n",
       "      <td>1</td>\n",
       "    </tr>\n",
       "    <tr>\n",
       "      <th>1</th>\n",
       "      <td>105340</td>\n",
       "      <td>Campus Universitário de Cuiabá</td>\n",
       "      <td>1</td>\n",
       "      <td>51.0</td>\n",
       "      <td>5103403</td>\n",
       "      <td>1.0</td>\n",
       "      <td>1.0</td>\n",
       "      <td>NaN</td>\n",
       "      <td>2</td>\n",
       "    </tr>\n",
       "    <tr>\n",
       "      <th>2</th>\n",
       "      <td>105340</td>\n",
       "      <td>Campus Universitário de Cuiabá</td>\n",
       "      <td>1</td>\n",
       "      <td>51.0</td>\n",
       "      <td>5103403</td>\n",
       "      <td>1.0</td>\n",
       "      <td>1.0</td>\n",
       "      <td>NaN</td>\n",
       "      <td>3</td>\n",
       "    </tr>\n",
       "    <tr>\n",
       "      <th>3</th>\n",
       "      <td>105340</td>\n",
       "      <td>Campus Universitário de Cuiabá</td>\n",
       "      <td>1</td>\n",
       "      <td>51.0</td>\n",
       "      <td>5103403</td>\n",
       "      <td>1.0</td>\n",
       "      <td>1.0</td>\n",
       "      <td>NaN</td>\n",
       "      <td>6</td>\n",
       "    </tr>\n",
       "    <tr>\n",
       "      <th>4</th>\n",
       "      <td>105340</td>\n",
       "      <td>Campus Universitário de Cuiabá</td>\n",
       "      <td>1</td>\n",
       "      <td>51.0</td>\n",
       "      <td>5103403</td>\n",
       "      <td>1.0</td>\n",
       "      <td>1.0</td>\n",
       "      <td>NaN</td>\n",
       "      <td>7</td>\n",
       "    </tr>\n",
       "  </tbody>\n",
       "</table>\n",
       "</div>"
      ],
      "text/plain": [
       "   CO_LOCAL_OFERTA                 NO_LOCAL_OFERTA  CO_IES  CO_UF  \\\n",
       "0           105340  Campus Universitário de Cuiabá       1   51.0   \n",
       "1           105340  Campus Universitário de Cuiabá       1   51.0   \n",
       "2           105340  Campus Universitário de Cuiabá       1   51.0   \n",
       "3           105340  Campus Universitário de Cuiabá       1   51.0   \n",
       "4           105340  Campus Universitário de Cuiabá       1   51.0   \n",
       "\n",
       "   CO_MUNICIPIO  IN_CAPITAL  IN_SEDE  CO_CURSO_POLO  CO_CURSO  \n",
       "0       5103403         1.0      1.0            NaN         1  \n",
       "1       5103403         1.0      1.0            NaN         2  \n",
       "2       5103403         1.0      1.0            NaN         3  \n",
       "3       5103403         1.0      1.0            NaN         6  \n",
       "4       5103403         1.0      1.0            NaN         7  "
      ]
     },
     "execution_count": 7,
     "metadata": {},
     "output_type": "execute_result"
    }
   ],
   "source": [
    "locais.head()"
   ]
  },
  {
   "cell_type": "code",
   "execution_count": 8,
   "metadata": {},
   "outputs": [],
   "source": [
    "# Importando arquivo de cidades do IBGE que servirá para popular o endereço dos locais\n",
    "colunas = ['codigo_ibge','NO_MUNICIPIO','LAT_MUNICIPIO','LON_MUNICIPIO','CO_UF','SG_UF','NO_UF']\n",
    "municipios = pd.read_csv('../data/municipios.csv', sep=\",\", header=0, names=colunas)"
   ]
  },
  {
   "cell_type": "code",
   "execution_count": 9,
   "metadata": {},
   "outputs": [
    {
     "data": {
      "text/plain": [
       "(5570, 7)"
      ]
     },
     "execution_count": 9,
     "metadata": {},
     "output_type": "execute_result"
    }
   ],
   "source": [
    "municipios.shape"
   ]
  },
  {
   "cell_type": "code",
   "execution_count": 10,
   "metadata": {},
   "outputs": [
    {
     "data": {
      "text/html": [
       "<div>\n",
       "<style scoped>\n",
       "    .dataframe tbody tr th:only-of-type {\n",
       "        vertical-align: middle;\n",
       "    }\n",
       "\n",
       "    .dataframe tbody tr th {\n",
       "        vertical-align: top;\n",
       "    }\n",
       "\n",
       "    .dataframe thead th {\n",
       "        text-align: right;\n",
       "    }\n",
       "</style>\n",
       "<table border=\"1\" class=\"dataframe\">\n",
       "  <thead>\n",
       "    <tr style=\"text-align: right;\">\n",
       "      <th></th>\n",
       "      <th>codigo_ibge</th>\n",
       "      <th>NO_MUNICIPIO</th>\n",
       "      <th>LAT_MUNICIPIO</th>\n",
       "      <th>LON_MUNICIPIO</th>\n",
       "      <th>CO_UF</th>\n",
       "      <th>SG_UF</th>\n",
       "      <th>NO_UF</th>\n",
       "    </tr>\n",
       "  </thead>\n",
       "  <tbody>\n",
       "    <tr>\n",
       "      <th>0</th>\n",
       "      <td>5200050</td>\n",
       "      <td>Abadia de Goiás</td>\n",
       "      <td>-16.7573</td>\n",
       "      <td>-49.4412</td>\n",
       "      <td>52</td>\n",
       "      <td>GO</td>\n",
       "      <td>Goiás</td>\n",
       "    </tr>\n",
       "    <tr>\n",
       "      <th>1</th>\n",
       "      <td>3100104</td>\n",
       "      <td>Abadia dos Dourados</td>\n",
       "      <td>-18.4831</td>\n",
       "      <td>-47.3916</td>\n",
       "      <td>31</td>\n",
       "      <td>MG</td>\n",
       "      <td>Minas Gerais</td>\n",
       "    </tr>\n",
       "    <tr>\n",
       "      <th>2</th>\n",
       "      <td>5200100</td>\n",
       "      <td>Abadiânia</td>\n",
       "      <td>-16197.0000</td>\n",
       "      <td>-48.7057</td>\n",
       "      <td>52</td>\n",
       "      <td>GO</td>\n",
       "      <td>Goiás</td>\n",
       "    </tr>\n",
       "  </tbody>\n",
       "</table>\n",
       "</div>"
      ],
      "text/plain": [
       "   codigo_ibge         NO_MUNICIPIO  LAT_MUNICIPIO  LON_MUNICIPIO  CO_UF  \\\n",
       "0      5200050      Abadia de Goiás       -16.7573       -49.4412     52   \n",
       "1      3100104  Abadia dos Dourados       -18.4831       -47.3916     31   \n",
       "2      5200100            Abadiânia    -16197.0000       -48.7057     52   \n",
       "\n",
       "  SG_UF         NO_UF  \n",
       "0    GO         Goiás  \n",
       "1    MG  Minas Gerais  \n",
       "2    GO         Goiás  "
      ]
     },
     "execution_count": 10,
     "metadata": {},
     "output_type": "execute_result"
    }
   ],
   "source": [
    "municipios.head(3)"
   ]
  },
  {
   "cell_type": "code",
   "execution_count": 11,
   "metadata": {},
   "outputs": [
    {
     "data": {
      "text/plain": [
       "codigo_ibge        int64\n",
       "NO_MUNICIPIO      object\n",
       "LAT_MUNICIPIO    float64\n",
       "LON_MUNICIPIO    float64\n",
       "CO_UF              int64\n",
       "SG_UF             object\n",
       "NO_UF             object\n",
       "dtype: object"
      ]
     },
     "execution_count": 11,
     "metadata": {},
     "output_type": "execute_result"
    }
   ],
   "source": [
    "municipios.dtypes"
   ]
  },
  {
   "cell_type": "markdown",
   "metadata": {},
   "source": [
    "# 3. Tratando os dados do dataset"
   ]
  },
  {
   "cell_type": "code",
   "execution_count": 12,
   "metadata": {},
   "outputs": [],
   "source": [
    "# Removendo colunas desnecessárias\n",
    "municipios.drop(['CO_UF'], axis=1, inplace = True)"
   ]
  },
  {
   "cell_type": "code",
   "execution_count": 13,
   "metadata": {},
   "outputs": [],
   "source": [
    "# Criando um DataFrame somente com as colunas de endereço das IES \n",
    "# E outro com as colunas consideradas na estrutura do trabalho\n",
    "endereco_locais = locais[{'CO_UF','CO_MUNICIPIO','IN_CAPITAL'}]\n",
    "locais = locais [{'CO_LOCAL_OFERTA','NO_LOCAL_OFERTA','CO_IES','IN_SEDE','CO_CURSO_POLO','CO_CURSO'}]"
   ]
  },
  {
   "cell_type": "code",
   "execution_count": 14,
   "metadata": {},
   "outputs": [],
   "source": [
    "# Adicionando uma coluna Endereco no DataFrame dos locais, pois por padrão\n",
    "# essa coluna não existe\n",
    "locais['ENDERECO'] = \"\""
   ]
  },
  {
   "cell_type": "code",
   "execution_count": 15,
   "metadata": {},
   "outputs": [],
   "source": [
    "## Categorizando o IN_CAPITAL do endereco \n",
    "# 1) Alterando o tipo dos dados int, para object (string)\n",
    "endereco_locais['IN_CAPITAL'] = endereco_locais['IN_CAPITAL'].apply(str)"
   ]
  },
  {
   "cell_type": "code",
   "execution_count": 16,
   "metadata": {},
   "outputs": [],
   "source": [
    "# Alterando os valores por suas respectivas categorias  \n",
    "# 2) IN CAPITAL 0: Não; 1: Sim. \n",
    "endereco_locais.loc[endereco_locais['IN_CAPITAL'] == '0', 'IN_CAPITAL'] = 'Não'\n",
    "endereco_locais.loc[endereco_locais['IN_CAPITAL'] == '1', 'IN_CAPITAL'] = 'Sim'"
   ]
  },
  {
   "cell_type": "code",
   "execution_count": 17,
   "metadata": {},
   "outputs": [],
   "source": [
    "# fazendo um merge de endereço com municipios\n",
    "endereco_locais = endereco_locais.merge(municipios, how='left', left_on='CO_MUNICIPIO', right_on='codigo_ibge')"
   ]
  },
  {
   "cell_type": "code",
   "execution_count": 18,
   "metadata": {},
   "outputs": [],
   "source": [
    "# Criando um dicionário do Python a partir do DataFrame de enderecos\n",
    "endereco_locais_dict = endereco_locais.to_dict('records')"
   ]
  },
  {
   "cell_type": "code",
   "execution_count": 19,
   "metadata": {},
   "outputs": [],
   "source": [
    "# Adicionando um endereco (através do dicionário criado no passo anterior)\n",
    "# e inserindo na coluna \"ENDERECO\" de cada LOCAL\n",
    "for i in locais.index:\n",
    "    locais.at[i,'ENDERECO'] = endereco_locais_dict[i]  "
   ]
  },
  {
   "cell_type": "code",
   "execution_count": 20,
   "metadata": {},
   "outputs": [
    {
     "data": {
      "text/plain": [
       "CO_IES                  0\n",
       "CO_CURSO_POLO       36178\n",
       "CO_LOCAL_OFERTA         0\n",
       "IN_SEDE            616125\n",
       "CO_CURSO                0\n",
       "NO_LOCAL_OFERTA         0\n",
       "ENDERECO                0\n",
       "dtype: int64"
      ]
     },
     "execution_count": 20,
     "metadata": {},
     "output_type": "execute_result"
    }
   ],
   "source": [
    "## Verificando se existem informações nulas \n",
    "locais.isnull().sum()"
   ]
  },
  {
   "cell_type": "code",
   "execution_count": 21,
   "metadata": {},
   "outputs": [],
   "source": [
    "## Alterando os valores nulos do atributo \"IN_SEDE\" para 2.0 \n",
    "locais['IN_SEDE'].fillna(2.0, inplace = True)"
   ]
  },
  {
   "cell_type": "code",
   "execution_count": 22,
   "metadata": {},
   "outputs": [],
   "source": [
    "# 1) Alterando o tipo dos dados int e float, para object (string), afim de categorizar \n",
    "locais['IN_SEDE'] = locais['IN_SEDE'].apply(str)"
   ]
  },
  {
   "cell_type": "code",
   "execution_count": 23,
   "metadata": {},
   "outputs": [
    {
     "data": {
      "text/html": [
       "<div>\n",
       "<style scoped>\n",
       "    .dataframe tbody tr th:only-of-type {\n",
       "        vertical-align: middle;\n",
       "    }\n",
       "\n",
       "    .dataframe tbody tr th {\n",
       "        vertical-align: top;\n",
       "    }\n",
       "\n",
       "    .dataframe thead th {\n",
       "        text-align: right;\n",
       "    }\n",
       "</style>\n",
       "<table border=\"1\" class=\"dataframe\">\n",
       "  <thead>\n",
       "    <tr style=\"text-align: right;\">\n",
       "      <th></th>\n",
       "      <th>CO_IES</th>\n",
       "      <th>CO_CURSO_POLO</th>\n",
       "      <th>CO_LOCAL_OFERTA</th>\n",
       "      <th>IN_SEDE</th>\n",
       "      <th>CO_CURSO</th>\n",
       "      <th>NO_LOCAL_OFERTA</th>\n",
       "      <th>ENDERECO</th>\n",
       "    </tr>\n",
       "  </thead>\n",
       "  <tbody>\n",
       "    <tr>\n",
       "      <th>0</th>\n",
       "      <td>1</td>\n",
       "      <td>NaN</td>\n",
       "      <td>105340</td>\n",
       "      <td>1.0</td>\n",
       "      <td>1</td>\n",
       "      <td>Campus Universitário de Cuiabá</td>\n",
       "      <td>{'CO_UF': 51.0, 'CO_MUNICIPIO': 5103403, 'IN_C...</td>\n",
       "    </tr>\n",
       "    <tr>\n",
       "      <th>1</th>\n",
       "      <td>1</td>\n",
       "      <td>NaN</td>\n",
       "      <td>105340</td>\n",
       "      <td>1.0</td>\n",
       "      <td>2</td>\n",
       "      <td>Campus Universitário de Cuiabá</td>\n",
       "      <td>{'CO_UF': 51.0, 'CO_MUNICIPIO': 5103403, 'IN_C...</td>\n",
       "    </tr>\n",
       "    <tr>\n",
       "      <th>2</th>\n",
       "      <td>1</td>\n",
       "      <td>NaN</td>\n",
       "      <td>105340</td>\n",
       "      <td>1.0</td>\n",
       "      <td>3</td>\n",
       "      <td>Campus Universitário de Cuiabá</td>\n",
       "      <td>{'CO_UF': 51.0, 'CO_MUNICIPIO': 5103403, 'IN_C...</td>\n",
       "    </tr>\n",
       "    <tr>\n",
       "      <th>3</th>\n",
       "      <td>1</td>\n",
       "      <td>NaN</td>\n",
       "      <td>105340</td>\n",
       "      <td>1.0</td>\n",
       "      <td>6</td>\n",
       "      <td>Campus Universitário de Cuiabá</td>\n",
       "      <td>{'CO_UF': 51.0, 'CO_MUNICIPIO': 5103403, 'IN_C...</td>\n",
       "    </tr>\n",
       "    <tr>\n",
       "      <th>4</th>\n",
       "      <td>1</td>\n",
       "      <td>NaN</td>\n",
       "      <td>105340</td>\n",
       "      <td>1.0</td>\n",
       "      <td>7</td>\n",
       "      <td>Campus Universitário de Cuiabá</td>\n",
       "      <td>{'CO_UF': 51.0, 'CO_MUNICIPIO': 5103403, 'IN_C...</td>\n",
       "    </tr>\n",
       "  </tbody>\n",
       "</table>\n",
       "</div>"
      ],
      "text/plain": [
       "   CO_IES  CO_CURSO_POLO  CO_LOCAL_OFERTA IN_SEDE  CO_CURSO  \\\n",
       "0       1            NaN           105340     1.0         1   \n",
       "1       1            NaN           105340     1.0         2   \n",
       "2       1            NaN           105340     1.0         3   \n",
       "3       1            NaN           105340     1.0         6   \n",
       "4       1            NaN           105340     1.0         7   \n",
       "\n",
       "                  NO_LOCAL_OFERTA  \\\n",
       "0  Campus Universitário de Cuiabá   \n",
       "1  Campus Universitário de Cuiabá   \n",
       "2  Campus Universitário de Cuiabá   \n",
       "3  Campus Universitário de Cuiabá   \n",
       "4  Campus Universitário de Cuiabá   \n",
       "\n",
       "                                            ENDERECO  \n",
       "0  {'CO_UF': 51.0, 'CO_MUNICIPIO': 5103403, 'IN_C...  \n",
       "1  {'CO_UF': 51.0, 'CO_MUNICIPIO': 5103403, 'IN_C...  \n",
       "2  {'CO_UF': 51.0, 'CO_MUNICIPIO': 5103403, 'IN_C...  \n",
       "3  {'CO_UF': 51.0, 'CO_MUNICIPIO': 5103403, 'IN_C...  \n",
       "4  {'CO_UF': 51.0, 'CO_MUNICIPIO': 5103403, 'IN_C...  "
      ]
     },
     "execution_count": 23,
     "metadata": {},
     "output_type": "execute_result"
    }
   ],
   "source": [
    "locais.head()"
   ]
  },
  {
   "cell_type": "code",
   "execution_count": 24,
   "metadata": {},
   "outputs": [],
   "source": [
    "# Alterando os valores por suas respectivas categorias  \n",
    "# 2) IN_SEDE: 0.0: Não; 1.0: Sim; 2.0: \"Não informado\"  \n",
    "locais.loc[locais['IN_SEDE'] == '0.0', 'IN_SEDE'] = 'Não'\n",
    "locais.loc[locais['IN_SEDE'] == '1.0', 'IN_SEDE'] = 'Sim'\n",
    "locais.loc[locais['IN_SEDE'] == '2.0', 'IN_SEDE'] = 'Não informado'"
   ]
  },
  {
   "cell_type": "markdown",
   "metadata": {},
   "source": [
    "## 4. Análise dos dados dos locais de oferta\n"
   ]
  },
  {
   "cell_type": "code",
   "execution_count": 25,
   "metadata": {},
   "outputs": [
    {
     "name": "stdout",
     "output_type": "stream",
     "text": [
      "Quantidade de linhas:  1254044\n",
      "Quantidade de colunas:  7\n"
     ]
    }
   ],
   "source": [
    "print(\"Quantidade de linhas: \", locais.shape[0])\n",
    "print(\"Quantidade de colunas: \",locais.shape[1])"
   ]
  },
  {
   "cell_type": "code",
   "execution_count": 26,
   "metadata": {},
   "outputs": [
    {
     "data": {
      "text/html": [
       "<div>\n",
       "<style scoped>\n",
       "    .dataframe tbody tr th:only-of-type {\n",
       "        vertical-align: middle;\n",
       "    }\n",
       "\n",
       "    .dataframe tbody tr th {\n",
       "        vertical-align: top;\n",
       "    }\n",
       "\n",
       "    .dataframe thead th {\n",
       "        text-align: right;\n",
       "    }\n",
       "</style>\n",
       "<table border=\"1\" class=\"dataframe\">\n",
       "  <thead>\n",
       "    <tr style=\"text-align: right;\">\n",
       "      <th></th>\n",
       "      <th>CO_IES</th>\n",
       "      <th>CO_CURSO_POLO</th>\n",
       "      <th>CO_LOCAL_OFERTA</th>\n",
       "      <th>CO_CURSO</th>\n",
       "    </tr>\n",
       "  </thead>\n",
       "  <tbody>\n",
       "    <tr>\n",
       "      <th>count</th>\n",
       "      <td>1.254044e+06</td>\n",
       "      <td>1.217866e+06</td>\n",
       "      <td>1.254044e+06</td>\n",
       "      <td>1.254044e+06</td>\n",
       "    </tr>\n",
       "    <tr>\n",
       "      <th>mean</th>\n",
       "      <td>1.257400e+03</td>\n",
       "      <td>8.980439e+05</td>\n",
       "      <td>1.001589e+06</td>\n",
       "      <td>1.207591e+06</td>\n",
       "    </tr>\n",
       "    <tr>\n",
       "      <th>std</th>\n",
       "      <td>2.179965e+03</td>\n",
       "      <td>4.660015e+05</td>\n",
       "      <td>5.330635e+05</td>\n",
       "      <td>5.389890e+05</td>\n",
       "    </tr>\n",
       "    <tr>\n",
       "      <th>min</th>\n",
       "      <td>1.000000e+00</td>\n",
       "      <td>1.000000e+00</td>\n",
       "      <td>1.930000e+02</td>\n",
       "      <td>1.000000e+00</td>\n",
       "    </tr>\n",
       "    <tr>\n",
       "      <th>25%</th>\n",
       "      <td>3.220000e+02</td>\n",
       "      <td>5.109602e+05</td>\n",
       "      <td>1.060403e+06</td>\n",
       "      <td>1.204869e+06</td>\n",
       "    </tr>\n",
       "    <tr>\n",
       "      <th>50%</th>\n",
       "      <td>6.710000e+02</td>\n",
       "      <td>9.107335e+05</td>\n",
       "      <td>1.089915e+06</td>\n",
       "      <td>1.377504e+06</td>\n",
       "    </tr>\n",
       "    <tr>\n",
       "      <th>75%</th>\n",
       "      <td>1.491000e+03</td>\n",
       "      <td>1.281515e+06</td>\n",
       "      <td>1.102763e+06</td>\n",
       "      <td>1.443692e+06</td>\n",
       "    </tr>\n",
       "    <tr>\n",
       "      <th>max</th>\n",
       "      <td>2.467200e+04</td>\n",
       "      <td>1.711742e+06</td>\n",
       "      <td>2.500011e+06</td>\n",
       "      <td>5.001534e+06</td>\n",
       "    </tr>\n",
       "  </tbody>\n",
       "</table>\n",
       "</div>"
      ],
      "text/plain": [
       "             CO_IES  CO_CURSO_POLO  CO_LOCAL_OFERTA      CO_CURSO\n",
       "count  1.254044e+06   1.217866e+06     1.254044e+06  1.254044e+06\n",
       "mean   1.257400e+03   8.980439e+05     1.001589e+06  1.207591e+06\n",
       "std    2.179965e+03   4.660015e+05     5.330635e+05  5.389890e+05\n",
       "min    1.000000e+00   1.000000e+00     1.930000e+02  1.000000e+00\n",
       "25%    3.220000e+02   5.109602e+05     1.060403e+06  1.204869e+06\n",
       "50%    6.710000e+02   9.107335e+05     1.089915e+06  1.377504e+06\n",
       "75%    1.491000e+03   1.281515e+06     1.102763e+06  1.443692e+06\n",
       "max    2.467200e+04   1.711742e+06     2.500011e+06  5.001534e+06"
      ]
     },
     "execution_count": 26,
     "metadata": {},
     "output_type": "execute_result"
    }
   ],
   "source": [
    "locais.describe()"
   ]
  },
  {
   "cell_type": "markdown",
   "metadata": {},
   "source": [
    "# 5. Envio dos dados para o mongoDB"
   ]
  },
  {
   "cell_type": "code",
   "execution_count": 27,
   "metadata": {},
   "outputs": [],
   "source": [
    "# Criando a conexão com o mongoDB\n",
    "client = pym.MongoClient('mongodb://localhost:27017/')\n",
    "\n",
    "# Acessando a base de dados criada\n",
    "db = client['censo']\n",
    "\n",
    "# Acessando a coleção locais de oferta \n",
    "collection_locais =  db['locais_de_oferta']"
   ]
  },
  {
   "cell_type": "code",
   "execution_count": 28,
   "metadata": {},
   "outputs": [],
   "source": [
    "# Transformando o DataSet dos locais em um dicionario com o objetivo\n",
    "# de salvar ele no MongoDB, pois o banco não aceita estruturas do tipo DataFrame\n",
    "locais_dict = locais.to_dict('records')"
   ]
  },
  {
   "cell_type": "code",
   "execution_count": 29,
   "metadata": {},
   "outputs": [
    {
     "data": {
      "text/plain": [
       "<pymongo.results.InsertManyResult at 0x7fb52d270320>"
      ]
     },
     "execution_count": 29,
     "metadata": {},
     "output_type": "execute_result"
    }
   ],
   "source": [
    "# Enviando os dados para o MongoDB\n",
    "collection_locais.insert_many(locais_dict)"
   ]
  }
 ],
 "metadata": {
  "kernelspec": {
   "display_name": "Python 3",
   "language": "python",
   "name": "python3"
  },
  "language_info": {
   "codemirror_mode": {
    "name": "ipython",
    "version": 3
   },
   "file_extension": ".py",
   "mimetype": "text/x-python",
   "name": "python",
   "nbconvert_exporter": "python",
   "pygments_lexer": "ipython3",
   "version": "3.7.6"
  }
 },
 "nbformat": 4,
 "nbformat_minor": 4
}

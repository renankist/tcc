{
 "cells": [
  {
   "cell_type": "markdown",
   "metadata": {},
   "source": [
    "# 1. Importação das bilbiotecas necessárias\n",
    "\n"
   ]
  },
  {
   "cell_type": "code",
   "execution_count": 1,
   "metadata": {},
   "outputs": [],
   "source": [
    "# Importando o pandas\n",
    "import pandas as pd\n",
    "\n",
    "# Importando biblioteca para trabalhar com o MongoDB\n",
    "import pymongo as pym\n",
    "\n",
    "# Importando o numpy para trabalhar com cálculos matemáticos\n",
    "import numpy as np\n",
    "\n",
    "#Importando o seaborn e o matplotlib para análises gráficas\n",
    "import seaborn as sns\n",
    "import matplotlib.pyplot as plt"
   ]
  },
  {
   "cell_type": "markdown",
   "metadata": {},
   "source": [
    "# 2. Carga do arquivo e dados iniciais"
   ]
  },
  {
   "cell_type": "code",
   "execution_count": 2,
   "metadata": {},
   "outputs": [],
   "source": [
    "# Lendo o arquivo CSV disponível nos microdados do Censo da Educação Superior e gravando\n",
    "# ele em um DataFrame\n",
    "ies = pd.read_csv('../data/SUP_IES_2019.CSV', sep=\"|\", encoding=\"latin-1\")"
   ]
  },
  {
   "cell_type": "code",
   "execution_count": 3,
   "metadata": {},
   "outputs": [
    {
     "name": "stdout",
     "output_type": "stream",
     "text": [
      "Quantidade de linhas: 2608\n",
      "Quantidade de colunas: 48\n"
     ]
    }
   ],
   "source": [
    "# Mostrando a quantidade de linhas e colunas do DataFrame \n",
    "print(\"Quantidade de linhas:\",ies.shape[0])\n",
    "print(\"Quantidade de colunas:\",ies.shape[1])"
   ]
  },
  {
   "cell_type": "code",
   "execution_count": 4,
   "metadata": {},
   "outputs": [
    {
     "data": {
      "text/html": [
       "<div>\n",
       "<style scoped>\n",
       "    .dataframe tbody tr th:only-of-type {\n",
       "        vertical-align: middle;\n",
       "    }\n",
       "\n",
       "    .dataframe tbody tr th {\n",
       "        vertical-align: top;\n",
       "    }\n",
       "\n",
       "    .dataframe thead th {\n",
       "        text-align: right;\n",
       "    }\n",
       "</style>\n",
       "<table border=\"1\" class=\"dataframe\">\n",
       "  <thead>\n",
       "    <tr style=\"text-align: right;\">\n",
       "      <th></th>\n",
       "      <th>NU_ANO_CENSO</th>\n",
       "      <th>CO_IES</th>\n",
       "      <th>NO_IES</th>\n",
       "      <th>SG_IES</th>\n",
       "      <th>CO_MANTENEDORA</th>\n",
       "      <th>NO_MANTENEDORA</th>\n",
       "      <th>TP_CATEGORIA_ADMINISTRATIVA</th>\n",
       "      <th>TP_ORGANIZACAO_ACADEMICA</th>\n",
       "      <th>CO_REGIAO</th>\n",
       "      <th>CO_UF</th>\n",
       "      <th>...</th>\n",
       "      <th>VL_RECEITA_PROPRIA</th>\n",
       "      <th>VL_RECEITA_TRANSFERENCIA</th>\n",
       "      <th>VL_RECEITA_OUTRA</th>\n",
       "      <th>VL_DESPESA_PESSOAL_DOCENTE</th>\n",
       "      <th>VL_DESPESA_PESSOAL_TECNICO</th>\n",
       "      <th>VL_DESPESA_PESSOAL_ENCARGO</th>\n",
       "      <th>VL_DESPESA_CUSTEIO</th>\n",
       "      <th>VL_DESPESA_INVESTIMENTO</th>\n",
       "      <th>VL_DESPESA_PESQUISA</th>\n",
       "      <th>VL_DESPESA_OUTRA</th>\n",
       "    </tr>\n",
       "  </thead>\n",
       "  <tbody>\n",
       "    <tr>\n",
       "      <th>0</th>\n",
       "      <td>2019</td>\n",
       "      <td>1</td>\n",
       "      <td>UNIVERSIDADE FEDERAL DE MATO GROSSO</td>\n",
       "      <td>UFMT</td>\n",
       "      <td>1</td>\n",
       "      <td>FUNDACAO UNIVERSIDADE FEDERAL DE MATO GROSSO</td>\n",
       "      <td>1</td>\n",
       "      <td>1</td>\n",
       "      <td>5</td>\n",
       "      <td>51</td>\n",
       "      <td>...</td>\n",
       "      <td>8075408.31</td>\n",
       "      <td>9.190156e+08</td>\n",
       "      <td>0.00</td>\n",
       "      <td>2.737906e+08</td>\n",
       "      <td>1.089490e+08</td>\n",
       "      <td>1.050124e+08</td>\n",
       "      <td>1.225790e+08</td>\n",
       "      <td>9606414.13</td>\n",
       "      <td>2512494.15</td>\n",
       "      <td>3.046410e+08</td>\n",
       "    </tr>\n",
       "    <tr>\n",
       "      <th>1</th>\n",
       "      <td>2019</td>\n",
       "      <td>2</td>\n",
       "      <td>UNIVERSIDADE DE BRASÍLIA</td>\n",
       "      <td>UNB</td>\n",
       "      <td>2</td>\n",
       "      <td>FUNDACAO UNIVERSIDADE DE BRASILIA</td>\n",
       "      <td>1</td>\n",
       "      <td>1</td>\n",
       "      <td>5</td>\n",
       "      <td>53</td>\n",
       "      <td>...</td>\n",
       "      <td>42309485.04</td>\n",
       "      <td>6.376632e+07</td>\n",
       "      <td>53681013.45</td>\n",
       "      <td>8.438613e+08</td>\n",
       "      <td>0.000000e+00</td>\n",
       "      <td>2.873756e+08</td>\n",
       "      <td>2.102659e+08</td>\n",
       "      <td>23154904.42</td>\n",
       "      <td>10350582.30</td>\n",
       "      <td>4.738549e+08</td>\n",
       "    </tr>\n",
       "    <tr>\n",
       "      <th>2</th>\n",
       "      <td>2019</td>\n",
       "      <td>3</td>\n",
       "      <td>UNIVERSIDADE FEDERAL DE SERGIPE</td>\n",
       "      <td>UFS</td>\n",
       "      <td>3</td>\n",
       "      <td>FUNDACAO UNIVERSIDADE FEDERAL DE SERGIPE</td>\n",
       "      <td>1</td>\n",
       "      <td>1</td>\n",
       "      <td>2</td>\n",
       "      <td>28</td>\n",
       "      <td>...</td>\n",
       "      <td>2064512.28</td>\n",
       "      <td>8.836851e+08</td>\n",
       "      <td>59978137.27</td>\n",
       "      <td>2.847694e+08</td>\n",
       "      <td>1.533374e+08</td>\n",
       "      <td>1.080347e+08</td>\n",
       "      <td>1.491604e+08</td>\n",
       "      <td>8212361.64</td>\n",
       "      <td>1445146.30</td>\n",
       "      <td>3.204186e+08</td>\n",
       "    </tr>\n",
       "    <tr>\n",
       "      <th>3</th>\n",
       "      <td>2019</td>\n",
       "      <td>4</td>\n",
       "      <td>UNIVERSIDADE FEDERAL DO AMAZONAS</td>\n",
       "      <td>UFAM</td>\n",
       "      <td>4</td>\n",
       "      <td>FUNDACAO UNIVERSIDADE DO AMAZONAS</td>\n",
       "      <td>1</td>\n",
       "      <td>1</td>\n",
       "      <td>1</td>\n",
       "      <td>13</td>\n",
       "      <td>...</td>\n",
       "      <td>5603181.06</td>\n",
       "      <td>1.063315e+09</td>\n",
       "      <td>1721653.86</td>\n",
       "      <td>4.482062e+08</td>\n",
       "      <td>0.000000e+00</td>\n",
       "      <td>1.322010e+08</td>\n",
       "      <td>1.839712e+08</td>\n",
       "      <td>12676251.59</td>\n",
       "      <td>1312837.53</td>\n",
       "      <td>6.845330e+07</td>\n",
       "    </tr>\n",
       "    <tr>\n",
       "      <th>4</th>\n",
       "      <td>2019</td>\n",
       "      <td>6</td>\n",
       "      <td>UNIVERSIDADE FEDERAL DE OURO PRETO</td>\n",
       "      <td>UFOP</td>\n",
       "      <td>6</td>\n",
       "      <td>UNIVERSIDADE FEDERAL DE OURO PRETO</td>\n",
       "      <td>1</td>\n",
       "      <td>1</td>\n",
       "      <td>3</td>\n",
       "      <td>31</td>\n",
       "      <td>...</td>\n",
       "      <td>5905654.74</td>\n",
       "      <td>4.992185e+08</td>\n",
       "      <td>30461740.62</td>\n",
       "      <td>1.691617e+08</td>\n",
       "      <td>5.899877e+07</td>\n",
       "      <td>4.092087e+07</td>\n",
       "      <td>4.907550e+07</td>\n",
       "      <td>73345.77</td>\n",
       "      <td>828200.00</td>\n",
       "      <td>2.165275e+08</td>\n",
       "    </tr>\n",
       "  </tbody>\n",
       "</table>\n",
       "<p>5 rows × 48 columns</p>\n",
       "</div>"
      ],
      "text/plain": [
       "   NU_ANO_CENSO  CO_IES                               NO_IES SG_IES  \\\n",
       "0          2019       1  UNIVERSIDADE FEDERAL DE MATO GROSSO   UFMT   \n",
       "1          2019       2             UNIVERSIDADE DE BRASÍLIA    UNB   \n",
       "2          2019       3      UNIVERSIDADE FEDERAL DE SERGIPE    UFS   \n",
       "3          2019       4     UNIVERSIDADE FEDERAL DO AMAZONAS   UFAM   \n",
       "4          2019       6   UNIVERSIDADE FEDERAL DE OURO PRETO   UFOP   \n",
       "\n",
       "   CO_MANTENEDORA                                NO_MANTENEDORA  \\\n",
       "0               1  FUNDACAO UNIVERSIDADE FEDERAL DE MATO GROSSO   \n",
       "1               2             FUNDACAO UNIVERSIDADE DE BRASILIA   \n",
       "2               3      FUNDACAO UNIVERSIDADE FEDERAL DE SERGIPE   \n",
       "3               4             FUNDACAO UNIVERSIDADE DO AMAZONAS   \n",
       "4               6            UNIVERSIDADE FEDERAL DE OURO PRETO   \n",
       "\n",
       "   TP_CATEGORIA_ADMINISTRATIVA  TP_ORGANIZACAO_ACADEMICA  CO_REGIAO  CO_UF  \\\n",
       "0                            1                         1          5     51   \n",
       "1                            1                         1          5     53   \n",
       "2                            1                         1          2     28   \n",
       "3                            1                         1          1     13   \n",
       "4                            1                         1          3     31   \n",
       "\n",
       "   ...  VL_RECEITA_PROPRIA  VL_RECEITA_TRANSFERENCIA  VL_RECEITA_OUTRA  \\\n",
       "0  ...          8075408.31              9.190156e+08              0.00   \n",
       "1  ...         42309485.04              6.376632e+07       53681013.45   \n",
       "2  ...          2064512.28              8.836851e+08       59978137.27   \n",
       "3  ...          5603181.06              1.063315e+09        1721653.86   \n",
       "4  ...          5905654.74              4.992185e+08       30461740.62   \n",
       "\n",
       "   VL_DESPESA_PESSOAL_DOCENTE  VL_DESPESA_PESSOAL_TECNICO  \\\n",
       "0                2.737906e+08                1.089490e+08   \n",
       "1                8.438613e+08                0.000000e+00   \n",
       "2                2.847694e+08                1.533374e+08   \n",
       "3                4.482062e+08                0.000000e+00   \n",
       "4                1.691617e+08                5.899877e+07   \n",
       "\n",
       "   VL_DESPESA_PESSOAL_ENCARGO  VL_DESPESA_CUSTEIO  VL_DESPESA_INVESTIMENTO  \\\n",
       "0                1.050124e+08        1.225790e+08               9606414.13   \n",
       "1                2.873756e+08        2.102659e+08              23154904.42   \n",
       "2                1.080347e+08        1.491604e+08               8212361.64   \n",
       "3                1.322010e+08        1.839712e+08              12676251.59   \n",
       "4                4.092087e+07        4.907550e+07                 73345.77   \n",
       "\n",
       "   VL_DESPESA_PESQUISA  VL_DESPESA_OUTRA  \n",
       "0           2512494.15      3.046410e+08  \n",
       "1          10350582.30      4.738549e+08  \n",
       "2           1445146.30      3.204186e+08  \n",
       "3           1312837.53      6.845330e+07  \n",
       "4            828200.00      2.165275e+08  \n",
       "\n",
       "[5 rows x 48 columns]"
      ]
     },
     "execution_count": 4,
     "metadata": {},
     "output_type": "execute_result"
    }
   ],
   "source": [
    "# Verificando as 5 primeiras linhas do arquivo\n",
    "ies.head()"
   ]
  },
  {
   "cell_type": "code",
   "execution_count": 5,
   "metadata": {},
   "outputs": [],
   "source": [
    "# Importando arquivo de cidades do IBGE que servirá para popular o endereço das IES\n",
    "colunas = ['codigo_ibge','NO_MUNICIPIO','LAT_MUNICIPIO','LON_MUNICIPIO','CO_UF','SG_UF','NO_UF']\n",
    "municipios = pd.read_csv('../data/municipios.csv', sep=\",\", header=0, names=colunas)"
   ]
  },
  {
   "cell_type": "code",
   "execution_count": 6,
   "metadata": {},
   "outputs": [
    {
     "data": {
      "text/plain": [
       "(5570, 7)"
      ]
     },
     "execution_count": 6,
     "metadata": {},
     "output_type": "execute_result"
    }
   ],
   "source": [
    "municipios.shape"
   ]
  },
  {
   "cell_type": "code",
   "execution_count": 7,
   "metadata": {},
   "outputs": [
    {
     "data": {
      "text/html": [
       "<div>\n",
       "<style scoped>\n",
       "    .dataframe tbody tr th:only-of-type {\n",
       "        vertical-align: middle;\n",
       "    }\n",
       "\n",
       "    .dataframe tbody tr th {\n",
       "        vertical-align: top;\n",
       "    }\n",
       "\n",
       "    .dataframe thead th {\n",
       "        text-align: right;\n",
       "    }\n",
       "</style>\n",
       "<table border=\"1\" class=\"dataframe\">\n",
       "  <thead>\n",
       "    <tr style=\"text-align: right;\">\n",
       "      <th></th>\n",
       "      <th>codigo_ibge</th>\n",
       "      <th>NO_MUNICIPIO</th>\n",
       "      <th>LAT_MUNICIPIO</th>\n",
       "      <th>LON_MUNICIPIO</th>\n",
       "      <th>CO_UF</th>\n",
       "      <th>SG_UF</th>\n",
       "      <th>NO_UF</th>\n",
       "    </tr>\n",
       "  </thead>\n",
       "  <tbody>\n",
       "    <tr>\n",
       "      <th>0</th>\n",
       "      <td>5200050</td>\n",
       "      <td>Abadia de Goiás</td>\n",
       "      <td>-16.7573</td>\n",
       "      <td>-49.4412</td>\n",
       "      <td>52</td>\n",
       "      <td>GO</td>\n",
       "      <td>Goiás</td>\n",
       "    </tr>\n",
       "    <tr>\n",
       "      <th>1</th>\n",
       "      <td>3100104</td>\n",
       "      <td>Abadia dos Dourados</td>\n",
       "      <td>-18.4831</td>\n",
       "      <td>-47.3916</td>\n",
       "      <td>31</td>\n",
       "      <td>MG</td>\n",
       "      <td>Minas Gerais</td>\n",
       "    </tr>\n",
       "    <tr>\n",
       "      <th>2</th>\n",
       "      <td>5200100</td>\n",
       "      <td>Abadiânia</td>\n",
       "      <td>-16197.0000</td>\n",
       "      <td>-48.7057</td>\n",
       "      <td>52</td>\n",
       "      <td>GO</td>\n",
       "      <td>Goiás</td>\n",
       "    </tr>\n",
       "  </tbody>\n",
       "</table>\n",
       "</div>"
      ],
      "text/plain": [
       "   codigo_ibge         NO_MUNICIPIO  LAT_MUNICIPIO  LON_MUNICIPIO  CO_UF  \\\n",
       "0      5200050      Abadia de Goiás       -16.7573       -49.4412     52   \n",
       "1      3100104  Abadia dos Dourados       -18.4831       -47.3916     31   \n",
       "2      5200100            Abadiânia    -16197.0000       -48.7057     52   \n",
       "\n",
       "  SG_UF         NO_UF  \n",
       "0    GO         Goiás  \n",
       "1    MG  Minas Gerais  \n",
       "2    GO         Goiás  "
      ]
     },
     "execution_count": 7,
     "metadata": {},
     "output_type": "execute_result"
    }
   ],
   "source": [
    "municipios.head(3)"
   ]
  },
  {
   "cell_type": "code",
   "execution_count": 8,
   "metadata": {},
   "outputs": [],
   "source": [
    "# Removendo colunas desnecessárias\n",
    "municipios.drop(['CO_UF'], axis=1, inplace = True)"
   ]
  },
  {
   "cell_type": "code",
   "execution_count": 9,
   "metadata": {},
   "outputs": [
    {
     "data": {
      "text/plain": [
       "codigo_ibge        int64\n",
       "NO_MUNICIPIO      object\n",
       "LAT_MUNICIPIO    float64\n",
       "LON_MUNICIPIO    float64\n",
       "SG_UF             object\n",
       "NO_UF             object\n",
       "dtype: object"
      ]
     },
     "execution_count": 9,
     "metadata": {},
     "output_type": "execute_result"
    }
   ],
   "source": [
    "municipios.dtypes"
   ]
  },
  {
   "cell_type": "markdown",
   "metadata": {},
   "source": [
    "# 3 Tratando os dados do dataset"
   ]
  },
  {
   "cell_type": "code",
   "execution_count": 12,
   "metadata": {},
   "outputs": [],
   "source": [
    "# Criando um DataFrame somente com as colunas de endereço das IES \n",
    "# E outro com as colunas consideradas na estrutura do trabalho\n",
    "endereco_ies = ies[{'CO_REGIAO','CO_UF','CO_MUNICIPIO','IN_CAPITAL'}]\n",
    "\n",
    "ies = ies[{'CO_IES','NO_IES','SG_IES',\n",
    "           'TP_CATEGORIA_ADMINISTRATIVA',\n",
    "           'TP_ORGANIZACAO_ACADEMICA','QT_TEC_TOTAL'}]"
   ]
  },
  {
   "cell_type": "code",
   "execution_count": 14,
   "metadata": {},
   "outputs": [],
   "source": [
    "# Adicionando uma coluna Endereco no DataFrame das IES, pois por padrão\n",
    "# essa coluna não existe\n",
    "ies['ENDERECO'] = \"\""
   ]
  },
  {
   "cell_type": "code",
   "execution_count": 15,
   "metadata": {},
   "outputs": [
    {
     "data": {
      "text/plain": [
       "CO_MUNICIPIO    int64\n",
       "IN_CAPITAL      int64\n",
       "CO_REGIAO       int64\n",
       "CO_UF           int64\n",
       "dtype: object"
      ]
     },
     "execution_count": 15,
     "metadata": {},
     "output_type": "execute_result"
    }
   ],
   "source": [
    "endereco_ies.dtypes"
   ]
  },
  {
   "cell_type": "code",
   "execution_count": 16,
   "metadata": {},
   "outputs": [],
   "source": [
    "## Categorizando o IN_CAPITAL do endereco \n",
    "# 1) Alterando o tipo dos dados int, para object (string)\n",
    "endereco_ies['IN_CAPITAL'] = endereco_ies['IN_CAPITAL'].apply(str)"
   ]
  },
  {
   "cell_type": "code",
   "execution_count": 17,
   "metadata": {},
   "outputs": [],
   "source": [
    "# Alterando os valores por suas respectivas categorias  \n",
    "# 2) IN CAPITAL 0: Não; 1: Sim. \n",
    "endereco_ies.loc[endereco_ies['IN_CAPITAL'] == '0', 'IN_CAPITAL'] = 'Não'\n",
    "endereco_ies.loc[endereco_ies['IN_CAPITAL'] == '1', 'IN_CAPITAL'] = 'Sim'"
   ]
  },
  {
   "cell_type": "code",
   "execution_count": 18,
   "metadata": {},
   "outputs": [],
   "source": [
    "# fazendo um merge de endereço com municipios\n",
    "endereco_ies = endereco_ies.merge(municipios, how='left', left_on='CO_MUNICIPIO', right_on='codigo_ibge')"
   ]
  },
  {
   "cell_type": "code",
   "execution_count": 19,
   "metadata": {},
   "outputs": [
    {
     "data": {
      "text/plain": [
       "(2608, 10)"
      ]
     },
     "execution_count": 19,
     "metadata": {},
     "output_type": "execute_result"
    }
   ],
   "source": [
    "endereco_ies.shape"
   ]
  },
  {
   "cell_type": "code",
   "execution_count": 20,
   "metadata": {},
   "outputs": [],
   "source": [
    "# Removendo colunas desnecessárias\n",
    "endereco_ies.drop(['codigo_ibge'], axis=1, inplace = True)"
   ]
  },
  {
   "cell_type": "code",
   "execution_count": 21,
   "metadata": {},
   "outputs": [
    {
     "data": {
      "text/html": [
       "<div>\n",
       "<style scoped>\n",
       "    .dataframe tbody tr th:only-of-type {\n",
       "        vertical-align: middle;\n",
       "    }\n",
       "\n",
       "    .dataframe tbody tr th {\n",
       "        vertical-align: top;\n",
       "    }\n",
       "\n",
       "    .dataframe thead th {\n",
       "        text-align: right;\n",
       "    }\n",
       "</style>\n",
       "<table border=\"1\" class=\"dataframe\">\n",
       "  <thead>\n",
       "    <tr style=\"text-align: right;\">\n",
       "      <th></th>\n",
       "      <th>CO_MUNICIPIO</th>\n",
       "      <th>IN_CAPITAL</th>\n",
       "      <th>CO_REGIAO</th>\n",
       "      <th>CO_UF</th>\n",
       "      <th>NO_MUNICIPIO</th>\n",
       "      <th>LAT_MUNICIPIO</th>\n",
       "      <th>LON_MUNICIPIO</th>\n",
       "      <th>SG_UF</th>\n",
       "      <th>NO_UF</th>\n",
       "    </tr>\n",
       "  </thead>\n",
       "  <tbody>\n",
       "    <tr>\n",
       "      <th>0</th>\n",
       "      <td>5103403</td>\n",
       "      <td>Sim</td>\n",
       "      <td>5</td>\n",
       "      <td>51</td>\n",
       "      <td>Cuiabá</td>\n",
       "      <td>-15601.0000</td>\n",
       "      <td>-56.0974</td>\n",
       "      <td>MT</td>\n",
       "      <td>Mato Grosso</td>\n",
       "    </tr>\n",
       "    <tr>\n",
       "      <th>1</th>\n",
       "      <td>5300108</td>\n",
       "      <td>Sim</td>\n",
       "      <td>5</td>\n",
       "      <td>53</td>\n",
       "      <td>Brasília</td>\n",
       "      <td>-15.7795</td>\n",
       "      <td>-47.9297</td>\n",
       "      <td>DF</td>\n",
       "      <td>Distrito Federal</td>\n",
       "    </tr>\n",
       "    <tr>\n",
       "      <th>2</th>\n",
       "      <td>2806701</td>\n",
       "      <td>Não</td>\n",
       "      <td>2</td>\n",
       "      <td>28</td>\n",
       "      <td>São Cristóvão</td>\n",
       "      <td>-11.0084</td>\n",
       "      <td>-37.2044</td>\n",
       "      <td>SE</td>\n",
       "      <td>Sergipe</td>\n",
       "    </tr>\n",
       "  </tbody>\n",
       "</table>\n",
       "</div>"
      ],
      "text/plain": [
       "   CO_MUNICIPIO IN_CAPITAL  CO_REGIAO  CO_UF   NO_MUNICIPIO  LAT_MUNICIPIO  \\\n",
       "0       5103403        Sim          5     51         Cuiabá    -15601.0000   \n",
       "1       5300108        Sim          5     53       Brasília       -15.7795   \n",
       "2       2806701        Não          2     28  São Cristóvão       -11.0084   \n",
       "\n",
       "   LON_MUNICIPIO SG_UF             NO_UF  \n",
       "0       -56.0974    MT       Mato Grosso  \n",
       "1       -47.9297    DF  Distrito Federal  \n",
       "2       -37.2044    SE           Sergipe  "
      ]
     },
     "execution_count": 21,
     "metadata": {},
     "output_type": "execute_result"
    }
   ],
   "source": [
    "# Resultado da junção de endereço e municipios\n",
    "endereco_ies.head(3)"
   ]
  },
  {
   "cell_type": "code",
   "execution_count": 22,
   "metadata": {},
   "outputs": [
    {
     "data": {
      "text/plain": [
       "CO_MUNICIPIO     0\n",
       "IN_CAPITAL       0\n",
       "CO_REGIAO        0\n",
       "CO_UF            0\n",
       "NO_MUNICIPIO     0\n",
       "LAT_MUNICIPIO    0\n",
       "LON_MUNICIPIO    0\n",
       "SG_UF            0\n",
       "NO_UF            0\n",
       "dtype: int64"
      ]
     },
     "execution_count": 22,
     "metadata": {},
     "output_type": "execute_result"
    }
   ],
   "source": [
    "endereco_ies.isnull().sum()"
   ]
  },
  {
   "cell_type": "code",
   "execution_count": 23,
   "metadata": {},
   "outputs": [
    {
     "data": {
      "text/plain": [
       "(2608, 9)"
      ]
     },
     "execution_count": 23,
     "metadata": {},
     "output_type": "execute_result"
    }
   ],
   "source": [
    "endereco_ies.shape"
   ]
  },
  {
   "cell_type": "code",
   "execution_count": 24,
   "metadata": {},
   "outputs": [],
   "source": [
    "# Criando um dicionário do Python a partir do DataFrame de enderecos\n",
    "endereco_ies_dict = endereco_ies.to_dict('records')"
   ]
  },
  {
   "cell_type": "code",
   "execution_count": 25,
   "metadata": {},
   "outputs": [
    {
     "data": {
      "text/plain": [
       "{'CO_MUNICIPIO': 4311403,\n",
       " 'IN_CAPITAL': 'Não',\n",
       " 'CO_REGIAO': 4,\n",
       " 'CO_UF': 43,\n",
       " 'NO_MUNICIPIO': 'Lajeado',\n",
       " 'LAT_MUNICIPIO': -29.4591,\n",
       " 'LON_MUNICIPIO': -51.9644,\n",
       " 'SG_UF': 'RS',\n",
       " 'NO_UF': 'Rio Grande do Sul'}"
      ]
     },
     "execution_count": 25,
     "metadata": {},
     "output_type": "execute_result"
    }
   ],
   "source": [
    "endereco_ies_dict[200]"
   ]
  },
  {
   "cell_type": "code",
   "execution_count": 26,
   "metadata": {},
   "outputs": [],
   "source": [
    "# Adicionando um endereco (através do dicionário criado no passo anterior)\n",
    "# e inserindo na coluna \"ENDERECO\" de cada IES\n",
    "for i in ies.index:\n",
    "    ies.at[i,'ENDERECO'] = endereco_ies_dict[i]  "
   ]
  },
  {
   "cell_type": "code",
   "execution_count": 27,
   "metadata": {},
   "outputs": [
    {
     "name": "stdout",
     "output_type": "stream",
     "text": [
      "200    {'CO_MUNICIPIO': 4311403, 'IN_CAPITAL': 'Não',...\n",
      "Name: ENDERECO, dtype: object\n"
     ]
    }
   ],
   "source": [
    "print(ies.query(\"SG_IES == 'UNIVATES'\")['ENDERECO'])"
   ]
  },
  {
   "cell_type": "code",
   "execution_count": 28,
   "metadata": {},
   "outputs": [
    {
     "data": {
      "text/plain": [
       "NO_IES                           0\n",
       "TP_ORGANIZACAO_ACADEMICA         0\n",
       "QT_TEC_TOTAL                     0\n",
       "TP_CATEGORIA_ADMINISTRATIVA      0\n",
       "CO_IES                           0\n",
       "SG_IES                         464\n",
       "ENDERECO                         0\n",
       "dtype: int64"
      ]
     },
     "execution_count": 28,
     "metadata": {},
     "output_type": "execute_result"
    }
   ],
   "source": [
    "ies.isnull().sum()"
   ]
  },
  {
   "cell_type": "code",
   "execution_count": 29,
   "metadata": {},
   "outputs": [],
   "source": [
    "# Alterando os valores nulos da sigla da IES para 'Sem sigla'.\n",
    "ies['SG_IES'].fillna('Sem SIGLA', inplace = True)"
   ]
  },
  {
   "cell_type": "code",
   "execution_count": 30,
   "metadata": {},
   "outputs": [],
   "source": [
    "# 1) Alterando o tipo dos dados int, para object (string)\n",
    "ies['TP_CATEGORIA_ADMINISTRATIVA'] = ies['TP_CATEGORIA_ADMINISTRATIVA'].apply(str)\n",
    "ies['TP_ORGANIZACAO_ACADEMICA'] = ies['TP_ORGANIZACAO_ACADEMICA'].apply(str)\n"
   ]
  },
  {
   "cell_type": "code",
   "execution_count": 31,
   "metadata": {},
   "outputs": [],
   "source": [
    "# Alterando os valores por suas respectivas categorias  \n",
    "# 2) TP_CATEGORIA_ADMINISTRATIVA: 1: Pública Federal; 2: Pública Federal; \n",
    "# 3: Pùblica Municipal; 4: Privada com fins lucrativos; 5: Privada sem fins lucrativos;\n",
    "# 6: Privada - Particular em sentido estrito; 7: Especial\n",
    "# 8: Privada comunitária; 9: Privada confessional.  \n",
    "ies.loc[ies['TP_CATEGORIA_ADMINISTRATIVA'] == '1', 'TP_CATEGORIA_ADMINISTRATIVA'] = 'Pública Federal'\n",
    "ies.loc[ies['TP_CATEGORIA_ADMINISTRATIVA'] == '2', 'TP_CATEGORIA_ADMINISTRATIVA'] = 'Pública Federal'\n",
    "ies.loc[ies['TP_CATEGORIA_ADMINISTRATIVA'] == '3', 'TP_CATEGORIA_ADMINISTRATIVA'] = 'Pública Municipal'\n",
    "ies.loc[ies['TP_CATEGORIA_ADMINISTRATIVA'] == '4', 'TP_CATEGORIA_ADMINISTRATIVA'] = 'Privada com fins lucrativo'\n",
    "ies.loc[ies['TP_CATEGORIA_ADMINISTRATIVA'] == '5', 'TP_CATEGORIA_ADMINISTRATIVA'] = 'Privada sem fins lucrativos'\n",
    "ies.loc[ies['TP_CATEGORIA_ADMINISTRATIVA'] == '6', 'TP_CATEGORIA_ADMINISTRATIVA'] = 'Privada - Particular em sentido estrito'\n",
    "ies.loc[ies['TP_CATEGORIA_ADMINISTRATIVA'] == '7', 'TP_CATEGORIA_ADMINISTRATIVA'] = 'Especial'\n",
    "ies.loc[ies['TP_CATEGORIA_ADMINISTRATIVA'] == '8', 'TP_CATEGORIA_ADMINISTRATIVA'] = 'Privada comunitária'\n",
    "ies.loc[ies['TP_CATEGORIA_ADMINISTRATIVA'] == '9', 'TP_CATEGORIA_ADMINISTRATIVA'] = 'Privada confessional'\n",
    "\n",
    "# 2) TP_ORGANIZACAO_ACADEMICA: 1: Universidade; 2: Centro Universitário; \n",
    "# 3: Faculdade; 4: Instituto Federal de Educação Ciência e Tecnologia; \n",
    "# 5: Centro Federal de Educação Tecnológica\n",
    "  \n",
    "ies.loc[ies['TP_ORGANIZACAO_ACADEMICA'] == '1', 'TP_ORGANIZACAO_ACADEMICA'] = 'Universidade'\n",
    "ies.loc[ies['TP_ORGANIZACAO_ACADEMICA'] == '2', 'TP_ORGANIZACAO_ACADEMICA'] = 'Centro Universitário'\n",
    "ies.loc[ies['TP_ORGANIZACAO_ACADEMICA'] == '3', 'TP_ORGANIZACAO_ACADEMICA'] = 'Faculdade'\n",
    "ies.loc[ies['TP_ORGANIZACAO_ACADEMICA'] == '4', 'TP_ORGANIZACAO_ACADEMICA'] = 'Instituto Federal de Educação Ciência e Tecnologia'\n",
    "ies.loc[ies['TP_ORGANIZACAO_ACADEMICA'] == '5', 'TP_ORGANIZACAO_ACADEMICA'] = 'Centro Federal de Educação Tecnológica'\n"
   ]
  },
  {
   "cell_type": "code",
   "execution_count": 32,
   "metadata": {
    "scrolled": true
   },
   "outputs": [
    {
     "data": {
      "text/html": [
       "<div>\n",
       "<style scoped>\n",
       "    .dataframe tbody tr th:only-of-type {\n",
       "        vertical-align: middle;\n",
       "    }\n",
       "\n",
       "    .dataframe tbody tr th {\n",
       "        vertical-align: top;\n",
       "    }\n",
       "\n",
       "    .dataframe thead th {\n",
       "        text-align: right;\n",
       "    }\n",
       "</style>\n",
       "<table border=\"1\" class=\"dataframe\">\n",
       "  <thead>\n",
       "    <tr style=\"text-align: right;\">\n",
       "      <th></th>\n",
       "      <th>NO_IES</th>\n",
       "      <th>TP_ORGANIZACAO_ACADEMICA</th>\n",
       "      <th>QT_TEC_TOTAL</th>\n",
       "      <th>TP_CATEGORIA_ADMINISTRATIVA</th>\n",
       "      <th>CO_IES</th>\n",
       "      <th>SG_IES</th>\n",
       "      <th>ENDERECO</th>\n",
       "    </tr>\n",
       "  </thead>\n",
       "  <tbody>\n",
       "    <tr>\n",
       "      <th>0</th>\n",
       "      <td>UNIVERSIDADE FEDERAL DE MATO GROSSO</td>\n",
       "      <td>Universidade</td>\n",
       "      <td>1483</td>\n",
       "      <td>Pública Federal</td>\n",
       "      <td>1</td>\n",
       "      <td>UFMT</td>\n",
       "      <td>{'CO_MUNICIPIO': 5103403, 'IN_CAPITAL': 'Sim',...</td>\n",
       "    </tr>\n",
       "    <tr>\n",
       "      <th>1</th>\n",
       "      <td>UNIVERSIDADE DE BRASÍLIA</td>\n",
       "      <td>Universidade</td>\n",
       "      <td>3233</td>\n",
       "      <td>Pública Federal</td>\n",
       "      <td>2</td>\n",
       "      <td>UNB</td>\n",
       "      <td>{'CO_MUNICIPIO': 5300108, 'IN_CAPITAL': 'Sim',...</td>\n",
       "    </tr>\n",
       "    <tr>\n",
       "      <th>2</th>\n",
       "      <td>UNIVERSIDADE FEDERAL DE SERGIPE</td>\n",
       "      <td>Universidade</td>\n",
       "      <td>1444</td>\n",
       "      <td>Pública Federal</td>\n",
       "      <td>3</td>\n",
       "      <td>UFS</td>\n",
       "      <td>{'CO_MUNICIPIO': 2806701, 'IN_CAPITAL': 'Não',...</td>\n",
       "    </tr>\n",
       "  </tbody>\n",
       "</table>\n",
       "</div>"
      ],
      "text/plain": [
       "                                NO_IES TP_ORGANIZACAO_ACADEMICA  QT_TEC_TOTAL  \\\n",
       "0  UNIVERSIDADE FEDERAL DE MATO GROSSO             Universidade          1483   \n",
       "1             UNIVERSIDADE DE BRASÍLIA             Universidade          3233   \n",
       "2      UNIVERSIDADE FEDERAL DE SERGIPE             Universidade          1444   \n",
       "\n",
       "  TP_CATEGORIA_ADMINISTRATIVA  CO_IES SG_IES  \\\n",
       "0             Pública Federal       1   UFMT   \n",
       "1             Pública Federal       2    UNB   \n",
       "2             Pública Federal       3    UFS   \n",
       "\n",
       "                                            ENDERECO  \n",
       "0  {'CO_MUNICIPIO': 5103403, 'IN_CAPITAL': 'Sim',...  \n",
       "1  {'CO_MUNICIPIO': 5300108, 'IN_CAPITAL': 'Sim',...  \n",
       "2  {'CO_MUNICIPIO': 2806701, 'IN_CAPITAL': 'Não',...  "
      ]
     },
     "execution_count": 32,
     "metadata": {},
     "output_type": "execute_result"
    }
   ],
   "source": [
    "ies.head(3)"
   ]
  },
  {
   "cell_type": "markdown",
   "metadata": {},
   "source": [
    "# 4. Análise dos dados das ies\n"
   ]
  },
  {
   "cell_type": "code",
   "execution_count": 33,
   "metadata": {},
   "outputs": [
    {
     "name": "stdout",
     "output_type": "stream",
     "text": [
      "Quantidade de linhas:  2608\n",
      "Quantidade de colunas:  7\n"
     ]
    }
   ],
   "source": [
    "print(\"Quantidade de linhas: \", ies.shape[0])\n",
    "print(\"Quantidade de colunas: \",ies.shape[1])"
   ]
  },
  {
   "cell_type": "code",
   "execution_count": 34,
   "metadata": {},
   "outputs": [
    {
     "data": {
      "text/html": [
       "<div>\n",
       "<style scoped>\n",
       "    .dataframe tbody tr th:only-of-type {\n",
       "        vertical-align: middle;\n",
       "    }\n",
       "\n",
       "    .dataframe tbody tr th {\n",
       "        vertical-align: top;\n",
       "    }\n",
       "\n",
       "    .dataframe thead th {\n",
       "        text-align: right;\n",
       "    }\n",
       "</style>\n",
       "<table border=\"1\" class=\"dataframe\">\n",
       "  <thead>\n",
       "    <tr style=\"text-align: right;\">\n",
       "      <th></th>\n",
       "      <th>QT_TEC_TOTAL</th>\n",
       "      <th>CO_IES</th>\n",
       "    </tr>\n",
       "  </thead>\n",
       "  <tbody>\n",
       "    <tr>\n",
       "      <th>count</th>\n",
       "      <td>2608.000000</td>\n",
       "      <td>2608.000000</td>\n",
       "    </tr>\n",
       "    <tr>\n",
       "      <th>mean</th>\n",
       "      <td>145.374617</td>\n",
       "      <td>6872.965874</td>\n",
       "    </tr>\n",
       "    <tr>\n",
       "      <th>std</th>\n",
       "      <td>436.506763</td>\n",
       "      <td>7545.457622</td>\n",
       "    </tr>\n",
       "    <tr>\n",
       "      <th>min</th>\n",
       "      <td>1.000000</td>\n",
       "      <td>1.000000</td>\n",
       "    </tr>\n",
       "    <tr>\n",
       "      <th>25%</th>\n",
       "      <td>12.000000</td>\n",
       "      <td>1373.750000</td>\n",
       "    </tr>\n",
       "    <tr>\n",
       "      <th>50%</th>\n",
       "      <td>29.000000</td>\n",
       "      <td>2857.000000</td>\n",
       "    </tr>\n",
       "    <tr>\n",
       "      <th>75%</th>\n",
       "      <td>83.000000</td>\n",
       "      <td>14161.250000</td>\n",
       "    </tr>\n",
       "    <tr>\n",
       "      <th>max</th>\n",
       "      <td>9421.000000</td>\n",
       "      <td>24672.000000</td>\n",
       "    </tr>\n",
       "  </tbody>\n",
       "</table>\n",
       "</div>"
      ],
      "text/plain": [
       "       QT_TEC_TOTAL        CO_IES\n",
       "count   2608.000000   2608.000000\n",
       "mean     145.374617   6872.965874\n",
       "std      436.506763   7545.457622\n",
       "min        1.000000      1.000000\n",
       "25%       12.000000   1373.750000\n",
       "50%       29.000000   2857.000000\n",
       "75%       83.000000  14161.250000\n",
       "max     9421.000000  24672.000000"
      ]
     },
     "execution_count": 34,
     "metadata": {},
     "output_type": "execute_result"
    }
   ],
   "source": [
    "ies.describe()"
   ]
  },
  {
   "cell_type": "code",
   "execution_count": 35,
   "metadata": {},
   "outputs": [
    {
     "name": "stdout",
     "output_type": "stream",
     "text": [
      "Quantidade de ies por categoria administrativa\n"
     ]
    },
    {
     "data": {
      "text/plain": [
       "<matplotlib.axes._subplots.AxesSubplot at 0x7f097cea5e10>"
      ]
     },
     "execution_count": 35,
     "metadata": {},
     "output_type": "execute_result"
    },
    {
     "data": {
      "image/png": "[encoded data removed]",
      "text/plain": [
       "<Figure size 1080x576 with 1 Axes>"
      ]
     },
     "metadata": {
      "needs_background": "light"
     },
     "output_type": "display_data"
    }
   ],
   "source": [
    "print(\"Quantidade de ies por categoria administrativa\")\n",
    "plt.figure(figsize=(15,8))\n",
    "sns.countplot(x='TP_CATEGORIA_ADMINISTRATIVA', data=ies)"
   ]
  },
  {
   "cell_type": "code",
   "execution_count": 36,
   "metadata": {},
   "outputs": [
    {
     "name": "stdout",
     "output_type": "stream",
     "text": [
      "Quantidade de ies por organização acadêmica\n"
     ]
    },
    {
     "data": {
      "text/plain": [
       "<matplotlib.axes._subplots.AxesSubplot at 0x7f0973767210>"
      ]
     },
     "execution_count": 36,
     "metadata": {},
     "output_type": "execute_result"
    },
    {
     "data": {
      "image/png": "[encoded data removed]",
      "text/plain": [
       "<Figure size 1080x576 with 1 Axes>"
      ]
     },
     "metadata": {
      "needs_background": "light"
     },
     "output_type": "display_data"
    }
   ],
   "source": [
    "print(\"Quantidade de ies por organização acadêmica\")\n",
    "plt.figure(figsize=(15,8))\n",
    "sns.countplot(x='TP_ORGANIZACAO_ACADEMICA', data=ies)"
   ]
  },
  {
   "cell_type": "markdown",
   "metadata": {},
   "source": [
    "# 5. Envio dos dados para o mongoDB"
   ]
  },
  {
   "cell_type": "code",
   "execution_count": 37,
   "metadata": {},
   "outputs": [],
   "source": [
    "# Criando a conexão com o mongoDB\n",
    "client = pym.MongoClient('mongodb://localhost:27017/')\n",
    "\n",
    "# Acessando a base de dados criada para o teste\n",
    "db = client['censo']\n",
    "\n",
    "# Acessando a coleção de teste \"ies\" criada \n",
    "collection_ies =  db['ies']"
   ]
  },
  {
   "cell_type": "code",
   "execution_count": 38,
   "metadata": {},
   "outputs": [],
   "source": [
    "# Transformando o DataSet das IES em um dicionario com o objetivo\n",
    "# de salvar ele no MongoDB, pois o banco não aceita estruturas do tipo DataFrame\n",
    "ies_dict = ies.to_dict('records')"
   ]
  },
  {
   "cell_type": "code",
   "execution_count": 39,
   "metadata": {},
   "outputs": [
    {
     "data": {
      "text/plain": [
       "<pymongo.results.InsertManyResult at 0x7f09719a39b0>"
      ]
     },
     "execution_count": 39,
     "metadata": {},
     "output_type": "execute_result"
    }
   ],
   "source": [
    "# Enviando os dados para o MongoDB\n",
    "collection_ies.insert_many(ies_dict)"
   ]
  }
 ],
 "metadata": {
  "kernelspec": {
   "display_name": "Python 3",
   "language": "python",
   "name": "python3"
  },
  "language_info": {
   "codemirror_mode": {
    "name": "ipython",
    "version": 3
   },
   "file_extension": ".py",
   "mimetype": "text/x-python",
   "name": "python",
   "nbconvert_exporter": "python",
   "pygments_lexer": "ipython3",
   "version": "3.7.6"
  }
 },
 "nbformat": 4,
 "nbformat_minor": 4
}

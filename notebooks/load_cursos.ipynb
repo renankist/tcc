{
 "cells": [
  {
   "cell_type": "markdown",
   "metadata": {},
   "source": [
    "# 1. Importação das bilbiotecas necessárias\n",
    "\n"
   ]
  },
  {
   "cell_type": "code",
   "execution_count": null,
   "metadata": {},
   "outputs": [],
   "source": [
    "# Importando o pandas\n",
    "import pandas as pd\n",
    "\n",
    "# Importando biblioteca para trabalhar com o MongoDB\n",
    "import pymongo as pym\n",
    "\n",
    "# Importando o numpy para trabalhar com cálculos matemáticos\n",
    "import numpy as np\n",
    "\n",
    "#Importando o seaborn e o matplotlib para análises gráficas\n",
    "import seaborn as sns\n",
    "import matplotlib.pyplot as plt"
   ]
  },
  {
   "cell_type": "markdown",
   "metadata": {},
   "source": [
    "# 2. Carga do arquivo e dados iniciais"
   ]
  },
  {
   "cell_type": "code",
   "execution_count": null,
   "metadata": {},
   "outputs": [],
   "source": [
    "# Lendo o arquivo CSV disponível nos microdados do Censo da Educação Superior e gravando\n",
    "# ele em um DataFrame\n",
    "cursos = pd.read_csv('../data/SUP_CURSO_2019.CSV', sep=\"|\", encoding=\"latin-1\")"
   ]
  },
  {
   "cell_type": "code",
   "execution_count": null,
   "metadata": {},
   "outputs": [],
   "source": [
    "# Verificando a quantidade de linhas e colunas do arquivo \n",
    "cursos.shape"
   ]
  },
  {
   "cell_type": "code",
   "execution_count": null,
   "metadata": {},
   "outputs": [],
   "source": [
    "# Verificando as 5 primeiras linhas do arquivo\n",
    "cursos.head()"
   ]
  },
  {
   "cell_type": "code",
   "execution_count": null,
   "metadata": {},
   "outputs": [],
   "source": [
    "# Selecionando somente as colunas necessárias descritas na documentação do trabalho: \n",
    "# COD_IES, CO_CURSO,NO_CURSO, TP_SITUACAO, TP_GRAU_ACADEMICO, TP_MODALIDADE_ENSINO\n",
    "# TP_NIVEL_ACADEMICO, IN_GRATUITO, NU_CARGA_HORARIA \n",
    "\n",
    "cursos = cursos[{'CO_IES','CO_CURSO','NO_CURSO','TP_SITUACAO','TP_GRAU_ACADEMICO',\n",
    "                'TP_MODALIDADE_ENSINO','TP_NIVEL_ACADEMICO','IN_GRATUITO',\n",
    "                 'NU_CARGA_HORARIA'}]"
   ]
  },
  {
   "cell_type": "code",
   "execution_count": null,
   "metadata": {},
   "outputs": [],
   "source": [
    "# Verificando novamente a quantidade de linhas e colunas do arquivo\n",
    "# após a seleção de somente as colunas necessárias\n",
    "cursos.shape"
   ]
  },
  {
   "cell_type": "code",
   "execution_count": null,
   "metadata": {},
   "outputs": [],
   "source": [
    "# Verificando o tipo de cada coluna\n",
    "cursos.dtypes"
   ]
  },
  {
   "cell_type": "code",
   "execution_count": null,
   "metadata": {},
   "outputs": [],
   "source": [
    "# Verificando a 5 primeiras linhas do novo arquivo\n",
    "cursos.head()"
   ]
  },
  {
   "cell_type": "markdown",
   "metadata": {},
   "source": [
    "# 3. Tratando os dados do dataset"
   ]
  },
  {
   "cell_type": "code",
   "execution_count": null,
   "metadata": {},
   "outputs": [],
   "source": [
    "## Verificando a quantidade de valores nulos por coluna\n",
    "cursos.isnull().sum()"
   ]
  },
  {
   "cell_type": "code",
   "execution_count": null,
   "metadata": {},
   "outputs": [],
   "source": [
    "# No arquivo do Censo, cada atributo está armazenado como número \n",
    "# então preciso fazer o tratamento desses dados conforme dicionário \n",
    "# também disponível no Censo "
   ]
  },
  {
   "cell_type": "code",
   "execution_count": null,
   "metadata": {},
   "outputs": [],
   "source": [
    "# Alterar os valores nulos por \"NÃO INFORMADO\"\n",
    "cursos['TP_GRAU_ACADEMICO'].fillna(value='Não informado', inplace=True)"
   ]
  },
  {
   "cell_type": "code",
   "execution_count": null,
   "metadata": {},
   "outputs": [],
   "source": [
    "# 1) Alterando o tipo dos dados int, para object (string)\n",
    "cursos['TP_SITUACAO'] = cursos['TP_SITUACAO'].apply(str)\n",
    "cursos['TP_NIVEL_ACADEMICO'] = cursos['TP_NIVEL_ACADEMICO'].apply(str)\n",
    "cursos['TP_MODALIDADE_ENSINO'] = cursos['TP_MODALIDADE_ENSINO'].apply(str)\n",
    "cursos['TP_GRAU_ACADEMICO'] = cursos['TP_GRAU_ACADEMICO'].apply(str)\n",
    "cursos['IN_GRATUITO'] = cursos['IN_GRATUITO'].apply(str)"
   ]
  },
  {
   "cell_type": "code",
   "execution_count": null,
   "metadata": {},
   "outputs": [],
   "source": [
    "# Alterando os valores por suas respectivas categorias  \n",
    "# 2) TP_SITUACAO: 1: Em atividade; 2:Extinto; 3: Em extinção.  \n",
    "cursos.loc[cursos['TP_SITUACAO'] == '1', 'TP_SITUACAO'] = 'Em atividade'\n",
    "cursos.loc[cursos['TP_SITUACAO'] == '2', 'TP_SITUACAO'] = 'Extinto'\n",
    "cursos.loc[cursos['TP_SITUACAO'] == '3', 'TP_SITUACAO'] = 'Em extinção'\n",
    "\n",
    "# 3) TP_NIVEL_ACADEMICO: 1: Graduação; 2:Sequencial\n",
    "cursos.loc[cursos['TP_NIVEL_ACADEMICO'] == '1', 'TP_NIVEL_ACADEMICO'] = 'Graduação'\n",
    "cursos.loc[cursos['TP_NIVEL_ACADEMICO'] == '2', 'TP_NIVEL_ACADEMICO'] = 'Sequencial'\n",
    "\n",
    "# 4) TP_MODALIDADE_ENSINO: 1: Presencial; 2:EAD\n",
    "cursos.loc[cursos['TP_MODALIDADE_ENSINO'] == '1', 'TP_MODALIDADE_ENSINO'] = 'Presencial'\n",
    "cursos.loc[cursos['TP_MODALIDADE_ENSINO'] == '2', 'TP_MODALIDADE_ENSINO'] = 'EAD'\n",
    "\n",
    "# 5) TP_GRAU_ACADEMICO: 1: Bacharelado; 2: Licenciatura; 3: Tecnológico; 4: Bacharelado e Licenciatura. \n",
    "cursos.loc[cursos['TP_GRAU_ACADEMICO'] == '1.0', 'TP_GRAU_ACADEMICO'] = 'Bacharelado'\n",
    "cursos.loc[cursos['TP_GRAU_ACADEMICO'] == '2.0', 'TP_GRAU_ACADEMICO'] = 'Licenciatura'\n",
    "cursos.loc[cursos['TP_GRAU_ACADEMICO'] == '3.0', 'TP_GRAU_ACADEMICO'] = 'Tecnológico'\n",
    "cursos.loc[cursos['TP_GRAU_ACADEMICO'] == '4.0', 'TP_GRAU_ACADEMICO'] = 'Bacharelado e Licenciatura'\n",
    "\n",
    "# 6) IN_GRATUITO: 0: Não; 1: Sim. \n",
    "cursos.loc[cursos['IN_GRATUITO'] == '0', 'IN_GRATUITO'] = 'Não'\n",
    "cursos.loc[cursos['IN_GRATUITO'] == '1', 'IN_GRATUITO'] = 'Sim'"
   ]
  },
  {
   "cell_type": "code",
   "execution_count": null,
   "metadata": {},
   "outputs": [],
   "source": [
    "cursos.groupby(by='IN_GRATUITO').count()"
   ]
  },
  {
   "cell_type": "code",
   "execution_count": null,
   "metadata": {},
   "outputs": [],
   "source": [
    "# Resultado do dataset após categorização das colunas necessaŕias: \n",
    "\n",
    "cursos.head(5)"
   ]
  },
  {
   "cell_type": "markdown",
   "metadata": {},
   "source": [
    "# 4. Análise dos dados de cursos"
   ]
  },
  {
   "cell_type": "code",
   "execution_count": null,
   "metadata": {},
   "outputs": [],
   "source": [
    "print(\"Quantidade de linhas: \", cursos.shape[0])\n",
    "print(\"Quantidade de colunas: \",cursos.shape[1])"
   ]
  },
  {
   "cell_type": "code",
   "execution_count": null,
   "metadata": {},
   "outputs": [],
   "source": [
    "# Descrição dos dados\n",
    "cursos.describe()"
   ]
  },
  {
   "cell_type": "code",
   "execution_count": null,
   "metadata": {},
   "outputs": [],
   "source": [
    "print(\"Quantidade de cursos por modalidade\")\n",
    "sns.countplot(x='TP_MODALIDADE_ENSINO', data=cursos)"
   ]
  },
  {
   "cell_type": "code",
   "execution_count": null,
   "metadata": {},
   "outputs": [],
   "source": [
    "print(\"Quantidade de cursos por situação\")\n",
    "sns.countplot(x='TP_SITUACAO', data=cursos)"
   ]
  },
  {
   "cell_type": "code",
   "execution_count": null,
   "metadata": {},
   "outputs": [],
   "source": [
    "print(\"Quantidade de cursos por grau acadêmico\")\n",
    "sns.countplot(x='TP_GRAU_ACADEMICO', data=cursos)"
   ]
  },
  {
   "cell_type": "code",
   "execution_count": null,
   "metadata": {},
   "outputs": [],
   "source": [
    "print(\"Quantidade de cursos por nível\")\n",
    "sns.countplot(x='TP_NIVEL_ACADEMICO', data=cursos)"
   ]
  },
  {
   "cell_type": "code",
   "execution_count": null,
   "metadata": {},
   "outputs": [],
   "source": [
    "print(\"Quantidade de cursos gratuítos e pagos\")\n",
    "sns.countplot(x='IN_GRATUITO', data=cursos)"
   ]
  },
  {
   "cell_type": "markdown",
   "metadata": {},
   "source": [
    "# 5. Envio dos dados para o mongoDB"
   ]
  },
  {
   "cell_type": "code",
   "execution_count": null,
   "metadata": {},
   "outputs": [],
   "source": [
    "# Criando a conexão com o mongoDB\n",
    "client = pym.MongoClient('mongodb://localhost:27017/')\n",
    "\n",
    "# Acessando a base de dados criada para o teste\n",
    "db = client['censo']\n",
    "\n",
    "# Acessando a coleção curso dentro da base de dados censo  \n",
    "collection_cursos=  db['cursos']"
   ]
  },
  {
   "cell_type": "code",
   "execution_count": null,
   "metadata": {},
   "outputs": [],
   "source": [
    "# Transformando o DataSet dos cursos em um dicionario com o objetivo\n",
    "# de salvar ele no MongoDB, pois o banco não aceita estruturas do tipo DataFrame\n",
    "cursos_dict = cursos.to_dict('records')"
   ]
  },
  {
   "cell_type": "code",
   "execution_count": null,
   "metadata": {},
   "outputs": [],
   "source": [
    "# Enviando os dados para o MongoDB\n",
    "collection_cursos.insert_many(cursos_dict)"
   ]
  }
 ],
 "metadata": {
  "kernelspec": {
   "display_name": "Python 3",
   "language": "python",
   "name": "python3"
  },
  "language_info": {
   "codemirror_mode": {
    "name": "ipython",
    "version": 3
   },
   "file_extension": ".py",
   "mimetype": "text/x-python",
   "name": "python",
   "nbconvert_exporter": "python",
   "pygments_lexer": "ipython3",
   "version": "3.7.6"
  }
 },
 "nbformat": 4,
 "nbformat_minor": 4
}

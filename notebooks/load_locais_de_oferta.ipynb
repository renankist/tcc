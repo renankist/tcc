{
 "cells": [
  {
   "cell_type": "code",
   "execution_count": 1,
   "metadata": {},
   "outputs": [],
   "source": [
    "import pandas as pd\n",
    "import json"
   ]
  },
  {
   "cell_type": "code",
   "execution_count": 66,
   "metadata": {},
   "outputs": [],
   "source": [
    "data = pd.read_csv('../data/DM_DOCENTE.CSV', sep = \"|\", encoding = \"latin-1\")"
   ]
  },
  {
   "cell_type": "code",
   "execution_count": 67,
   "metadata": {},
   "outputs": [
    {
     "data": {
      "text/plain": [
       "(397893, 41)"
      ]
     },
     "execution_count": 67,
     "metadata": {},
     "output_type": "execute_result"
    }
   ],
   "source": [
    "data.shape"
   ]
  },
  {
   "cell_type": "code",
   "execution_count": 78,
   "metadata": {},
   "outputs": [],
   "source": [
    "data = data['ID_DOCENTE'].unique()"
   ]
  },
  {
   "cell_type": "code",
   "execution_count": 81,
   "metadata": {},
   "outputs": [
    {
     "data": {
      "text/plain": [
       "(352406,)"
      ]
     },
     "execution_count": 81,
     "metadata": {},
     "output_type": "execute_result"
    }
   ],
   "source": [
    "data.shape"
   ]
  },
  {
   "cell_type": "code",
   "execution_count": 59,
   "metadata": {},
   "outputs": [
    {
     "data": {
      "text/plain": [
       "(1, 112)"
      ]
     },
     "execution_count": 59,
     "metadata": {},
     "output_type": "execute_result"
    }
   ],
   "source": [
    "data.shape"
   ]
  },
  {
   "cell_type": "code",
   "execution_count": 60,
   "metadata": {},
   "outputs": [
    {
     "data": {
      "text/html": [
       "<div>\n",
       "<style scoped>\n",
       "    .dataframe tbody tr th:only-of-type {\n",
       "        vertical-align: middle;\n",
       "    }\n",
       "\n",
       "    .dataframe tbody tr th {\n",
       "        vertical-align: top;\n",
       "    }\n",
       "\n",
       "    .dataframe thead th {\n",
       "        text-align: right;\n",
       "    }\n",
       "</style>\n",
       "<table border=\"1\" class=\"dataframe\">\n",
       "  <thead>\n",
       "    <tr style=\"text-align: right;\">\n",
       "      <th></th>\n",
       "      <th>NU_ANO_CENSO</th>\n",
       "      <th>CO_IES</th>\n",
       "      <th>TP_CATEGORIA_ADMINISTRATIVA</th>\n",
       "      <th>TP_ORGANIZACAO_ACADEMICA</th>\n",
       "      <th>CO_LOCAL_OFERTA</th>\n",
       "      <th>CO_UF</th>\n",
       "      <th>CO_MUNICIPIO</th>\n",
       "      <th>IN_CAPITAL</th>\n",
       "      <th>CO_CURSO</th>\n",
       "      <th>NO_CURSO</th>\n",
       "      <th>...</th>\n",
       "      <th>QT_VAGAS_ANUAL_VESPERTINO</th>\n",
       "      <th>QT_VAGAS_ANUAL_NOTURNO</th>\n",
       "      <th>QT_VAGAS_ANUAL_EAD</th>\n",
       "      <th>QT_MATRICULA_TOTAL</th>\n",
       "      <th>QT_CONCLUINTE_TOTAL</th>\n",
       "      <th>QT_INGRESSO_TOTAL</th>\n",
       "      <th>QT_INGRESSO_VAGA_NOVA</th>\n",
       "      <th>QT_INGRESSO_PROCESSO_SELETIVO</th>\n",
       "      <th>QT_VAGA_TOTAL</th>\n",
       "      <th>QT_INSCRITO_TOTAL</th>\n",
       "    </tr>\n",
       "  </thead>\n",
       "  <tbody>\n",
       "    <tr>\n",
       "      <th>18961</th>\n",
       "      <td>2018</td>\n",
       "      <td>1041</td>\n",
       "      <td>5</td>\n",
       "      <td>1</td>\n",
       "      <td>690748.0</td>\n",
       "      <td>43.0</td>\n",
       "      <td>4311403.0</td>\n",
       "      <td>0.0</td>\n",
       "      <td>5296</td>\n",
       "      <td>LETRAS</td>\n",
       "      <td>...</td>\n",
       "      <td>NaN</td>\n",
       "      <td>NaN</td>\n",
       "      <td>NaN</td>\n",
       "      <td>20</td>\n",
       "      <td>12</td>\n",
       "      <td>2</td>\n",
       "      <td>0</td>\n",
       "      <td>NaN</td>\n",
       "      <td>22</td>\n",
       "      <td>20</td>\n",
       "    </tr>\n",
       "  </tbody>\n",
       "</table>\n",
       "<p>1 rows × 112 columns</p>\n",
       "</div>"
      ],
      "text/plain": [
       "       NU_ANO_CENSO  CO_IES  TP_CATEGORIA_ADMINISTRATIVA  \\\n",
       "18961          2018    1041                            5   \n",
       "\n",
       "       TP_ORGANIZACAO_ACADEMICA  CO_LOCAL_OFERTA  CO_UF  CO_MUNICIPIO  \\\n",
       "18961                         1         690748.0   43.0     4311403.0   \n",
       "\n",
       "       IN_CAPITAL  CO_CURSO NO_CURSO  ...  QT_VAGAS_ANUAL_VESPERTINO  \\\n",
       "18961         0.0      5296   LETRAS  ...                        NaN   \n",
       "\n",
       "      QT_VAGAS_ANUAL_NOTURNO  QT_VAGAS_ANUAL_EAD  QT_MATRICULA_TOTAL  \\\n",
       "18961                    NaN                 NaN                  20   \n",
       "\n",
       "       QT_CONCLUINTE_TOTAL  QT_INGRESSO_TOTAL  QT_INGRESSO_VAGA_NOVA  \\\n",
       "18961                   12                  2                      0   \n",
       "\n",
       "       QT_INGRESSO_PROCESSO_SELETIVO QT_VAGA_TOTAL  QT_INSCRITO_TOTAL  \n",
       "18961                            NaN            22                 20  \n",
       "\n",
       "[1 rows x 112 columns]"
      ]
     },
     "execution_count": 60,
     "metadata": {},
     "output_type": "execute_result"
    }
   ],
   "source": [
    "data.head(5)"
   ]
  },
  {
   "cell_type": "code",
   "execution_count": null,
   "metadata": {},
   "outputs": [],
   "source": []
  }
 ],
 "metadata": {
  "kernelspec": {
   "display_name": "Python 3",
   "language": "python",
   "name": "python3"
  },
  "language_info": {
   "codemirror_mode": {
    "name": "ipython",
    "version": 3
   },
   "file_extension": ".py",
   "mimetype": "text/x-python",
   "name": "python",
   "nbconvert_exporter": "python",
   "pygments_lexer": "ipython3",
   "version": "3.7.6"
  }
 },
 "nbformat": 4,
 "nbformat_minor": 4
}

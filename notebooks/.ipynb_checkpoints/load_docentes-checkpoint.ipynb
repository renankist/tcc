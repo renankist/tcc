{
 "cells": [
  {
   "cell_type": "markdown",
   "metadata": {},
   "source": [
    "# 1. Importação das bibliotecas necessárias"
   ]
  },
  {
   "cell_type": "code",
   "execution_count": 1,
   "metadata": {},
   "outputs": [],
   "source": [
    "# Importando o pandas\n",
    "import pandas as pd\n",
    "\n",
    "# Importando biblioteca para trabalhar com o MongoDB\n",
    "import pymongo as pym\n",
    "\n",
    "# Importando o numpy para trabalhar com cálculos matemáticos\n",
    "import numpy as np\n",
    "\n",
    "#Importando o seaborn e o matplotlib para análises gráficas\n",
    "import seaborn as sns\n",
    "import matplotlib.pyplot as plt"
   ]
  },
  {
   "cell_type": "markdown",
   "metadata": {},
   "source": [
    "# 2. Carga do arquivo e dados iniciais"
   ]
  },
  {
   "cell_type": "code",
   "execution_count": 2,
   "metadata": {},
   "outputs": [],
   "source": [
    "# Lendo o arquivo CSV disponível nos microdados do Censo da Educação Superior e gravando\n",
    "# ele em um DataFrame\n",
    "docentes = pd.read_csv('../data/SUP_DOCENTE_2019.CSV', sep=\"|\", encoding=\"latin-1\")"
   ]
  },
  {
   "cell_type": "code",
   "execution_count": 3,
   "metadata": {},
   "outputs": [
    {
     "data": {
      "text/plain": [
       "(399428, 41)"
      ]
     },
     "execution_count": 3,
     "metadata": {},
     "output_type": "execute_result"
    }
   ],
   "source": [
    "# Verificando a quantidade de linhas e colunas do arquivo \n",
    "docentes.shape"
   ]
  },
  {
   "cell_type": "code",
   "execution_count": 4,
   "metadata": {},
   "outputs": [
    {
     "data": {
      "text/html": [
       "<div>\n",
       "<style scoped>\n",
       "    .dataframe tbody tr th:only-of-type {\n",
       "        vertical-align: middle;\n",
       "    }\n",
       "\n",
       "    .dataframe tbody tr th {\n",
       "        vertical-align: top;\n",
       "    }\n",
       "\n",
       "    .dataframe thead th {\n",
       "        text-align: right;\n",
       "    }\n",
       "</style>\n",
       "<table border=\"1\" class=\"dataframe\">\n",
       "  <thead>\n",
       "    <tr style=\"text-align: right;\">\n",
       "      <th></th>\n",
       "      <th>NU_ANO_CENSO</th>\n",
       "      <th>CO_IES</th>\n",
       "      <th>TP_CATEGORIA_ADMINISTRATIVA</th>\n",
       "      <th>TP_ORGANIZACAO_ACADEMICA</th>\n",
       "      <th>CO_DOCENTE_IES</th>\n",
       "      <th>ID_DOCENTE</th>\n",
       "      <th>TP_SITUACAO</th>\n",
       "      <th>TP_ESCOLARIDADE</th>\n",
       "      <th>TP_REGIME_TRABALHO</th>\n",
       "      <th>TP_SEXO</th>\n",
       "      <th>...</th>\n",
       "      <th>IN_ATUACAO_GRAD_PRESENCIAL</th>\n",
       "      <th>IN_ATUACAO_POS_EAD</th>\n",
       "      <th>IN_ATUACAO_POS_PRESENCIAL</th>\n",
       "      <th>IN_ATUACAO_SEQUENCIAL</th>\n",
       "      <th>IN_ATUACAO_PESQUISA</th>\n",
       "      <th>IN_BOLSA_PESQUISA</th>\n",
       "      <th>IN_SUBSTITUTO</th>\n",
       "      <th>IN_EXERCICIO_DATA_REFERENCIA</th>\n",
       "      <th>IN_VISITANTE</th>\n",
       "      <th>TP_VISITANTE_IFES_VINCULO</th>\n",
       "    </tr>\n",
       "  </thead>\n",
       "  <tbody>\n",
       "    <tr>\n",
       "      <th>0</th>\n",
       "      <td>2019</td>\n",
       "      <td>1</td>\n",
       "      <td>1</td>\n",
       "      <td>1</td>\n",
       "      <td>1178692</td>\n",
       "      <td>EC5AA8E675AD29C50386820A3F3E9F97</td>\n",
       "      <td>1</td>\n",
       "      <td>5</td>\n",
       "      <td>1.0</td>\n",
       "      <td>2</td>\n",
       "      <td>...</td>\n",
       "      <td>1.0</td>\n",
       "      <td>0.0</td>\n",
       "      <td>1.0</td>\n",
       "      <td>0.0</td>\n",
       "      <td>1.0</td>\n",
       "      <td>1.0</td>\n",
       "      <td>0.0</td>\n",
       "      <td>1.0</td>\n",
       "      <td>0.0</td>\n",
       "      <td>NaN</td>\n",
       "    </tr>\n",
       "    <tr>\n",
       "      <th>1</th>\n",
       "      <td>2019</td>\n",
       "      <td>1</td>\n",
       "      <td>1</td>\n",
       "      <td>1</td>\n",
       "      <td>1178691</td>\n",
       "      <td>DDA849C5C6275470F9175628F502218E</td>\n",
       "      <td>1</td>\n",
       "      <td>4</td>\n",
       "      <td>1.0</td>\n",
       "      <td>2</td>\n",
       "      <td>...</td>\n",
       "      <td>1.0</td>\n",
       "      <td>0.0</td>\n",
       "      <td>0.0</td>\n",
       "      <td>0.0</td>\n",
       "      <td>1.0</td>\n",
       "      <td>0.0</td>\n",
       "      <td>0.0</td>\n",
       "      <td>1.0</td>\n",
       "      <td>0.0</td>\n",
       "      <td>NaN</td>\n",
       "    </tr>\n",
       "    <tr>\n",
       "      <th>2</th>\n",
       "      <td>2019</td>\n",
       "      <td>1</td>\n",
       "      <td>1</td>\n",
       "      <td>1</td>\n",
       "      <td>1178693</td>\n",
       "      <td>2FF35722D03A9C6459FB5470F17F6709</td>\n",
       "      <td>1</td>\n",
       "      <td>3</td>\n",
       "      <td>1.0</td>\n",
       "      <td>2</td>\n",
       "      <td>...</td>\n",
       "      <td>1.0</td>\n",
       "      <td>0.0</td>\n",
       "      <td>0.0</td>\n",
       "      <td>0.0</td>\n",
       "      <td>1.0</td>\n",
       "      <td>0.0</td>\n",
       "      <td>0.0</td>\n",
       "      <td>1.0</td>\n",
       "      <td>0.0</td>\n",
       "      <td>NaN</td>\n",
       "    </tr>\n",
       "    <tr>\n",
       "      <th>3</th>\n",
       "      <td>2019</td>\n",
       "      <td>1</td>\n",
       "      <td>1</td>\n",
       "      <td>1</td>\n",
       "      <td>1180431</td>\n",
       "      <td>C5AB8500E4EC686BFFF71870108EA10A</td>\n",
       "      <td>1</td>\n",
       "      <td>5</td>\n",
       "      <td>1.0</td>\n",
       "      <td>2</td>\n",
       "      <td>...</td>\n",
       "      <td>1.0</td>\n",
       "      <td>0.0</td>\n",
       "      <td>0.0</td>\n",
       "      <td>0.0</td>\n",
       "      <td>0.0</td>\n",
       "      <td>NaN</td>\n",
       "      <td>0.0</td>\n",
       "      <td>1.0</td>\n",
       "      <td>0.0</td>\n",
       "      <td>NaN</td>\n",
       "    </tr>\n",
       "    <tr>\n",
       "      <th>4</th>\n",
       "      <td>2019</td>\n",
       "      <td>1</td>\n",
       "      <td>1</td>\n",
       "      <td>1</td>\n",
       "      <td>1178686</td>\n",
       "      <td>60FD7BF0222B1B16D19D9E4E08D4178A</td>\n",
       "      <td>1</td>\n",
       "      <td>5</td>\n",
       "      <td>1.0</td>\n",
       "      <td>2</td>\n",
       "      <td>...</td>\n",
       "      <td>0.0</td>\n",
       "      <td>0.0</td>\n",
       "      <td>0.0</td>\n",
       "      <td>0.0</td>\n",
       "      <td>1.0</td>\n",
       "      <td>0.0</td>\n",
       "      <td>0.0</td>\n",
       "      <td>0.0</td>\n",
       "      <td>0.0</td>\n",
       "      <td>NaN</td>\n",
       "    </tr>\n",
       "  </tbody>\n",
       "</table>\n",
       "<p>5 rows × 41 columns</p>\n",
       "</div>"
      ],
      "text/plain": [
       "   NU_ANO_CENSO  CO_IES  TP_CATEGORIA_ADMINISTRATIVA  \\\n",
       "0          2019       1                            1   \n",
       "1          2019       1                            1   \n",
       "2          2019       1                            1   \n",
       "3          2019       1                            1   \n",
       "4          2019       1                            1   \n",
       "\n",
       "   TP_ORGANIZACAO_ACADEMICA  CO_DOCENTE_IES                        ID_DOCENTE  \\\n",
       "0                         1         1178692  EC5AA8E675AD29C50386820A3F3E9F97   \n",
       "1                         1         1178691  DDA849C5C6275470F9175628F502218E   \n",
       "2                         1         1178693  2FF35722D03A9C6459FB5470F17F6709   \n",
       "3                         1         1180431  C5AB8500E4EC686BFFF71870108EA10A   \n",
       "4                         1         1178686  60FD7BF0222B1B16D19D9E4E08D4178A   \n",
       "\n",
       "   TP_SITUACAO  TP_ESCOLARIDADE  TP_REGIME_TRABALHO  TP_SEXO  ...  \\\n",
       "0            1                5                 1.0        2  ...   \n",
       "1            1                4                 1.0        2  ...   \n",
       "2            1                3                 1.0        2  ...   \n",
       "3            1                5                 1.0        2  ...   \n",
       "4            1                5                 1.0        2  ...   \n",
       "\n",
       "   IN_ATUACAO_GRAD_PRESENCIAL  IN_ATUACAO_POS_EAD  IN_ATUACAO_POS_PRESENCIAL  \\\n",
       "0                         1.0                 0.0                        1.0   \n",
       "1                         1.0                 0.0                        0.0   \n",
       "2                         1.0                 0.0                        0.0   \n",
       "3                         1.0                 0.0                        0.0   \n",
       "4                         0.0                 0.0                        0.0   \n",
       "\n",
       "   IN_ATUACAO_SEQUENCIAL  IN_ATUACAO_PESQUISA  IN_BOLSA_PESQUISA  \\\n",
       "0                    0.0                  1.0                1.0   \n",
       "1                    0.0                  1.0                0.0   \n",
       "2                    0.0                  1.0                0.0   \n",
       "3                    0.0                  0.0                NaN   \n",
       "4                    0.0                  1.0                0.0   \n",
       "\n",
       "   IN_SUBSTITUTO  IN_EXERCICIO_DATA_REFERENCIA  IN_VISITANTE  \\\n",
       "0            0.0                           1.0           0.0   \n",
       "1            0.0                           1.0           0.0   \n",
       "2            0.0                           1.0           0.0   \n",
       "3            0.0                           1.0           0.0   \n",
       "4            0.0                           0.0           0.0   \n",
       "\n",
       "   TP_VISITANTE_IFES_VINCULO  \n",
       "0                        NaN  \n",
       "1                        NaN  \n",
       "2                        NaN  \n",
       "3                        NaN  \n",
       "4                        NaN  \n",
       "\n",
       "[5 rows x 41 columns]"
      ]
     },
     "execution_count": 4,
     "metadata": {},
     "output_type": "execute_result"
    }
   ],
   "source": [
    "docentes.head()"
   ]
  },
  {
   "cell_type": "code",
   "execution_count": 5,
   "metadata": {},
   "outputs": [],
   "source": [
    "# Selecionando somente as colunas necessárias descritas na documentação do trabalho: \n",
    "docentes = docentes[{'CO_IES','ID_DOCENTE','TP_ESCOLARIDADE','TP_SEXO','NU_IDADE',\n",
    "                'TP_COR_RACA','IN_DEFICIENCIA', 'TP_SITUACAO'}]"
   ]
  },
  {
   "cell_type": "code",
   "execution_count": 6,
   "metadata": {},
   "outputs": [
    {
     "data": {
      "text/plain": [
       "(399428, 8)"
      ]
     },
     "execution_count": 6,
     "metadata": {},
     "output_type": "execute_result"
    }
   ],
   "source": [
    "# Verificando novamente a quantidade de linhas e colunas do arquivo\n",
    "# após a seleção de somente as colunas necessárias\n",
    "docentes.shape"
   ]
  },
  {
   "cell_type": "code",
   "execution_count": 7,
   "metadata": {},
   "outputs": [
    {
     "data": {
      "text/plain": [
       "TP_COR_RACA         int64\n",
       "TP_SEXO             int64\n",
       "TP_ESCOLARIDADE     int64\n",
       "IN_DEFICIENCIA      int64\n",
       "CO_IES              int64\n",
       "ID_DOCENTE         object\n",
       "NU_IDADE            int64\n",
       "TP_SITUACAO         int64\n",
       "dtype: object"
      ]
     },
     "execution_count": 7,
     "metadata": {},
     "output_type": "execute_result"
    }
   ],
   "source": [
    "# Verificando o tipo de cada coluna\n",
    "docentes.dtypes"
   ]
  },
  {
   "cell_type": "markdown",
   "metadata": {},
   "source": [
    "# 3. Tratando os dados do dataset"
   ]
  },
  {
   "cell_type": "code",
   "execution_count": 8,
   "metadata": {},
   "outputs": [
    {
     "data": {
      "text/plain": [
       "TP_COR_RACA        0\n",
       "TP_SEXO            0\n",
       "TP_ESCOLARIDADE    0\n",
       "IN_DEFICIENCIA     0\n",
       "CO_IES             0\n",
       "ID_DOCENTE         0\n",
       "NU_IDADE           0\n",
       "TP_SITUACAO        0\n",
       "dtype: int64"
      ]
     },
     "execution_count": 8,
     "metadata": {},
     "output_type": "execute_result"
    }
   ],
   "source": [
    "## Verificando a quantidade de valores nulos por coluna\n",
    "docentes.isnull().sum()"
   ]
  },
  {
   "cell_type": "code",
   "execution_count": null,
   "metadata": {},
   "outputs": [],
   "source": [
    "# No arquivo do Censo, cada atributo está armazenado como número \n",
    "# então preciso fazer o tratamento desses dados conforme dicionário \n",
    "# também disponível no Censo "
   ]
  },
  {
   "cell_type": "code",
   "execution_count": 9,
   "metadata": {},
   "outputs": [],
   "source": [
    "# 1) Alterando o tipo dos dados int, para object (string)\n",
    "docentes['TP_SEXO'] = docentes['TP_SEXO'].apply(str)\n",
    "docentes['TP_COR_RACA'] = docentes['TP_COR_RACA'].apply(str)\n",
    "docentes['IN_DEFICIENCIA'] = docentes['IN_DEFICIENCIA'].apply(str)\n",
    "docentes['TP_ESCOLARIDADE'] = docentes['TP_ESCOLARIDADE'].apply(str)\n",
    "docentes['TP_SITUACAO'] = docentes['TP_SITUACAO'].apply(str)"
   ]
  },
  {
   "cell_type": "code",
   "execution_count": 10,
   "metadata": {},
   "outputs": [],
   "source": [
    "# Alterando os valores por suas respectivas categorias  \n",
    "# 2) TP_SEXO: 1: Feminino; 2: Masculino.  \n",
    "docentes.loc[docentes['TP_SEXO'] == '1', 'TP_SEXO'] = 'Feminino'\n",
    "docentes.loc[docentes['TP_SEXO'] == '2', 'TP_SEXO'] = 'Masculino'\n",
    "\n",
    "# 3) TP_COR_RACA: 0: Não quis declaradar; 1: Branca; 2: Preta; 3: Parda; 4: Amarela; 5: Indígena; 9: Sem informação. \n",
    "docentes.loc[docentes['TP_COR_RACA'] == '0', 'TP_COR_RACA'] = 'Não quis declarar'\n",
    "docentes.loc[docentes['TP_COR_RACA'] == '1', 'TP_COR_RACA'] = 'Branca'\n",
    "docentes.loc[docentes['TP_COR_RACA'] == '2', 'TP_COR_RACA'] = 'Preta'\n",
    "docentes.loc[docentes['TP_COR_RACA'] == '3', 'TP_COR_RACA'] = 'Parda'\n",
    "docentes.loc[docentes['TP_COR_RACA'] == '4', 'TP_COR_RACA'] = 'Amarela'\n",
    "docentes.loc[docentes['TP_COR_RACA'] == '5', 'TP_COR_RACA'] = 'Indígena'\n",
    "docentes.loc[docentes['TP_COR_RACA'] == '9', 'TP_COR_RACA'] = 'Sem informaçã'\n",
    "\n",
    "# 4) IN_DEFICIENCIA: 0: Não; 1:Sim; 9: Sem informação. \n",
    "docentes.loc[docentes['IN_DEFICIENCIA'] == '0', 'IN_DEFICIENCIA'] = 'Não'\n",
    "docentes.loc[docentes['IN_DEFICIENCIA'] == '1', 'IN_DEFICIENCIA'] = 'Sim'\n",
    "docentes.loc[docentes['IN_DEFICIENCIA'] == '9', 'IN_DEFICIENCIA'] = 'Sem informação'\n",
    "\n",
    "# 5) TP_ESCOLARIDADE: 1: Sem graduação; 2: Graduação; 3: Especialização; 4: Mestrado; 5: Doutorado. \n",
    "docentes.loc[docentes['TP_ESCOLARIDADE'] == '1', 'TP_ESCOLARIDADE'] = 'Sem graduação'\n",
    "docentes.loc[docentes['TP_ESCOLARIDADE'] == '2', 'TP_ESCOLARIDADE'] = 'Graduação'\n",
    "docentes.loc[docentes['TP_ESCOLARIDADE'] == '3', 'TP_ESCOLARIDADE'] = 'Especialização'\n",
    "docentes.loc[docentes['TP_ESCOLARIDADE'] == '4', 'TP_ESCOLARIDADE'] = 'Mestrado'\n",
    "docentes.loc[docentes['TP_ESCOLARIDADE'] == '5', 'TP_ESCOLARIDADE'] = 'Doutorado'\n",
    "\n",
    "# 5) TP_SITUACAO: 1: Em exercício; 2: Afastado para qualificação; 3: Afastado para exercício em outros órgãos/entidades;\n",
    "# 4: Afastado por outros motivos; 5:  Afastado para tratamento de saúde. 6. Falecido \n",
    "docentes.loc[docentes['TP_SITUACAO'] == '1', 'TP_SITUACAO'] = 'Em exercício'\n",
    "docentes.loc[docentes['TP_SITUACAO'] == '2', 'TP_SITUACAO'] = 'Afastado para qualificação'\n",
    "docentes.loc[docentes['TP_SITUACAO'] == '3', 'TP_SITUACAO'] = 'EAfastado para exercício em outros órgãos/entidades'\n",
    "docentes.loc[docentes['TP_SITUACAO'] == '4', 'TP_SITUACAO'] = 'Afastado por outros motivos'\n",
    "docentes.loc[docentes['TP_SITUACAO'] == '5', 'TP_SITUACAO'] = 'Afastado para tratamento de saúde'\n",
    "docentes.loc[docentes['TP_SITUACAO'] == '6', 'TP_SITUACAO'] = 'Falecido'"
   ]
  },
  {
   "cell_type": "code",
   "execution_count": 11,
   "metadata": {},
   "outputs": [
    {
     "data": {
      "text/html": [
       "<div>\n",
       "<style scoped>\n",
       "    .dataframe tbody tr th:only-of-type {\n",
       "        vertical-align: middle;\n",
       "    }\n",
       "\n",
       "    .dataframe tbody tr th {\n",
       "        vertical-align: top;\n",
       "    }\n",
       "\n",
       "    .dataframe thead th {\n",
       "        text-align: right;\n",
       "    }\n",
       "</style>\n",
       "<table border=\"1\" class=\"dataframe\">\n",
       "  <thead>\n",
       "    <tr style=\"text-align: right;\">\n",
       "      <th></th>\n",
       "      <th>TP_COR_RACA</th>\n",
       "      <th>TP_SEXO</th>\n",
       "      <th>TP_ESCOLARIDADE</th>\n",
       "      <th>IN_DEFICIENCIA</th>\n",
       "      <th>CO_IES</th>\n",
       "      <th>ID_DOCENTE</th>\n",
       "      <th>NU_IDADE</th>\n",
       "      <th>TP_SITUACAO</th>\n",
       "    </tr>\n",
       "  </thead>\n",
       "  <tbody>\n",
       "    <tr>\n",
       "      <th>0</th>\n",
       "      <td>Parda</td>\n",
       "      <td>Masculino</td>\n",
       "      <td>Doutorado</td>\n",
       "      <td>Não</td>\n",
       "      <td>1</td>\n",
       "      <td>EC5AA8E675AD29C50386820A3F3E9F97</td>\n",
       "      <td>67</td>\n",
       "      <td>Em exercício</td>\n",
       "    </tr>\n",
       "    <tr>\n",
       "      <th>1</th>\n",
       "      <td>Parda</td>\n",
       "      <td>Masculino</td>\n",
       "      <td>Mestrado</td>\n",
       "      <td>Não</td>\n",
       "      <td>1</td>\n",
       "      <td>DDA849C5C6275470F9175628F502218E</td>\n",
       "      <td>50</td>\n",
       "      <td>Em exercício</td>\n",
       "    </tr>\n",
       "    <tr>\n",
       "      <th>2</th>\n",
       "      <td>Amarela</td>\n",
       "      <td>Masculino</td>\n",
       "      <td>Especialização</td>\n",
       "      <td>Não</td>\n",
       "      <td>1</td>\n",
       "      <td>2FF35722D03A9C6459FB5470F17F6709</td>\n",
       "      <td>64</td>\n",
       "      <td>Em exercício</td>\n",
       "    </tr>\n",
       "    <tr>\n",
       "      <th>3</th>\n",
       "      <td>Branca</td>\n",
       "      <td>Masculino</td>\n",
       "      <td>Doutorado</td>\n",
       "      <td>Não</td>\n",
       "      <td>1</td>\n",
       "      <td>C5AB8500E4EC686BFFF71870108EA10A</td>\n",
       "      <td>54</td>\n",
       "      <td>Em exercício</td>\n",
       "    </tr>\n",
       "    <tr>\n",
       "      <th>4</th>\n",
       "      <td>Branca</td>\n",
       "      <td>Masculino</td>\n",
       "      <td>Doutorado</td>\n",
       "      <td>Não</td>\n",
       "      <td>1</td>\n",
       "      <td>60FD7BF0222B1B16D19D9E4E08D4178A</td>\n",
       "      <td>62</td>\n",
       "      <td>Em exercício</td>\n",
       "    </tr>\n",
       "  </tbody>\n",
       "</table>\n",
       "</div>"
      ],
      "text/plain": [
       "  TP_COR_RACA    TP_SEXO TP_ESCOLARIDADE IN_DEFICIENCIA  CO_IES  \\\n",
       "0       Parda  Masculino       Doutorado            Não       1   \n",
       "1       Parda  Masculino        Mestrado            Não       1   \n",
       "2     Amarela  Masculino  Especialização            Não       1   \n",
       "3      Branca  Masculino       Doutorado            Não       1   \n",
       "4      Branca  Masculino       Doutorado            Não       1   \n",
       "\n",
       "                         ID_DOCENTE  NU_IDADE   TP_SITUACAO  \n",
       "0  EC5AA8E675AD29C50386820A3F3E9F97        67  Em exercício  \n",
       "1  DDA849C5C6275470F9175628F502218E        50  Em exercício  \n",
       "2  2FF35722D03A9C6459FB5470F17F6709        64  Em exercício  \n",
       "3  C5AB8500E4EC686BFFF71870108EA10A        54  Em exercício  \n",
       "4  60FD7BF0222B1B16D19D9E4E08D4178A        62  Em exercício  "
      ]
     },
     "execution_count": 11,
     "metadata": {},
     "output_type": "execute_result"
    }
   ],
   "source": [
    "docentes.head()"
   ]
  },
  {
   "cell_type": "markdown",
   "metadata": {},
   "source": [
    "# 4. Análise dos dados de docentes"
   ]
  },
  {
   "cell_type": "code",
   "execution_count": 12,
   "metadata": {},
   "outputs": [
    {
     "name": "stdout",
     "output_type": "stream",
     "text": [
      "Quantidade de linhas:  399428\n",
      "Quantidade de colunas:  8\n"
     ]
    }
   ],
   "source": [
    "print(\"Quantidade de linhas: \", docentes.shape[0])\n",
    "print(\"Quantidade de colunas: \",docentes.shape[1])"
   ]
  },
  {
   "cell_type": "code",
   "execution_count": 13,
   "metadata": {},
   "outputs": [
    {
     "data": {
      "text/html": [
       "<div>\n",
       "<style scoped>\n",
       "    .dataframe tbody tr th:only-of-type {\n",
       "        vertical-align: middle;\n",
       "    }\n",
       "\n",
       "    .dataframe tbody tr th {\n",
       "        vertical-align: top;\n",
       "    }\n",
       "\n",
       "    .dataframe thead th {\n",
       "        text-align: right;\n",
       "    }\n",
       "</style>\n",
       "<table border=\"1\" class=\"dataframe\">\n",
       "  <thead>\n",
       "    <tr style=\"text-align: right;\">\n",
       "      <th></th>\n",
       "      <th>CO_IES</th>\n",
       "      <th>NU_IDADE</th>\n",
       "    </tr>\n",
       "  </thead>\n",
       "  <tbody>\n",
       "    <tr>\n",
       "      <th>count</th>\n",
       "      <td>399428.000000</td>\n",
       "      <td>399428.000000</td>\n",
       "    </tr>\n",
       "    <tr>\n",
       "      <th>mean</th>\n",
       "      <td>2320.429785</td>\n",
       "      <td>44.858067</td>\n",
       "    </tr>\n",
       "    <tr>\n",
       "      <th>std</th>\n",
       "      <td>4247.329425</td>\n",
       "      <td>10.938593</td>\n",
       "    </tr>\n",
       "    <tr>\n",
       "      <th>min</th>\n",
       "      <td>1.000000</td>\n",
       "      <td>20.000000</td>\n",
       "    </tr>\n",
       "    <tr>\n",
       "      <th>25%</th>\n",
       "      <td>409.000000</td>\n",
       "      <td>36.000000</td>\n",
       "    </tr>\n",
       "    <tr>\n",
       "      <th>50%</th>\n",
       "      <td>621.000000</td>\n",
       "      <td>43.000000</td>\n",
       "    </tr>\n",
       "    <tr>\n",
       "      <th>75%</th>\n",
       "      <td>1988.000000</td>\n",
       "      <td>53.000000</td>\n",
       "    </tr>\n",
       "    <tr>\n",
       "      <th>max</th>\n",
       "      <td>24672.000000</td>\n",
       "      <td>101.000000</td>\n",
       "    </tr>\n",
       "  </tbody>\n",
       "</table>\n",
       "</div>"
      ],
      "text/plain": [
       "              CO_IES       NU_IDADE\n",
       "count  399428.000000  399428.000000\n",
       "mean     2320.429785      44.858067\n",
       "std      4247.329425      10.938593\n",
       "min         1.000000      20.000000\n",
       "25%       409.000000      36.000000\n",
       "50%       621.000000      43.000000\n",
       "75%      1988.000000      53.000000\n",
       "max     24672.000000     101.000000"
      ]
     },
     "execution_count": 13,
     "metadata": {},
     "output_type": "execute_result"
    }
   ],
   "source": [
    "# Descrição dos dados\n",
    "docentes.describe()"
   ]
  },
  {
   "cell_type": "code",
   "execution_count": 14,
   "metadata": {},
   "outputs": [
    {
     "data": {
      "text/html": [
       "<div>\n",
       "<style scoped>\n",
       "    .dataframe tbody tr th:only-of-type {\n",
       "        vertical-align: middle;\n",
       "    }\n",
       "\n",
       "    .dataframe tbody tr th {\n",
       "        vertical-align: top;\n",
       "    }\n",
       "\n",
       "    .dataframe thead th {\n",
       "        text-align: right;\n",
       "    }\n",
       "</style>\n",
       "<table border=\"1\" class=\"dataframe\">\n",
       "  <thead>\n",
       "    <tr style=\"text-align: right;\">\n",
       "      <th></th>\n",
       "      <th>TP_COR_RACA</th>\n",
       "      <th>TP_SEXO</th>\n",
       "      <th>TP_ESCOLARIDADE</th>\n",
       "      <th>IN_DEFICIENCIA</th>\n",
       "      <th>CO_IES</th>\n",
       "      <th>ID_DOCENTE</th>\n",
       "      <th>NU_IDADE</th>\n",
       "      <th>TP_SITUACAO</th>\n",
       "    </tr>\n",
       "  </thead>\n",
       "  <tbody>\n",
       "    <tr>\n",
       "      <th>79706</th>\n",
       "      <td>Branca</td>\n",
       "      <td>Masculino</td>\n",
       "      <td>Doutorado</td>\n",
       "      <td>Não</td>\n",
       "      <td>322</td>\n",
       "      <td>6F9ED241CE7C947ABAB59D9BEB1B4D2B</td>\n",
       "      <td>101</td>\n",
       "      <td>Em exercício</td>\n",
       "    </tr>\n",
       "  </tbody>\n",
       "</table>\n",
       "</div>"
      ],
      "text/plain": [
       "      TP_COR_RACA    TP_SEXO TP_ESCOLARIDADE IN_DEFICIENCIA  CO_IES  \\\n",
       "79706      Branca  Masculino       Doutorado            Não     322   \n",
       "\n",
       "                             ID_DOCENTE  NU_IDADE   TP_SITUACAO  \n",
       "79706  6F9ED241CE7C947ABAB59D9BEB1B4D2B       101  Em exercício  "
      ]
     },
     "execution_count": 14,
     "metadata": {},
     "output_type": "execute_result"
    }
   ],
   "source": [
    "docentes.query(\"NU_IDADE == 101\")"
   ]
  },
  {
   "cell_type": "code",
   "execution_count": 15,
   "metadata": {},
   "outputs": [
    {
     "data": {
      "text/plain": [
       "Text(0.5, 1.0, 'Quantiade de docentes por sexo')"
      ]
     },
     "execution_count": 15,
     "metadata": {},
     "output_type": "execute_result"
    },
    {
     "data": {
      "image/png": "[encoded data removed]",
      "text/plain": [
       "<Figure size 1296x360 with 1 Axes>"
      ]
     },
     "metadata": {
      "needs_background": "light"
     },
     "output_type": "display_data"
    }
   ],
   "source": [
    "count = docentes[\"TP_SEXO\"].value_counts().values\n",
    "sexo = docentes[\"TP_SEXO\"].value_counts().index\n",
    "plt.figure(figsize = (18, 5))\n",
    "plt.subplot(1, 2, 1)\n",
    "plt.bar(sexo, count, ec = \"k\", alpha = .6, color = \"royalblue\")\n",
    "plt.xlabel(\"\")\n",
    "plt.title(\"Quantiade de docentes por sexo\")\n"
   ]
  },
  {
   "cell_type": "code",
   "execution_count": 16,
   "metadata": {},
   "outputs": [
    {
     "data": {
      "text/plain": [
       "Text(0.5, 1.0, 'Quantiade de docentes por escolaridade')"
      ]
     },
     "execution_count": 16,
     "metadata": {},
     "output_type": "execute_result"
    },
    {
     "data": {
      "image/png": "[encoded data removed]",
      "text/plain": [
       "<Figure size 1440x432 with 1 Axes>"
      ]
     },
     "metadata": {
      "needs_background": "light"
     },
     "output_type": "display_data"
    }
   ],
   "source": [
    "count = docentes[\"TP_ESCOLARIDADE\"].value_counts().values\n",
    "escolaridade = docentes[\"TP_ESCOLARIDADE\"].value_counts().index\n",
    "plt.figure(figsize = (20, 6))\n",
    "plt.subplot(1, 2, 1)\n",
    "plt.bar(escolaridade, count, ec = \"k\", alpha = .6, color = \"royalblue\")\n",
    "plt.xlabel(\"\")\n",
    "plt.title(\"Quantiade de docentes por escolaridade\")"
   ]
  },
  {
   "cell_type": "code",
   "execution_count": 17,
   "metadata": {
    "scrolled": false
   },
   "outputs": [
    {
     "data": {
      "text/plain": [
       "<matplotlib.axes._subplots.AxesSubplot at 0x7fc5a16386d0>"
      ]
     },
     "execution_count": 17,
     "metadata": {},
     "output_type": "execute_result"
    },
    {
     "data": {
      "image/png": "[encoded data removed]",
      "text/plain": [
       "<Figure size 792x504 with 1 Axes>"
      ]
     },
     "metadata": {
      "needs_background": "light"
     },
     "output_type": "display_data"
    }
   ],
   "source": [
    "plt.figure(figsize = (11,7))\n",
    "sns.histplot(docentes, x = \"NU_IDADE\")"
   ]
  },
  {
   "cell_type": "code",
   "execution_count": 18,
   "metadata": {},
   "outputs": [
    {
     "data": {
      "text/plain": [
       "Text(0.5, 1.0, 'Quantiade de docentes por situação na IES')"
      ]
     },
     "execution_count": 18,
     "metadata": {},
     "output_type": "execute_result"
    },
    {
     "data": {
      "image/png": "[encoded data removed]",
      "text/plain": [
       "<Figure size 2016x432 with 1 Axes>"
      ]
     },
     "metadata": {
      "needs_background": "light"
     },
     "output_type": "display_data"
    }
   ],
   "source": [
    "count = docentes[\"TP_SITUACAO\"].value_counts().values\n",
    "situacao = docentes[\"TP_SITUACAO\"].value_counts().index\n",
    "plt.figure(figsize = (28, 6))\n",
    "plt.subplot(1, 2, 1)\n",
    "plt.bar(situacao, count, ec = \"k\", alpha = .6, color = \"royalblue\")\n",
    "plt.xlabel(\"\")\n",
    "plt.title(\"Quantiade de docentes por situação na IES\")"
   ]
  },
  {
   "cell_type": "code",
   "execution_count": 19,
   "metadata": {},
   "outputs": [
    {
     "name": "stdout",
     "output_type": "stream",
     "text": [
      "Quantidade de professores: \n"
     ]
    },
    {
     "data": {
      "text/plain": [
       "351583"
      ]
     },
     "execution_count": 19,
     "metadata": {},
     "output_type": "execute_result"
    }
   ],
   "source": [
    "print(\"Quantidade de professores: \")\n",
    "len(docentes[\"ID_DOCENTE\"].unique())"
   ]
  },
  {
   "cell_type": "markdown",
   "metadata": {},
   "source": [
    "# 5. Envio dos dados para o mongoDB"
   ]
  },
  {
   "cell_type": "code",
   "execution_count": 20,
   "metadata": {},
   "outputs": [],
   "source": [
    "# Criando a conexão com o mongoDB\n",
    "client = pym.MongoClient('mongodb://localhost:27017/')\n",
    "\n",
    "# Acessando a base de dados criada para o teste\n",
    "db = client['censo']\n",
    "\n",
    "# Acessando a coleção curso dentro da base de dados censo  \n",
    "collection_docente =  db['docente']"
   ]
  },
  {
   "cell_type": "code",
   "execution_count": 21,
   "metadata": {},
   "outputs": [],
   "source": [
    "# Transformando o DataSet dos cursos em um dicionario com o objetivo\n",
    "# de salvar ele no MongoDB, pois o banco não aceita estruturas do tipo DataFrame\n",
    "docente_dict = docentes.to_dict('records')"
   ]
  },
  {
   "cell_type": "code",
   "execution_count": 22,
   "metadata": {},
   "outputs": [
    {
     "data": {
      "text/plain": [
       "<pymongo.results.InsertManyResult at 0x7fc5730cc370>"
      ]
     },
     "execution_count": 22,
     "metadata": {},
     "output_type": "execute_result"
    }
   ],
   "source": [
    "# Enviando os dados para o MongoDB\n",
    "collection_docente.insert_many(docente_dict)"
   ]
  },
  {
   "cell_type": "code",
   "execution_count": null,
   "metadata": {},
   "outputs": [],
   "source": []
  }
 ],
 "metadata": {
  "kernelspec": {
   "display_name": "Python 3",
   "language": "python",
   "name": "python3"
  },
  "language_info": {
   "codemirror_mode": {
    "name": "ipython",
    "version": 3
   },
   "file_extension": ".py",
   "mimetype": "text/x-python",
   "name": "python",
   "nbconvert_exporter": "python",
   "pygments_lexer": "ipython3",
   "version": "3.7.6"
  }
 },
 "nbformat": 4,
 "nbformat_minor": 4
}
